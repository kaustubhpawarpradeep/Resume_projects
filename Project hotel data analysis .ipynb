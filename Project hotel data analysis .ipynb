{
 "cells": [
  {
   "cell_type": "markdown",
   "id": "081e86ab",
   "metadata": {},
   "source": [
    "<h2 align=\"center\">Data Analysis Project in Hospitality Sector<h2>"
   ]
  },
  {
   "cell_type": "markdown",
   "id": "6bf46c99",
   "metadata": {},
   "source": [
    " To make an informed decision on increasing revenue and market share by analysing data. "
   ]
  },
  {
   "cell_type": "code",
   "execution_count": 436,
   "id": "66bee9b0",
   "metadata": {
    "slideshow": {
     "slide_type": "-"
    }
   },
   "outputs": [],
   "source": [
    "import pandas as pd\n",
    "import matplotlib as plt"
   ]
  },
  {
   "cell_type": "markdown",
   "id": "32f1b16b",
   "metadata": {},
   "source": [
    "***\n",
    "### ==> 1. Data Import and Data Exploration\n",
    "***"
   ]
  },
  {
   "cell_type": "markdown",
   "id": "4bae69da",
   "metadata": {},
   "source": [
    "### Datasets\n",
    "We have 5 csv file \n",
    "\n",
    "   - dim_date.csv  \n",
    "   - dim_hotels.csv\n",
    "   - dim_rooms.csv\n",
    "   - fact_aggregated_bookings\n",
    "   - fact_bookings.csv"
   ]
  },
  {
   "cell_type": "markdown",
   "id": "395715dc",
   "metadata": {},
   "source": [
    "**Read bookings data in a dataframe**"
   ]
  },
  {
   "cell_type": "code",
   "execution_count": 437,
   "id": "824ff76d",
   "metadata": {},
   "outputs": [
    {
     "data": {
      "text/html": [
       "<div>\n",
       "<style scoped>\n",
       "    .dataframe tbody tr th:only-of-type {\n",
       "        vertical-align: middle;\n",
       "    }\n",
       "\n",
       "    .dataframe tbody tr th {\n",
       "        vertical-align: top;\n",
       "    }\n",
       "\n",
       "    .dataframe thead th {\n",
       "        text-align: right;\n",
       "    }\n",
       "</style>\n",
       "<table border=\"1\" class=\"dataframe\">\n",
       "  <thead>\n",
       "    <tr style=\"text-align: right;\">\n",
       "      <th></th>\n",
       "      <th>booking_id</th>\n",
       "      <th>property_id</th>\n",
       "      <th>booking_date</th>\n",
       "      <th>check_in_date</th>\n",
       "      <th>checkout_date</th>\n",
       "      <th>no_guests</th>\n",
       "      <th>room_category</th>\n",
       "      <th>booking_platform</th>\n",
       "      <th>ratings_given</th>\n",
       "      <th>booking_status</th>\n",
       "      <th>revenue_generated</th>\n",
       "      <th>revenue_realized</th>\n",
       "    </tr>\n",
       "  </thead>\n",
       "  <tbody>\n",
       "    <tr>\n",
       "      <th>0</th>\n",
       "      <td>May012216558RT11</td>\n",
       "      <td>16558</td>\n",
       "      <td>27-04-22</td>\n",
       "      <td>1/5/2022</td>\n",
       "      <td>2/5/2022</td>\n",
       "      <td>-3.0</td>\n",
       "      <td>RT1</td>\n",
       "      <td>direct online</td>\n",
       "      <td>1.0</td>\n",
       "      <td>Checked Out</td>\n",
       "      <td>10010</td>\n",
       "      <td>10010</td>\n",
       "    </tr>\n",
       "    <tr>\n",
       "      <th>1</th>\n",
       "      <td>May012216558RT12</td>\n",
       "      <td>16558</td>\n",
       "      <td>30-04-22</td>\n",
       "      <td>1/5/2022</td>\n",
       "      <td>2/5/2022</td>\n",
       "      <td>2.0</td>\n",
       "      <td>RT1</td>\n",
       "      <td>others</td>\n",
       "      <td>NaN</td>\n",
       "      <td>Cancelled</td>\n",
       "      <td>9100</td>\n",
       "      <td>3640</td>\n",
       "    </tr>\n",
       "    <tr>\n",
       "      <th>2</th>\n",
       "      <td>May012216558RT13</td>\n",
       "      <td>16558</td>\n",
       "      <td>28-04-22</td>\n",
       "      <td>1/5/2022</td>\n",
       "      <td>4/5/2022</td>\n",
       "      <td>2.0</td>\n",
       "      <td>RT1</td>\n",
       "      <td>logtrip</td>\n",
       "      <td>5.0</td>\n",
       "      <td>Checked Out</td>\n",
       "      <td>9100000</td>\n",
       "      <td>9100</td>\n",
       "    </tr>\n",
       "    <tr>\n",
       "      <th>3</th>\n",
       "      <td>May012216558RT14</td>\n",
       "      <td>16558</td>\n",
       "      <td>28-04-22</td>\n",
       "      <td>1/5/2022</td>\n",
       "      <td>2/5/2022</td>\n",
       "      <td>-2.0</td>\n",
       "      <td>RT1</td>\n",
       "      <td>others</td>\n",
       "      <td>NaN</td>\n",
       "      <td>Cancelled</td>\n",
       "      <td>9100</td>\n",
       "      <td>3640</td>\n",
       "    </tr>\n",
       "    <tr>\n",
       "      <th>4</th>\n",
       "      <td>May012216558RT15</td>\n",
       "      <td>16558</td>\n",
       "      <td>27-04-22</td>\n",
       "      <td>1/5/2022</td>\n",
       "      <td>2/5/2022</td>\n",
       "      <td>4.0</td>\n",
       "      <td>RT1</td>\n",
       "      <td>direct online</td>\n",
       "      <td>5.0</td>\n",
       "      <td>Checked Out</td>\n",
       "      <td>10920</td>\n",
       "      <td>10920</td>\n",
       "    </tr>\n",
       "  </tbody>\n",
       "</table>\n",
       "</div>"
      ],
      "text/plain": [
       "         booking_id  property_id booking_date check_in_date checkout_date  \\\n",
       "0  May012216558RT11        16558     27-04-22      1/5/2022      2/5/2022   \n",
       "1  May012216558RT12        16558     30-04-22      1/5/2022      2/5/2022   \n",
       "2  May012216558RT13        16558     28-04-22      1/5/2022      4/5/2022   \n",
       "3  May012216558RT14        16558     28-04-22      1/5/2022      2/5/2022   \n",
       "4  May012216558RT15        16558     27-04-22      1/5/2022      2/5/2022   \n",
       "\n",
       "   no_guests room_category booking_platform  ratings_given booking_status  \\\n",
       "0       -3.0           RT1    direct online            1.0    Checked Out   \n",
       "1        2.0           RT1           others            NaN      Cancelled   \n",
       "2        2.0           RT1          logtrip            5.0    Checked Out   \n",
       "3       -2.0           RT1           others            NaN      Cancelled   \n",
       "4        4.0           RT1    direct online            5.0    Checked Out   \n",
       "\n",
       "   revenue_generated  revenue_realized  \n",
       "0              10010             10010  \n",
       "1               9100              3640  \n",
       "2            9100000              9100  \n",
       "3               9100              3640  \n",
       "4              10920             10920  "
      ]
     },
     "execution_count": 437,
     "metadata": {},
     "output_type": "execute_result"
    }
   ],
   "source": [
    "df_bookings=pd.read_csv('D:/JOB/codebasics_python_course/source-code/3_project_hospitality_analysis/datasets/fact_bookings.csv')\n",
    "df_bookings.head(5)"
   ]
  },
  {
   "cell_type": "markdown",
   "id": "ae5ee5cf",
   "metadata": {},
   "source": [
    "**Explore bookings data**"
   ]
  },
  {
   "cell_type": "code",
   "execution_count": 438,
   "id": "2860523d",
   "metadata": {},
   "outputs": [
    {
     "data": {
      "text/plain": [
       "(134590, 12)"
      ]
     },
     "execution_count": 438,
     "metadata": {},
     "output_type": "execute_result"
    }
   ],
   "source": [
    "df_bookings.shape"
   ]
  },
  {
   "cell_type": "code",
   "execution_count": 439,
   "id": "38a24a42",
   "metadata": {},
   "outputs": [
    {
     "data": {
      "text/plain": [
       "array(['RT1', 'RT2', 'RT3', 'RT4'], dtype=object)"
      ]
     },
     "execution_count": 439,
     "metadata": {},
     "output_type": "execute_result"
    }
   ],
   "source": [
    "df_bookings.room_category.unique()"
   ]
  },
  {
   "cell_type": "markdown",
   "id": "d4509c5e",
   "metadata": {},
   "source": [
    "*Data shows there are 4 different categories of rooms*"
   ]
  },
  {
   "cell_type": "code",
   "execution_count": 440,
   "id": "17c5b0a1",
   "metadata": {},
   "outputs": [
    {
     "data": {
      "text/plain": [
       "array(['direct online', 'others', 'logtrip', 'tripster', 'makeyourtrip',\n",
       "       'journey', 'direct offline'], dtype=object)"
      ]
     },
     "execution_count": 440,
     "metadata": {},
     "output_type": "execute_result"
    }
   ],
   "source": [
    "df_bookings.booking_platform.unique()"
   ]
  },
  {
   "cell_type": "code",
   "execution_count": 441,
   "id": "3859b633",
   "metadata": {},
   "outputs": [
    {
     "data": {
      "text/plain": [
       "booking_platform\n",
       "direct offline     6755\n",
       "journey            8106\n",
       "tripster           9630\n",
       "direct online     13379\n",
       "logtrip           14756\n",
       "makeyourtrip      26898\n",
       "others            55066\n",
       "Name: count, dtype: int64"
      ]
     },
     "execution_count": 441,
     "metadata": {},
     "output_type": "execute_result"
    }
   ],
   "source": [
    "df_bookings.booking_platform.value_counts().sort_values()"
   ]
  },
  {
   "cell_type": "code",
   "execution_count": 445,
   "id": "53dec98c",
   "metadata": {},
   "outputs": [
    {
     "data": {
      "text/plain": [
       "<Axes: title={'center': 'Bookings through various platform'}>"
      ]
     },
     "execution_count": 445,
     "metadata": {},
     "output_type": "execute_result"
    },
    {
     "data": {
      "image/png": "[encoded data removed]",
      "text/plain": [
       "<Figure size 640x480 with 1 Axes>"
      ]
     },
     "metadata": {},
     "output_type": "display_data"
    }
   ],
   "source": [
    "df_bookings.booking_platform.value_counts().plot(kind=\"pie\",ylabel=\"\",title=\"Bookings through various platform\",autopct='%1.1f%%')"
   ]
  },
  {
   "cell_type": "code",
   "execution_count": 446,
   "id": "0c747a7e",
   "metadata": {},
   "outputs": [
    {
     "data": {
      "text/html": [
       "<div>\n",
       "<style scoped>\n",
       "    .dataframe tbody tr th:only-of-type {\n",
       "        vertical-align: middle;\n",
       "    }\n",
       "\n",
       "    .dataframe tbody tr th {\n",
       "        vertical-align: top;\n",
       "    }\n",
       "\n",
       "    .dataframe thead th {\n",
       "        text-align: right;\n",
       "    }\n",
       "</style>\n",
       "<table border=\"1\" class=\"dataframe\">\n",
       "  <thead>\n",
       "    <tr style=\"text-align: right;\">\n",
       "      <th></th>\n",
       "      <th>property_id</th>\n",
       "      <th>no_guests</th>\n",
       "      <th>ratings_given</th>\n",
       "      <th>revenue_generated</th>\n",
       "      <th>revenue_realized</th>\n",
       "    </tr>\n",
       "  </thead>\n",
       "  <tbody>\n",
       "    <tr>\n",
       "      <th>count</th>\n",
       "      <td>134590.000000</td>\n",
       "      <td>134587.000000</td>\n",
       "      <td>56683.000000</td>\n",
       "      <td>1.345900e+05</td>\n",
       "      <td>134590.000000</td>\n",
       "    </tr>\n",
       "    <tr>\n",
       "      <th>mean</th>\n",
       "      <td>18061.113493</td>\n",
       "      <td>2.036170</td>\n",
       "      <td>3.619004</td>\n",
       "      <td>1.537805e+04</td>\n",
       "      <td>12696.123256</td>\n",
       "    </tr>\n",
       "    <tr>\n",
       "      <th>std</th>\n",
       "      <td>1093.055847</td>\n",
       "      <td>1.034885</td>\n",
       "      <td>1.235009</td>\n",
       "      <td>9.303604e+04</td>\n",
       "      <td>6928.108124</td>\n",
       "    </tr>\n",
       "    <tr>\n",
       "      <th>min</th>\n",
       "      <td>16558.000000</td>\n",
       "      <td>-17.000000</td>\n",
       "      <td>1.000000</td>\n",
       "      <td>6.500000e+03</td>\n",
       "      <td>2600.000000</td>\n",
       "    </tr>\n",
       "    <tr>\n",
       "      <th>25%</th>\n",
       "      <td>17558.000000</td>\n",
       "      <td>1.000000</td>\n",
       "      <td>3.000000</td>\n",
       "      <td>9.900000e+03</td>\n",
       "      <td>7600.000000</td>\n",
       "    </tr>\n",
       "    <tr>\n",
       "      <th>50%</th>\n",
       "      <td>17564.000000</td>\n",
       "      <td>2.000000</td>\n",
       "      <td>4.000000</td>\n",
       "      <td>1.350000e+04</td>\n",
       "      <td>11700.000000</td>\n",
       "    </tr>\n",
       "    <tr>\n",
       "      <th>75%</th>\n",
       "      <td>18563.000000</td>\n",
       "      <td>2.000000</td>\n",
       "      <td>5.000000</td>\n",
       "      <td>1.800000e+04</td>\n",
       "      <td>15300.000000</td>\n",
       "    </tr>\n",
       "    <tr>\n",
       "      <th>max</th>\n",
       "      <td>19563.000000</td>\n",
       "      <td>6.000000</td>\n",
       "      <td>5.000000</td>\n",
       "      <td>2.856000e+07</td>\n",
       "      <td>45220.000000</td>\n",
       "    </tr>\n",
       "  </tbody>\n",
       "</table>\n",
       "</div>"
      ],
      "text/plain": [
       "         property_id      no_guests  ratings_given  revenue_generated  \\\n",
       "count  134590.000000  134587.000000   56683.000000       1.345900e+05   \n",
       "mean    18061.113493       2.036170       3.619004       1.537805e+04   \n",
       "std      1093.055847       1.034885       1.235009       9.303604e+04   \n",
       "min     16558.000000     -17.000000       1.000000       6.500000e+03   \n",
       "25%     17558.000000       1.000000       3.000000       9.900000e+03   \n",
       "50%     17564.000000       2.000000       4.000000       1.350000e+04   \n",
       "75%     18563.000000       2.000000       5.000000       1.800000e+04   \n",
       "max     19563.000000       6.000000       5.000000       2.856000e+07   \n",
       "\n",
       "       revenue_realized  \n",
       "count     134590.000000  \n",
       "mean       12696.123256  \n",
       "std         6928.108124  \n",
       "min         2600.000000  \n",
       "25%         7600.000000  \n",
       "50%        11700.000000  \n",
       "75%        15300.000000  \n",
       "max        45220.000000  "
      ]
     },
     "execution_count": 446,
     "metadata": {},
     "output_type": "execute_result"
    }
   ],
   "source": [
    "df_bookings.describe()\n"
   ]
  },
  {
   "cell_type": "code",
   "execution_count": 447,
   "id": "b628936c",
   "metadata": {},
   "outputs": [
    {
     "data": {
      "text/plain": [
       "(6500, 28560000)"
      ]
     },
     "execution_count": 447,
     "metadata": {},
     "output_type": "execute_result"
    }
   ],
   "source": [
    "df_bookings.revenue_generated.min(),df_bookings.revenue_generated.max()"
   ]
  },
  {
   "cell_type": "markdown",
   "id": "67f1463e",
   "metadata": {},
   "source": [
    "*maximum revenue generated is abnormally high*"
   ]
  },
  {
   "cell_type": "code",
   "execution_count": 448,
   "id": "fb3973e3",
   "metadata": {},
   "outputs": [
    {
     "data": {
      "text/plain": [
       "array([ 1., nan,  5.,  4.,  3.,  2.])"
      ]
     },
     "execution_count": 448,
     "metadata": {},
     "output_type": "execute_result"
    }
   ],
   "source": [
    "df_bookings.ratings_given.unique()"
   ]
  },
  {
   "cell_type": "markdown",
   "id": "5357cd57",
   "metadata": {},
   "source": [
    "**Read Other Data sets**"
   ]
  },
  {
   "cell_type": "code",
   "execution_count": 299,
   "id": "11fde9ea",
   "metadata": {},
   "outputs": [],
   "source": [
    "df_date=pd.read_csv('D:/JOB/codebasics_python_course/source-code/3_project_hospitality_analysis/datasets/dim_date.csv')\n",
    "df_hotels=pd.read_csv('D:/JOB/codebasics_python_course/source-code/3_project_hospitality_analysis/datasets/dim_hotels.csv')\n",
    "df_rooms=pd.read_csv('D:/JOB/codebasics_python_course/source-code/3_project_hospitality_analysis/datasets/dim_rooms.csv')\n",
    "df_agg_bookings=pd.read_csv('D:/JOB/codebasics_python_course/source-code/3_project_hospitality_analysis/datasets/fact_aggregated_bookings.csv')"
   ]
  },
  {
   "cell_type": "markdown",
   "id": "b3115d3c",
   "metadata": {},
   "source": [
    "**Explore hotels dataset**"
   ]
  },
  {
   "cell_type": "code",
   "execution_count": 300,
   "id": "e4485913",
   "metadata": {},
   "outputs": [
    {
     "data": {
      "text/plain": [
       "(25, 4)"
      ]
     },
     "execution_count": 300,
     "metadata": {},
     "output_type": "execute_result"
    }
   ],
   "source": [
    "df_hotels.shape"
   ]
  },
  {
   "cell_type": "code",
   "execution_count": 301,
   "id": "4ac5152a",
   "metadata": {},
   "outputs": [
    {
     "data": {
      "text/html": [
       "<div>\n",
       "<style scoped>\n",
       "    .dataframe tbody tr th:only-of-type {\n",
       "        vertical-align: middle;\n",
       "    }\n",
       "\n",
       "    .dataframe tbody tr th {\n",
       "        vertical-align: top;\n",
       "    }\n",
       "\n",
       "    .dataframe thead th {\n",
       "        text-align: right;\n",
       "    }\n",
       "</style>\n",
       "<table border=\"1\" class=\"dataframe\">\n",
       "  <thead>\n",
       "    <tr style=\"text-align: right;\">\n",
       "      <th></th>\n",
       "      <th>property_id</th>\n",
       "      <th>property_name</th>\n",
       "      <th>category</th>\n",
       "      <th>city</th>\n",
       "    </tr>\n",
       "  </thead>\n",
       "  <tbody>\n",
       "    <tr>\n",
       "      <th>0</th>\n",
       "      <td>16558</td>\n",
       "      <td>Atliq Grands</td>\n",
       "      <td>Luxury</td>\n",
       "      <td>Delhi</td>\n",
       "    </tr>\n",
       "    <tr>\n",
       "      <th>1</th>\n",
       "      <td>16559</td>\n",
       "      <td>Atliq Exotica</td>\n",
       "      <td>Luxury</td>\n",
       "      <td>Mumbai</td>\n",
       "    </tr>\n",
       "    <tr>\n",
       "      <th>2</th>\n",
       "      <td>16560</td>\n",
       "      <td>Atliq City</td>\n",
       "      <td>Business</td>\n",
       "      <td>Delhi</td>\n",
       "    </tr>\n",
       "    <tr>\n",
       "      <th>3</th>\n",
       "      <td>16561</td>\n",
       "      <td>Atliq Blu</td>\n",
       "      <td>Luxury</td>\n",
       "      <td>Delhi</td>\n",
       "    </tr>\n",
       "    <tr>\n",
       "      <th>4</th>\n",
       "      <td>16562</td>\n",
       "      <td>Atliq Bay</td>\n",
       "      <td>Luxury</td>\n",
       "      <td>Delhi</td>\n",
       "    </tr>\n",
       "  </tbody>\n",
       "</table>\n",
       "</div>"
      ],
      "text/plain": [
       "   property_id  property_name  category    city\n",
       "0        16558   Atliq Grands    Luxury   Delhi\n",
       "1        16559  Atliq Exotica    Luxury  Mumbai\n",
       "2        16560     Atliq City  Business   Delhi\n",
       "3        16561      Atliq Blu    Luxury   Delhi\n",
       "4        16562      Atliq Bay    Luxury   Delhi"
      ]
     },
     "execution_count": 301,
     "metadata": {},
     "output_type": "execute_result"
    }
   ],
   "source": [
    "df_hotels.head(5)"
   ]
  },
  {
   "cell_type": "code",
   "execution_count": 302,
   "id": "c3acc507",
   "metadata": {},
   "outputs": [
    {
     "data": {
      "text/plain": [
       "category\n",
       "Luxury      16\n",
       "Business     9\n",
       "Name: count, dtype: int64"
      ]
     },
     "execution_count": 302,
     "metadata": {},
     "output_type": "execute_result"
    }
   ],
   "source": [
    "df_hotels.category.value_counts()"
   ]
  },
  {
   "cell_type": "code",
   "execution_count": 303,
   "id": "6927f72f",
   "metadata": {},
   "outputs": [
    {
     "data": {
      "text/plain": [
       "<Axes: title={'center': 'Hotels across cities'}, xlabel='number of hotels', ylabel='city'>"
      ]
     },
     "execution_count": 303,
     "metadata": {},
     "output_type": "execute_result"
    },
    {
     "data": {
      "image/png": "[encoded data removed]",
      "text/plain": [
       "<Figure size 640x480 with 1 Axes>"
      ]
     },
     "metadata": {},
     "output_type": "display_data"
    }
   ],
   "source": [
    "df_hotels.city.value_counts().sort_values().plot(kind=\"barh\",xlabel='number of hotels',title=\"Hotels across cities\")"
   ]
  },
  {
   "cell_type": "code",
   "execution_count": 304,
   "id": "40edc9c9",
   "metadata": {},
   "outputs": [
    {
     "data": {
      "text/plain": [
       "city       category\n",
       "Bangalore  Luxury      4\n",
       "           Business    2\n",
       "Delhi      Luxury      3\n",
       "           Business    2\n",
       "Hyderabad  Luxury      4\n",
       "           Business    2\n",
       "Mumbai     Luxury      5\n",
       "           Business    3\n",
       "Name: count, dtype: int64"
      ]
     },
     "execution_count": 304,
     "metadata": {},
     "output_type": "execute_result"
    }
   ],
   "source": [
    "df_hotels.groupby(\"city\")[\"category\"].value_counts()"
   ]
  },
  {
   "cell_type": "code",
   "execution_count": 305,
   "id": "003abc15",
   "metadata": {},
   "outputs": [
    {
     "data": {
      "text/plain": [
       "Text(0.5, 1.0, 'Count of Hotel Categories by City')"
      ]
     },
     "execution_count": 305,
     "metadata": {},
     "output_type": "execute_result"
    },
    {
     "data": {
      "image/png": "[encoded data removed]",
      "text/plain": [
       "<Figure size 600x400 with 1 Axes>"
      ]
     },
     "metadata": {},
     "output_type": "display_data"
    }
   ],
   "source": [
    "#plot \n",
    "grouped_data = df_hotels.groupby(\"city\")[\"category\"].value_counts().unstack()\n",
    "\n",
    "ax = grouped_data.plot(kind='bar', figsize=(6,4))\n",
    "ax.set_ylabel('Count')\n",
    "ax.set_xlabel('City')\n",
    "ax.set_title('Count of Hotel Categories by City')"
   ]
  },
  {
   "cell_type": "markdown",
   "id": "2425bc4d",
   "metadata": {},
   "source": [
    "**Explore aggregate bookings dataset**"
   ]
  },
  {
   "cell_type": "code",
   "execution_count": 306,
   "id": "090bcc3f",
   "metadata": {},
   "outputs": [
    {
     "data": {
      "text/html": [
       "<div>\n",
       "<style scoped>\n",
       "    .dataframe tbody tr th:only-of-type {\n",
       "        vertical-align: middle;\n",
       "    }\n",
       "\n",
       "    .dataframe tbody tr th {\n",
       "        vertical-align: top;\n",
       "    }\n",
       "\n",
       "    .dataframe thead th {\n",
       "        text-align: right;\n",
       "    }\n",
       "</style>\n",
       "<table border=\"1\" class=\"dataframe\">\n",
       "  <thead>\n",
       "    <tr style=\"text-align: right;\">\n",
       "      <th></th>\n",
       "      <th>property_id</th>\n",
       "      <th>check_in_date</th>\n",
       "      <th>room_category</th>\n",
       "      <th>successful_bookings</th>\n",
       "      <th>capacity</th>\n",
       "    </tr>\n",
       "  </thead>\n",
       "  <tbody>\n",
       "    <tr>\n",
       "      <th>0</th>\n",
       "      <td>16559</td>\n",
       "      <td>1-May-22</td>\n",
       "      <td>RT1</td>\n",
       "      <td>25</td>\n",
       "      <td>30.0</td>\n",
       "    </tr>\n",
       "    <tr>\n",
       "      <th>1</th>\n",
       "      <td>19562</td>\n",
       "      <td>1-May-22</td>\n",
       "      <td>RT1</td>\n",
       "      <td>28</td>\n",
       "      <td>30.0</td>\n",
       "    </tr>\n",
       "    <tr>\n",
       "      <th>2</th>\n",
       "      <td>19563</td>\n",
       "      <td>1-May-22</td>\n",
       "      <td>RT1</td>\n",
       "      <td>23</td>\n",
       "      <td>30.0</td>\n",
       "    </tr>\n",
       "    <tr>\n",
       "      <th>3</th>\n",
       "      <td>17558</td>\n",
       "      <td>1-May-22</td>\n",
       "      <td>RT1</td>\n",
       "      <td>30</td>\n",
       "      <td>19.0</td>\n",
       "    </tr>\n",
       "    <tr>\n",
       "      <th>4</th>\n",
       "      <td>16558</td>\n",
       "      <td>1-May-22</td>\n",
       "      <td>RT1</td>\n",
       "      <td>18</td>\n",
       "      <td>19.0</td>\n",
       "    </tr>\n",
       "  </tbody>\n",
       "</table>\n",
       "</div>"
      ],
      "text/plain": [
       "   property_id check_in_date room_category  successful_bookings  capacity\n",
       "0        16559      1-May-22           RT1                   25      30.0\n",
       "1        19562      1-May-22           RT1                   28      30.0\n",
       "2        19563      1-May-22           RT1                   23      30.0\n",
       "3        17558      1-May-22           RT1                   30      19.0\n",
       "4        16558      1-May-22           RT1                   18      19.0"
      ]
     },
     "execution_count": 306,
     "metadata": {},
     "output_type": "execute_result"
    }
   ],
   "source": [
    "df_agg_bookings.head(5)"
   ]
  },
  {
   "cell_type": "code",
   "execution_count": 307,
   "id": "79282f91",
   "metadata": {},
   "outputs": [
    {
     "data": {
      "text/plain": [
       "(9200, 5)"
      ]
     },
     "execution_count": 307,
     "metadata": {},
     "output_type": "execute_result"
    }
   ],
   "source": [
    "df_agg_bookings.shape"
   ]
  },
  {
   "cell_type": "code",
   "execution_count": 308,
   "id": "174b7b43",
   "metadata": {},
   "outputs": [
    {
     "data": {
      "text/plain": [
       "25"
      ]
     },
     "execution_count": 308,
     "metadata": {},
     "output_type": "execute_result"
    }
   ],
   "source": [
    "df_agg_bookings.property_id.nunique()         #unique property ids"
   ]
  },
  {
   "cell_type": "code",
   "execution_count": 309,
   "id": "959d897d",
   "metadata": {},
   "outputs": [
    {
     "data": {
      "text/plain": [
       "property_id\n",
       "16558    3153\n",
       "16559    7338\n",
       "16560    4693\n",
       "16561    4418\n",
       "16562    4820\n",
       "16563    7211\n",
       "17558    5053\n",
       "17559    6142\n",
       "17560    6013\n",
       "17561    5183\n",
       "17562    3424\n",
       "17563    6337\n",
       "17564    3982\n",
       "18558    4475\n",
       "18559    5256\n",
       "18560    6638\n",
       "18561    6458\n",
       "18562    7333\n",
       "18563    4737\n",
       "19558    4400\n",
       "19559    4729\n",
       "19560    6079\n",
       "19561    5736\n",
       "19562    5812\n",
       "19563    5413\n",
       "Name: successful_bookings, dtype: int64"
      ]
     },
     "execution_count": 309,
     "metadata": {},
     "output_type": "execute_result"
    }
   ],
   "source": [
    "# total bookings per property_id\n",
    "df_grp_prperty = df_agg_bookings.groupby(\"property_id\")[\"successful_bookings\"].sum()\n",
    "df_grp_prperty"
   ]
  },
  {
   "cell_type": "code",
   "execution_count": 310,
   "id": "2e506217",
   "metadata": {
    "scrolled": false
   },
   "outputs": [
    {
     "data": {
      "text/plain": [
       "<Axes: title={'center': 'number of successful bookings'}, xlabel='property_id', ylabel='successful bookings'>"
      ]
     },
     "execution_count": 310,
     "metadata": {},
     "output_type": "execute_result"
    },
    {
     "data": {
      "image/png": "[encoded data removed]",
      "text/plain": [
       "<Figure size 1000x500 with 1 Axes>"
      ]
     },
     "metadata": {},
     "output_type": "display_data"
    }
   ],
   "source": [
    "df_grp_prperty.sort_values(ascending = False).plot(kind=\"bar\",figsize=(10,5),ylabel=\"successful bookings\",title=\"number of successful bookings\")"
   ]
  },
  {
   "cell_type": "markdown",
   "id": "fc93e40f",
   "metadata": {},
   "source": [
    "*Top 3 properties with maxmum successful bookings*"
   ]
  },
  {
   "cell_type": "code",
   "execution_count": 311,
   "id": "897e3dcc",
   "metadata": {
    "scrolled": true
   },
   "outputs": [
    {
     "data": {
      "text/plain": [
       "property_id\n",
       "16559    7338\n",
       "18562    7333\n",
       "16563    7211\n",
       "Name: successful_bookings, dtype: int64"
      ]
     },
     "execution_count": 311,
     "metadata": {},
     "output_type": "execute_result"
    }
   ],
   "source": [
    "df_grp_prperty.sort_values(ascending = False).head(3)"
   ]
  },
  {
   "cell_type": "markdown",
   "id": "b7fb9077",
   "metadata": {},
   "source": [
    "*properties with minimum successful bookings*"
   ]
  },
  {
   "cell_type": "code",
   "execution_count": 312,
   "id": "8b8ec9f0",
   "metadata": {},
   "outputs": [
    {
     "data": {
      "text/plain": [
       "property_id\n",
       "17564    3982\n",
       "17562    3424\n",
       "16558    3153\n",
       "Name: successful_bookings, dtype: int64"
      ]
     },
     "execution_count": 312,
     "metadata": {},
     "output_type": "execute_result"
    }
   ],
   "source": [
    "df_grp_prperty.sort_values(ascending = False).tail(3)"
   ]
  },
  {
   "cell_type": "markdown",
   "id": "edb28ef4",
   "metadata": {},
   "source": [
    "*dates on which bookings are greater than capacity*"
   ]
  },
  {
   "cell_type": "code",
   "execution_count": 313,
   "id": "1eb57b2b",
   "metadata": {},
   "outputs": [
    {
     "data": {
      "text/html": [
       "<div>\n",
       "<style scoped>\n",
       "    .dataframe tbody tr th:only-of-type {\n",
       "        vertical-align: middle;\n",
       "    }\n",
       "\n",
       "    .dataframe tbody tr th {\n",
       "        vertical-align: top;\n",
       "    }\n",
       "\n",
       "    .dataframe thead th {\n",
       "        text-align: right;\n",
       "    }\n",
       "</style>\n",
       "<table border=\"1\" class=\"dataframe\">\n",
       "  <thead>\n",
       "    <tr style=\"text-align: right;\">\n",
       "      <th></th>\n",
       "      <th>property_id</th>\n",
       "      <th>check_in_date</th>\n",
       "      <th>room_category</th>\n",
       "      <th>successful_bookings</th>\n",
       "      <th>capacity</th>\n",
       "    </tr>\n",
       "  </thead>\n",
       "  <tbody>\n",
       "    <tr>\n",
       "      <th>3</th>\n",
       "      <td>17558</td>\n",
       "      <td>1-May-22</td>\n",
       "      <td>RT1</td>\n",
       "      <td>30</td>\n",
       "      <td>19.0</td>\n",
       "    </tr>\n",
       "    <tr>\n",
       "      <th>12</th>\n",
       "      <td>16563</td>\n",
       "      <td>1-May-22</td>\n",
       "      <td>RT1</td>\n",
       "      <td>100</td>\n",
       "      <td>41.0</td>\n",
       "    </tr>\n",
       "    <tr>\n",
       "      <th>4136</th>\n",
       "      <td>19558</td>\n",
       "      <td>11-Jun-22</td>\n",
       "      <td>RT2</td>\n",
       "      <td>50</td>\n",
       "      <td>39.0</td>\n",
       "    </tr>\n",
       "    <tr>\n",
       "      <th>6209</th>\n",
       "      <td>19560</td>\n",
       "      <td>2-Jul-22</td>\n",
       "      <td>RT1</td>\n",
       "      <td>123</td>\n",
       "      <td>26.0</td>\n",
       "    </tr>\n",
       "    <tr>\n",
       "      <th>8522</th>\n",
       "      <td>19559</td>\n",
       "      <td>25-Jul-22</td>\n",
       "      <td>RT1</td>\n",
       "      <td>35</td>\n",
       "      <td>24.0</td>\n",
       "    </tr>\n",
       "    <tr>\n",
       "      <th>9194</th>\n",
       "      <td>18563</td>\n",
       "      <td>31-Jul-22</td>\n",
       "      <td>RT4</td>\n",
       "      <td>20</td>\n",
       "      <td>18.0</td>\n",
       "    </tr>\n",
       "  </tbody>\n",
       "</table>\n",
       "</div>"
      ],
      "text/plain": [
       "      property_id check_in_date room_category  successful_bookings  capacity\n",
       "3           17558      1-May-22           RT1                   30      19.0\n",
       "12          16563      1-May-22           RT1                  100      41.0\n",
       "4136        19558     11-Jun-22           RT2                   50      39.0\n",
       "6209        19560      2-Jul-22           RT1                  123      26.0\n",
       "8522        19559     25-Jul-22           RT1                   35      24.0\n",
       "9194        18563     31-Jul-22           RT4                   20      18.0"
      ]
     },
     "execution_count": 313,
     "metadata": {},
     "output_type": "execute_result"
    }
   ],
   "source": [
    "df_agg_bookings[df_agg_bookings.successful_bookings>df_agg_bookings.capacity]"
   ]
  },
  {
   "cell_type": "code",
   "execution_count": 314,
   "id": "3ad9f867",
   "metadata": {},
   "outputs": [
    {
     "data": {
      "text/plain": [
       "(50.0, 3.0)"
      ]
     },
     "execution_count": 314,
     "metadata": {},
     "output_type": "execute_result"
    }
   ],
   "source": [
    "df_agg_bookings.capacity.max(),df_agg_bookings.capacity.min()\n"
   ]
  },
  {
   "cell_type": "markdown",
   "id": "4854b132",
   "metadata": {},
   "source": [
    "**Explore room dataset**"
   ]
  },
  {
   "cell_type": "code",
   "execution_count": 315,
   "id": "dd131d17",
   "metadata": {},
   "outputs": [
    {
     "data": {
      "text/html": [
       "<div>\n",
       "<style scoped>\n",
       "    .dataframe tbody tr th:only-of-type {\n",
       "        vertical-align: middle;\n",
       "    }\n",
       "\n",
       "    .dataframe tbody tr th {\n",
       "        vertical-align: top;\n",
       "    }\n",
       "\n",
       "    .dataframe thead th {\n",
       "        text-align: right;\n",
       "    }\n",
       "</style>\n",
       "<table border=\"1\" class=\"dataframe\">\n",
       "  <thead>\n",
       "    <tr style=\"text-align: right;\">\n",
       "      <th></th>\n",
       "      <th>room_id</th>\n",
       "      <th>room_class</th>\n",
       "    </tr>\n",
       "  </thead>\n",
       "  <tbody>\n",
       "    <tr>\n",
       "      <th>0</th>\n",
       "      <td>RT1</td>\n",
       "      <td>Standard</td>\n",
       "    </tr>\n",
       "    <tr>\n",
       "      <th>1</th>\n",
       "      <td>RT2</td>\n",
       "      <td>Elite</td>\n",
       "    </tr>\n",
       "    <tr>\n",
       "      <th>2</th>\n",
       "      <td>RT3</td>\n",
       "      <td>Premium</td>\n",
       "    </tr>\n",
       "    <tr>\n",
       "      <th>3</th>\n",
       "      <td>RT4</td>\n",
       "      <td>Presidential</td>\n",
       "    </tr>\n",
       "  </tbody>\n",
       "</table>\n",
       "</div>"
      ],
      "text/plain": [
       "  room_id    room_class\n",
       "0     RT1      Standard\n",
       "1     RT2         Elite\n",
       "2     RT3       Premium\n",
       "3     RT4  Presidential"
      ]
     },
     "execution_count": 315,
     "metadata": {},
     "output_type": "execute_result"
    }
   ],
   "source": [
    "df_rooms.head(5)"
   ]
  },
  {
   "cell_type": "markdown",
   "id": "e3d4e975",
   "metadata": {},
   "source": [
    "**Explore date dataset**"
   ]
  },
  {
   "cell_type": "code",
   "execution_count": 316,
   "id": "6caa629c",
   "metadata": {},
   "outputs": [
    {
     "data": {
      "text/html": [
       "<div>\n",
       "<style scoped>\n",
       "    .dataframe tbody tr th:only-of-type {\n",
       "        vertical-align: middle;\n",
       "    }\n",
       "\n",
       "    .dataframe tbody tr th {\n",
       "        vertical-align: top;\n",
       "    }\n",
       "\n",
       "    .dataframe thead th {\n",
       "        text-align: right;\n",
       "    }\n",
       "</style>\n",
       "<table border=\"1\" class=\"dataframe\">\n",
       "  <thead>\n",
       "    <tr style=\"text-align: right;\">\n",
       "      <th></th>\n",
       "      <th>date</th>\n",
       "      <th>mmm yy</th>\n",
       "      <th>week no</th>\n",
       "      <th>day_type</th>\n",
       "    </tr>\n",
       "  </thead>\n",
       "  <tbody>\n",
       "    <tr>\n",
       "      <th>0</th>\n",
       "      <td>01-May-22</td>\n",
       "      <td>May 22</td>\n",
       "      <td>W 19</td>\n",
       "      <td>weekend</td>\n",
       "    </tr>\n",
       "    <tr>\n",
       "      <th>1</th>\n",
       "      <td>02-May-22</td>\n",
       "      <td>May 22</td>\n",
       "      <td>W 19</td>\n",
       "      <td>weekeday</td>\n",
       "    </tr>\n",
       "    <tr>\n",
       "      <th>2</th>\n",
       "      <td>03-May-22</td>\n",
       "      <td>May 22</td>\n",
       "      <td>W 19</td>\n",
       "      <td>weekeday</td>\n",
       "    </tr>\n",
       "    <tr>\n",
       "      <th>3</th>\n",
       "      <td>04-May-22</td>\n",
       "      <td>May 22</td>\n",
       "      <td>W 19</td>\n",
       "      <td>weekeday</td>\n",
       "    </tr>\n",
       "    <tr>\n",
       "      <th>4</th>\n",
       "      <td>05-May-22</td>\n",
       "      <td>May 22</td>\n",
       "      <td>W 19</td>\n",
       "      <td>weekeday</td>\n",
       "    </tr>\n",
       "  </tbody>\n",
       "</table>\n",
       "</div>"
      ],
      "text/plain": [
       "        date  mmm yy week no  day_type\n",
       "0  01-May-22  May 22    W 19   weekend\n",
       "1  02-May-22  May 22    W 19  weekeday\n",
       "2  03-May-22  May 22    W 19  weekeday\n",
       "3  04-May-22  May 22    W 19  weekeday\n",
       "4  05-May-22  May 22    W 19  weekeday"
      ]
     },
     "execution_count": 316,
     "metadata": {},
     "output_type": "execute_result"
    }
   ],
   "source": [
    "df_date.head(5)"
   ]
  },
  {
   "cell_type": "code",
   "execution_count": 317,
   "id": "aee90e88",
   "metadata": {},
   "outputs": [
    {
     "data": {
      "text/plain": [
       "(92, 4)"
      ]
     },
     "execution_count": 317,
     "metadata": {},
     "output_type": "execute_result"
    }
   ],
   "source": [
    "df_date.shape"
   ]
  },
  {
   "cell_type": "code",
   "execution_count": 318,
   "id": "27b308d3",
   "metadata": {},
   "outputs": [],
   "source": [
    "df_dateformat=df_date[\"date\"]\n",
    "df_dateformat=pd.to_datetime(df_dateformat, format = \"%d-%b-%y\")"
   ]
  },
  {
   "cell_type": "code",
   "execution_count": 319,
   "id": "18e0c49f",
   "metadata": {},
   "outputs": [
    {
     "name": "stdout",
     "output_type": "stream",
     "text": [
      "2022-05-01 00:00:00 2022-07-31 00:00:00\n"
     ]
    }
   ],
   "source": [
    "# print date range \n",
    "print(df_dateformat.min(),df_dateformat.max())"
   ]
  },
  {
   "cell_type": "markdown",
   "id": "8e9e6fa3",
   "metadata": {},
   "source": [
    "*Date range is from 1st may 2022 to 31st july 2022*"
   ]
  },
  {
   "cell_type": "code",
   "execution_count": null,
   "id": "731de513",
   "metadata": {},
   "outputs": [],
   "source": []
  },
  {
   "cell_type": "markdown",
   "id": "43827b9c",
   "metadata": {},
   "source": [
    "***\n",
    "### ==> 2. Data Cleaning\n",
    "***"
   ]
  },
  {
   "cell_type": "code",
   "execution_count": 320,
   "id": "b0acd8b5",
   "metadata": {},
   "outputs": [
    {
     "data": {
      "text/html": [
       "<div>\n",
       "<style scoped>\n",
       "    .dataframe tbody tr th:only-of-type {\n",
       "        vertical-align: middle;\n",
       "    }\n",
       "\n",
       "    .dataframe tbody tr th {\n",
       "        vertical-align: top;\n",
       "    }\n",
       "\n",
       "    .dataframe thead th {\n",
       "        text-align: right;\n",
       "    }\n",
       "</style>\n",
       "<table border=\"1\" class=\"dataframe\">\n",
       "  <thead>\n",
       "    <tr style=\"text-align: right;\">\n",
       "      <th></th>\n",
       "      <th>property_id</th>\n",
       "      <th>no_guests</th>\n",
       "      <th>ratings_given</th>\n",
       "      <th>revenue_generated</th>\n",
       "      <th>revenue_realized</th>\n",
       "    </tr>\n",
       "  </thead>\n",
       "  <tbody>\n",
       "    <tr>\n",
       "      <th>count</th>\n",
       "      <td>134590.000000</td>\n",
       "      <td>134587.000000</td>\n",
       "      <td>56683.000000</td>\n",
       "      <td>1.345900e+05</td>\n",
       "      <td>134590.000000</td>\n",
       "    </tr>\n",
       "    <tr>\n",
       "      <th>mean</th>\n",
       "      <td>18061.113493</td>\n",
       "      <td>2.036170</td>\n",
       "      <td>3.619004</td>\n",
       "      <td>1.537805e+04</td>\n",
       "      <td>12696.123256</td>\n",
       "    </tr>\n",
       "    <tr>\n",
       "      <th>std</th>\n",
       "      <td>1093.055847</td>\n",
       "      <td>1.034885</td>\n",
       "      <td>1.235009</td>\n",
       "      <td>9.303604e+04</td>\n",
       "      <td>6928.108124</td>\n",
       "    </tr>\n",
       "    <tr>\n",
       "      <th>min</th>\n",
       "      <td>16558.000000</td>\n",
       "      <td>-17.000000</td>\n",
       "      <td>1.000000</td>\n",
       "      <td>6.500000e+03</td>\n",
       "      <td>2600.000000</td>\n",
       "    </tr>\n",
       "    <tr>\n",
       "      <th>25%</th>\n",
       "      <td>17558.000000</td>\n",
       "      <td>1.000000</td>\n",
       "      <td>3.000000</td>\n",
       "      <td>9.900000e+03</td>\n",
       "      <td>7600.000000</td>\n",
       "    </tr>\n",
       "    <tr>\n",
       "      <th>50%</th>\n",
       "      <td>17564.000000</td>\n",
       "      <td>2.000000</td>\n",
       "      <td>4.000000</td>\n",
       "      <td>1.350000e+04</td>\n",
       "      <td>11700.000000</td>\n",
       "    </tr>\n",
       "    <tr>\n",
       "      <th>75%</th>\n",
       "      <td>18563.000000</td>\n",
       "      <td>2.000000</td>\n",
       "      <td>5.000000</td>\n",
       "      <td>1.800000e+04</td>\n",
       "      <td>15300.000000</td>\n",
       "    </tr>\n",
       "    <tr>\n",
       "      <th>max</th>\n",
       "      <td>19563.000000</td>\n",
       "      <td>6.000000</td>\n",
       "      <td>5.000000</td>\n",
       "      <td>2.856000e+07</td>\n",
       "      <td>45220.000000</td>\n",
       "    </tr>\n",
       "  </tbody>\n",
       "</table>\n",
       "</div>"
      ],
      "text/plain": [
       "         property_id      no_guests  ratings_given  revenue_generated  \\\n",
       "count  134590.000000  134587.000000   56683.000000       1.345900e+05   \n",
       "mean    18061.113493       2.036170       3.619004       1.537805e+04   \n",
       "std      1093.055847       1.034885       1.235009       9.303604e+04   \n",
       "min     16558.000000     -17.000000       1.000000       6.500000e+03   \n",
       "25%     17558.000000       1.000000       3.000000       9.900000e+03   \n",
       "50%     17564.000000       2.000000       4.000000       1.350000e+04   \n",
       "75%     18563.000000       2.000000       5.000000       1.800000e+04   \n",
       "max     19563.000000       6.000000       5.000000       2.856000e+07   \n",
       "\n",
       "       revenue_realized  \n",
       "count     134590.000000  \n",
       "mean       12696.123256  \n",
       "std         6928.108124  \n",
       "min         2600.000000  \n",
       "25%         7600.000000  \n",
       "50%        11700.000000  \n",
       "75%        15300.000000  \n",
       "max        45220.000000  "
      ]
     },
     "execution_count": 320,
     "metadata": {},
     "output_type": "execute_result"
    }
   ],
   "source": [
    "df_bookings.describe()"
   ]
  },
  {
   "cell_type": "code",
   "execution_count": 321,
   "id": "738aca6c",
   "metadata": {},
   "outputs": [
    {
     "data": {
      "text/plain": [
       "(6500, 28560000)"
      ]
     },
     "execution_count": 321,
     "metadata": {},
     "output_type": "execute_result"
    }
   ],
   "source": [
    "df_bookings.revenue_generated.min(),df_bookings.revenue_generated.max()"
   ]
  },
  {
   "cell_type": "markdown",
   "id": "0a10094c",
   "metadata": {},
   "source": [
    "**maxumum generated revenue is very high**"
   ]
  },
  {
   "cell_type": "code",
   "execution_count": 322,
   "id": "e7917d5a",
   "metadata": {},
   "outputs": [
    {
     "data": {
      "text/plain": [
       "(2600, 45220)"
      ]
     },
     "execution_count": 322,
     "metadata": {},
     "output_type": "execute_result"
    }
   ],
   "source": [
    "df_bookings.revenue_realized.min(),df_bookings.revenue_realized.max()"
   ]
  },
  {
   "cell_type": "code",
   "execution_count": 323,
   "id": "1c26312d",
   "metadata": {},
   "outputs": [
    {
     "data": {
      "text/html": [
       "<div>\n",
       "<style scoped>\n",
       "    .dataframe tbody tr th:only-of-type {\n",
       "        vertical-align: middle;\n",
       "    }\n",
       "\n",
       "    .dataframe tbody tr th {\n",
       "        vertical-align: top;\n",
       "    }\n",
       "\n",
       "    .dataframe thead th {\n",
       "        text-align: right;\n",
       "    }\n",
       "</style>\n",
       "<table border=\"1\" class=\"dataframe\">\n",
       "  <thead>\n",
       "    <tr style=\"text-align: right;\">\n",
       "      <th></th>\n",
       "      <th>booking_id</th>\n",
       "      <th>property_id</th>\n",
       "      <th>booking_date</th>\n",
       "      <th>check_in_date</th>\n",
       "      <th>checkout_date</th>\n",
       "      <th>no_guests</th>\n",
       "      <th>room_category</th>\n",
       "      <th>booking_platform</th>\n",
       "      <th>ratings_given</th>\n",
       "      <th>booking_status</th>\n",
       "      <th>revenue_generated</th>\n",
       "      <th>revenue_realized</th>\n",
       "    </tr>\n",
       "  </thead>\n",
       "  <tbody>\n",
       "    <tr>\n",
       "      <th>111</th>\n",
       "      <td>May012216559RT32</td>\n",
       "      <td>16559</td>\n",
       "      <td>29-04-22</td>\n",
       "      <td>1/5/2022</td>\n",
       "      <td>2/5/2022</td>\n",
       "      <td>6.0</td>\n",
       "      <td>RT3</td>\n",
       "      <td>direct online</td>\n",
       "      <td>NaN</td>\n",
       "      <td>Checked Out</td>\n",
       "      <td>28560000</td>\n",
       "      <td>28560</td>\n",
       "    </tr>\n",
       "  </tbody>\n",
       "</table>\n",
       "</div>"
      ],
      "text/plain": [
       "           booking_id  property_id booking_date check_in_date checkout_date  \\\n",
       "111  May012216559RT32        16559     29-04-22      1/5/2022      2/5/2022   \n",
       "\n",
       "     no_guests room_category booking_platform  ratings_given booking_status  \\\n",
       "111        6.0           RT3    direct online            NaN    Checked Out   \n",
       "\n",
       "     revenue_generated  revenue_realized  \n",
       "111           28560000             28560  "
      ]
     },
     "execution_count": 323,
     "metadata": {},
     "output_type": "execute_result"
    }
   ],
   "source": [
    "df_bookings[df_bookings.revenue_generated==df_bookings.revenue_generated.max()]"
   ]
  },
  {
   "cell_type": "code",
   "execution_count": 324,
   "id": "fe4d7f81",
   "metadata": {},
   "outputs": [
    {
     "data": {
      "text/html": [
       "<div>\n",
       "<style scoped>\n",
       "    .dataframe tbody tr th:only-of-type {\n",
       "        vertical-align: middle;\n",
       "    }\n",
       "\n",
       "    .dataframe tbody tr th {\n",
       "        vertical-align: top;\n",
       "    }\n",
       "\n",
       "    .dataframe thead th {\n",
       "        text-align: right;\n",
       "    }\n",
       "</style>\n",
       "<table border=\"1\" class=\"dataframe\">\n",
       "  <thead>\n",
       "    <tr style=\"text-align: right;\">\n",
       "      <th></th>\n",
       "      <th>property_id</th>\n",
       "      <th>no_guests</th>\n",
       "      <th>ratings_given</th>\n",
       "      <th>revenue_generated</th>\n",
       "      <th>revenue_realized</th>\n",
       "    </tr>\n",
       "  </thead>\n",
       "  <tbody>\n",
       "    <tr>\n",
       "      <th>count</th>\n",
       "      <td>30566.000000</td>\n",
       "      <td>30564.000000</td>\n",
       "      <td>12755.000000</td>\n",
       "      <td>3.056600e+04</td>\n",
       "      <td>30566.000000</td>\n",
       "    </tr>\n",
       "    <tr>\n",
       "      <th>mean</th>\n",
       "      <td>18119.854315</td>\n",
       "      <td>2.179427</td>\n",
       "      <td>3.592317</td>\n",
       "      <td>1.871783e+04</td>\n",
       "      <td>15120.275600</td>\n",
       "    </tr>\n",
       "    <tr>\n",
       "      <th>std</th>\n",
       "      <td>1100.141063</td>\n",
       "      <td>1.194881</td>\n",
       "      <td>1.234661</td>\n",
       "      <td>1.632995e+05</td>\n",
       "      <td>5693.119841</td>\n",
       "    </tr>\n",
       "    <tr>\n",
       "      <th>min</th>\n",
       "      <td>16558.000000</td>\n",
       "      <td>-6.000000</td>\n",
       "      <td>1.000000</td>\n",
       "      <td>1.200000e+04</td>\n",
       "      <td>4800.000000</td>\n",
       "    </tr>\n",
       "    <tr>\n",
       "      <th>25%</th>\n",
       "      <td>17558.000000</td>\n",
       "      <td>1.000000</td>\n",
       "      <td>3.000000</td>\n",
       "      <td>1.560000e+04</td>\n",
       "      <td>12000.000000</td>\n",
       "    </tr>\n",
       "    <tr>\n",
       "      <th>50%</th>\n",
       "      <td>18558.000000</td>\n",
       "      <td>2.000000</td>\n",
       "      <td>4.000000</td>\n",
       "      <td>1.800000e+04</td>\n",
       "      <td>16800.000000</td>\n",
       "    </tr>\n",
       "    <tr>\n",
       "      <th>75%</th>\n",
       "      <td>19558.000000</td>\n",
       "      <td>2.000000</td>\n",
       "      <td>5.000000</td>\n",
       "      <td>2.040000e+04</td>\n",
       "      <td>20400.000000</td>\n",
       "    </tr>\n",
       "    <tr>\n",
       "      <th>max</th>\n",
       "      <td>19563.000000</td>\n",
       "      <td>6.000000</td>\n",
       "      <td>5.000000</td>\n",
       "      <td>2.856000e+07</td>\n",
       "      <td>28560.000000</td>\n",
       "    </tr>\n",
       "  </tbody>\n",
       "</table>\n",
       "</div>"
      ],
      "text/plain": [
       "        property_id     no_guests  ratings_given  revenue_generated  \\\n",
       "count  30566.000000  30564.000000   12755.000000       3.056600e+04   \n",
       "mean   18119.854315      2.179427       3.592317       1.871783e+04   \n",
       "std     1100.141063      1.194881       1.234661       1.632995e+05   \n",
       "min    16558.000000     -6.000000       1.000000       1.200000e+04   \n",
       "25%    17558.000000      1.000000       3.000000       1.560000e+04   \n",
       "50%    18558.000000      2.000000       4.000000       1.800000e+04   \n",
       "75%    19558.000000      2.000000       5.000000       2.040000e+04   \n",
       "max    19563.000000      6.000000       5.000000       2.856000e+07   \n",
       "\n",
       "       revenue_realized  \n",
       "count      30566.000000  \n",
       "mean       15120.275600  \n",
       "std         5693.119841  \n",
       "min         4800.000000  \n",
       "25%        12000.000000  \n",
       "50%        16800.000000  \n",
       "75%        20400.000000  \n",
       "max        28560.000000  "
      ]
     },
     "execution_count": 324,
     "metadata": {},
     "output_type": "execute_result"
    }
   ],
   "source": [
    "df_bookings[df_bookings.room_category==\"RT3\"].describe()"
   ]
  },
  {
   "cell_type": "markdown",
   "id": "e95561e4",
   "metadata": {},
   "source": [
    "**(1) Clean invalid guests**"
   ]
  },
  {
   "cell_type": "code",
   "execution_count": 325,
   "id": "9becc526",
   "metadata": {},
   "outputs": [
    {
     "data": {
      "text/plain": [
       "9"
      ]
     },
     "execution_count": 325,
     "metadata": {},
     "output_type": "execute_result"
    }
   ],
   "source": [
    "df_bookings[df_bookings.no_guests<=0].no_guests.count()        # number of guests cannot be negative "
   ]
  },
  {
   "cell_type": "code",
   "execution_count": 326,
   "id": "25108623",
   "metadata": {},
   "outputs": [],
   "source": [
    "# since rows of no of negative guests rows (9) is very less as compared to total rows(134590).Hence they are ommited."
   ]
  },
  {
   "cell_type": "code",
   "execution_count": 327,
   "id": "2528ca24",
   "metadata": {},
   "outputs": [
    {
     "data": {
      "text/html": [
       "<div>\n",
       "<style scoped>\n",
       "    .dataframe tbody tr th:only-of-type {\n",
       "        vertical-align: middle;\n",
       "    }\n",
       "\n",
       "    .dataframe tbody tr th {\n",
       "        vertical-align: top;\n",
       "    }\n",
       "\n",
       "    .dataframe thead th {\n",
       "        text-align: right;\n",
       "    }\n",
       "</style>\n",
       "<table border=\"1\" class=\"dataframe\">\n",
       "  <thead>\n",
       "    <tr style=\"text-align: right;\">\n",
       "      <th></th>\n",
       "      <th>booking_id</th>\n",
       "      <th>property_id</th>\n",
       "      <th>booking_date</th>\n",
       "      <th>check_in_date</th>\n",
       "      <th>checkout_date</th>\n",
       "      <th>no_guests</th>\n",
       "      <th>room_category</th>\n",
       "      <th>booking_platform</th>\n",
       "      <th>ratings_given</th>\n",
       "      <th>booking_status</th>\n",
       "      <th>revenue_generated</th>\n",
       "      <th>revenue_realized</th>\n",
       "    </tr>\n",
       "  </thead>\n",
       "  <tbody>\n",
       "    <tr>\n",
       "      <th>1</th>\n",
       "      <td>May012216558RT12</td>\n",
       "      <td>16558</td>\n",
       "      <td>30-04-22</td>\n",
       "      <td>1/5/2022</td>\n",
       "      <td>2/5/2022</td>\n",
       "      <td>2.0</td>\n",
       "      <td>RT1</td>\n",
       "      <td>others</td>\n",
       "      <td>NaN</td>\n",
       "      <td>Cancelled</td>\n",
       "      <td>9100</td>\n",
       "      <td>3640</td>\n",
       "    </tr>\n",
       "    <tr>\n",
       "      <th>2</th>\n",
       "      <td>May012216558RT13</td>\n",
       "      <td>16558</td>\n",
       "      <td>28-04-22</td>\n",
       "      <td>1/5/2022</td>\n",
       "      <td>4/5/2022</td>\n",
       "      <td>2.0</td>\n",
       "      <td>RT1</td>\n",
       "      <td>logtrip</td>\n",
       "      <td>5.0</td>\n",
       "      <td>Checked Out</td>\n",
       "      <td>9100000</td>\n",
       "      <td>9100</td>\n",
       "    </tr>\n",
       "    <tr>\n",
       "      <th>4</th>\n",
       "      <td>May012216558RT15</td>\n",
       "      <td>16558</td>\n",
       "      <td>27-04-22</td>\n",
       "      <td>1/5/2022</td>\n",
       "      <td>2/5/2022</td>\n",
       "      <td>4.0</td>\n",
       "      <td>RT1</td>\n",
       "      <td>direct online</td>\n",
       "      <td>5.0</td>\n",
       "      <td>Checked Out</td>\n",
       "      <td>10920</td>\n",
       "      <td>10920</td>\n",
       "    </tr>\n",
       "    <tr>\n",
       "      <th>5</th>\n",
       "      <td>May012216558RT16</td>\n",
       "      <td>16558</td>\n",
       "      <td>1/5/2022</td>\n",
       "      <td>1/5/2022</td>\n",
       "      <td>3/5/2022</td>\n",
       "      <td>2.0</td>\n",
       "      <td>RT1</td>\n",
       "      <td>others</td>\n",
       "      <td>4.0</td>\n",
       "      <td>Checked Out</td>\n",
       "      <td>9100</td>\n",
       "      <td>9100</td>\n",
       "    </tr>\n",
       "    <tr>\n",
       "      <th>6</th>\n",
       "      <td>May012216558RT17</td>\n",
       "      <td>16558</td>\n",
       "      <td>28-04-22</td>\n",
       "      <td>1/5/2022</td>\n",
       "      <td>6/5/2022</td>\n",
       "      <td>2.0</td>\n",
       "      <td>RT1</td>\n",
       "      <td>others</td>\n",
       "      <td>NaN</td>\n",
       "      <td>Cancelled</td>\n",
       "      <td>9100</td>\n",
       "      <td>3640</td>\n",
       "    </tr>\n",
       "    <tr>\n",
       "      <th>...</th>\n",
       "      <td>...</td>\n",
       "      <td>...</td>\n",
       "      <td>...</td>\n",
       "      <td>...</td>\n",
       "      <td>...</td>\n",
       "      <td>...</td>\n",
       "      <td>...</td>\n",
       "      <td>...</td>\n",
       "      <td>...</td>\n",
       "      <td>...</td>\n",
       "      <td>...</td>\n",
       "      <td>...</td>\n",
       "    </tr>\n",
       "    <tr>\n",
       "      <th>134584</th>\n",
       "      <td>Jul312217564RT45</td>\n",
       "      <td>17564</td>\n",
       "      <td>30-07-22</td>\n",
       "      <td>31-07-22</td>\n",
       "      <td>1/8/2022</td>\n",
       "      <td>2.0</td>\n",
       "      <td>RT4</td>\n",
       "      <td>others</td>\n",
       "      <td>2.0</td>\n",
       "      <td>Checked Out</td>\n",
       "      <td>32300</td>\n",
       "      <td>32300</td>\n",
       "    </tr>\n",
       "    <tr>\n",
       "      <th>134585</th>\n",
       "      <td>Jul312217564RT46</td>\n",
       "      <td>17564</td>\n",
       "      <td>29-07-22</td>\n",
       "      <td>31-07-22</td>\n",
       "      <td>3/8/2022</td>\n",
       "      <td>1.0</td>\n",
       "      <td>RT4</td>\n",
       "      <td>makeyourtrip</td>\n",
       "      <td>2.0</td>\n",
       "      <td>Checked Out</td>\n",
       "      <td>32300</td>\n",
       "      <td>32300</td>\n",
       "    </tr>\n",
       "    <tr>\n",
       "      <th>134587</th>\n",
       "      <td>Jul312217564RT48</td>\n",
       "      <td>17564</td>\n",
       "      <td>30-07-22</td>\n",
       "      <td>31-07-22</td>\n",
       "      <td>2/8/2022</td>\n",
       "      <td>1.0</td>\n",
       "      <td>RT4</td>\n",
       "      <td>tripster</td>\n",
       "      <td>NaN</td>\n",
       "      <td>Cancelled</td>\n",
       "      <td>32300</td>\n",
       "      <td>12920</td>\n",
       "    </tr>\n",
       "    <tr>\n",
       "      <th>134588</th>\n",
       "      <td>Jul312217564RT49</td>\n",
       "      <td>17564</td>\n",
       "      <td>29-07-22</td>\n",
       "      <td>31-07-22</td>\n",
       "      <td>1/8/2022</td>\n",
       "      <td>2.0</td>\n",
       "      <td>RT4</td>\n",
       "      <td>logtrip</td>\n",
       "      <td>2.0</td>\n",
       "      <td>Checked Out</td>\n",
       "      <td>32300</td>\n",
       "      <td>32300</td>\n",
       "    </tr>\n",
       "    <tr>\n",
       "      <th>134589</th>\n",
       "      <td>Jul312217564RT410</td>\n",
       "      <td>17564</td>\n",
       "      <td>31-07-22</td>\n",
       "      <td>31-07-22</td>\n",
       "      <td>1/8/2022</td>\n",
       "      <td>2.0</td>\n",
       "      <td>RT4</td>\n",
       "      <td>makeyourtrip</td>\n",
       "      <td>NaN</td>\n",
       "      <td>Cancelled</td>\n",
       "      <td>32300</td>\n",
       "      <td>12920</td>\n",
       "    </tr>\n",
       "  </tbody>\n",
       "</table>\n",
       "<p>134578 rows × 12 columns</p>\n",
       "</div>"
      ],
      "text/plain": [
       "               booking_id  property_id booking_date check_in_date  \\\n",
       "1        May012216558RT12        16558     30-04-22      1/5/2022   \n",
       "2        May012216558RT13        16558     28-04-22      1/5/2022   \n",
       "4        May012216558RT15        16558     27-04-22      1/5/2022   \n",
       "5        May012216558RT16        16558     1/5/2022      1/5/2022   \n",
       "6        May012216558RT17        16558     28-04-22      1/5/2022   \n",
       "...                   ...          ...          ...           ...   \n",
       "134584   Jul312217564RT45        17564     30-07-22      31-07-22   \n",
       "134585   Jul312217564RT46        17564     29-07-22      31-07-22   \n",
       "134587   Jul312217564RT48        17564     30-07-22      31-07-22   \n",
       "134588   Jul312217564RT49        17564     29-07-22      31-07-22   \n",
       "134589  Jul312217564RT410        17564     31-07-22      31-07-22   \n",
       "\n",
       "       checkout_date  no_guests room_category booking_platform  ratings_given  \\\n",
       "1           2/5/2022        2.0           RT1           others            NaN   \n",
       "2           4/5/2022        2.0           RT1          logtrip            5.0   \n",
       "4           2/5/2022        4.0           RT1    direct online            5.0   \n",
       "5           3/5/2022        2.0           RT1           others            4.0   \n",
       "6           6/5/2022        2.0           RT1           others            NaN   \n",
       "...              ...        ...           ...              ...            ...   \n",
       "134584      1/8/2022        2.0           RT4           others            2.0   \n",
       "134585      3/8/2022        1.0           RT4     makeyourtrip            2.0   \n",
       "134587      2/8/2022        1.0           RT4         tripster            NaN   \n",
       "134588      1/8/2022        2.0           RT4          logtrip            2.0   \n",
       "134589      1/8/2022        2.0           RT4     makeyourtrip            NaN   \n",
       "\n",
       "       booking_status  revenue_generated  revenue_realized  \n",
       "1           Cancelled               9100              3640  \n",
       "2         Checked Out            9100000              9100  \n",
       "4         Checked Out              10920             10920  \n",
       "5         Checked Out               9100              9100  \n",
       "6           Cancelled               9100              3640  \n",
       "...               ...                ...               ...  \n",
       "134584    Checked Out              32300             32300  \n",
       "134585    Checked Out              32300             32300  \n",
       "134587      Cancelled              32300             12920  \n",
       "134588    Checked Out              32300             32300  \n",
       "134589      Cancelled              32300             12920  \n",
       "\n",
       "[134578 rows x 12 columns]"
      ]
     },
     "execution_count": 327,
     "metadata": {},
     "output_type": "execute_result"
    }
   ],
   "source": [
    "df_bookings=df_bookings[df_bookings.no_guests>=0]              \n",
    "df_bookings"
   ]
  },
  {
   "cell_type": "code",
   "execution_count": 328,
   "id": "35695b59",
   "metadata": {},
   "outputs": [
    {
     "data": {
      "text/plain": [
       "(134578, 12)"
      ]
     },
     "execution_count": 328,
     "metadata": {},
     "output_type": "execute_result"
    }
   ],
   "source": [
    "df_bookings.shape"
   ]
  },
  {
   "cell_type": "markdown",
   "id": "0875cc80",
   "metadata": {},
   "source": [
    "**(2) Oulier removal in revenue generated**"
   ]
  },
  {
   "cell_type": "code",
   "execution_count": 329,
   "id": "93bf5b45",
   "metadata": {},
   "outputs": [
    {
     "data": {
      "text/plain": [
       "(6500, 28560000)"
      ]
     },
     "execution_count": 329,
     "metadata": {},
     "output_type": "execute_result"
    }
   ],
   "source": [
    "df_bookings.revenue_generated.min(),df_bookings.revenue_generated.max()"
   ]
  },
  {
   "cell_type": "code",
   "execution_count": 330,
   "id": "93626714",
   "metadata": {},
   "outputs": [
    {
     "data": {
      "text/html": [
       "<div>\n",
       "<style scoped>\n",
       "    .dataframe tbody tr th:only-of-type {\n",
       "        vertical-align: middle;\n",
       "    }\n",
       "\n",
       "    .dataframe tbody tr th {\n",
       "        vertical-align: top;\n",
       "    }\n",
       "\n",
       "    .dataframe thead th {\n",
       "        text-align: right;\n",
       "    }\n",
       "</style>\n",
       "<table border=\"1\" class=\"dataframe\">\n",
       "  <thead>\n",
       "    <tr style=\"text-align: right;\">\n",
       "      <th></th>\n",
       "      <th>property_id</th>\n",
       "      <th>no_guests</th>\n",
       "      <th>ratings_given</th>\n",
       "      <th>revenue_generated</th>\n",
       "      <th>revenue_realized</th>\n",
       "    </tr>\n",
       "  </thead>\n",
       "  <tbody>\n",
       "    <tr>\n",
       "      <th>count</th>\n",
       "      <td>134578.000000</td>\n",
       "      <td>134578.000000</td>\n",
       "      <td>56679.000000</td>\n",
       "      <td>1.345780e+05</td>\n",
       "      <td>134578.000000</td>\n",
       "    </tr>\n",
       "    <tr>\n",
       "      <th>mean</th>\n",
       "      <td>18061.143315</td>\n",
       "      <td>2.036744</td>\n",
       "      <td>3.619048</td>\n",
       "      <td>1.537804e+04</td>\n",
       "      <td>12696.011822</td>\n",
       "    </tr>\n",
       "    <tr>\n",
       "      <th>std</th>\n",
       "      <td>1093.053454</td>\n",
       "      <td>1.031710</td>\n",
       "      <td>1.234970</td>\n",
       "      <td>9.304015e+04</td>\n",
       "      <td>6927.841641</td>\n",
       "    </tr>\n",
       "    <tr>\n",
       "      <th>min</th>\n",
       "      <td>16558.000000</td>\n",
       "      <td>1.000000</td>\n",
       "      <td>1.000000</td>\n",
       "      <td>6.500000e+03</td>\n",
       "      <td>2600.000000</td>\n",
       "    </tr>\n",
       "    <tr>\n",
       "      <th>25%</th>\n",
       "      <td>17558.000000</td>\n",
       "      <td>1.000000</td>\n",
       "      <td>3.000000</td>\n",
       "      <td>9.900000e+03</td>\n",
       "      <td>7600.000000</td>\n",
       "    </tr>\n",
       "    <tr>\n",
       "      <th>50%</th>\n",
       "      <td>17564.000000</td>\n",
       "      <td>2.000000</td>\n",
       "      <td>4.000000</td>\n",
       "      <td>1.350000e+04</td>\n",
       "      <td>11700.000000</td>\n",
       "    </tr>\n",
       "    <tr>\n",
       "      <th>75%</th>\n",
       "      <td>18563.000000</td>\n",
       "      <td>2.000000</td>\n",
       "      <td>5.000000</td>\n",
       "      <td>1.800000e+04</td>\n",
       "      <td>15300.000000</td>\n",
       "    </tr>\n",
       "    <tr>\n",
       "      <th>max</th>\n",
       "      <td>19563.000000</td>\n",
       "      <td>6.000000</td>\n",
       "      <td>5.000000</td>\n",
       "      <td>2.856000e+07</td>\n",
       "      <td>45220.000000</td>\n",
       "    </tr>\n",
       "  </tbody>\n",
       "</table>\n",
       "</div>"
      ],
      "text/plain": [
       "         property_id      no_guests  ratings_given  revenue_generated  \\\n",
       "count  134578.000000  134578.000000   56679.000000       1.345780e+05   \n",
       "mean    18061.143315       2.036744       3.619048       1.537804e+04   \n",
       "std      1093.053454       1.031710       1.234970       9.304015e+04   \n",
       "min     16558.000000       1.000000       1.000000       6.500000e+03   \n",
       "25%     17558.000000       1.000000       3.000000       9.900000e+03   \n",
       "50%     17564.000000       2.000000       4.000000       1.350000e+04   \n",
       "75%     18563.000000       2.000000       5.000000       1.800000e+04   \n",
       "max     19563.000000       6.000000       5.000000       2.856000e+07   \n",
       "\n",
       "       revenue_realized  \n",
       "count     134578.000000  \n",
       "mean       12696.011822  \n",
       "std         6927.841641  \n",
       "min         2600.000000  \n",
       "25%         7600.000000  \n",
       "50%        11700.000000  \n",
       "75%        15300.000000  \n",
       "max        45220.000000  "
      ]
     },
     "execution_count": 330,
     "metadata": {},
     "output_type": "execute_result"
    }
   ],
   "source": [
    "df_bookings.describe()"
   ]
  },
  {
   "cell_type": "code",
   "execution_count": 331,
   "id": "6bd2f6f0",
   "metadata": {},
   "outputs": [
    {
     "data": {
      "text/plain": [
       "(15378.036937686695, 13500.0, 93040.1549314641)"
      ]
     },
     "execution_count": 331,
     "metadata": {},
     "output_type": "execute_result"
    }
   ],
   "source": [
    "avg,med,std=df_bookings.revenue_generated.mean(),df_bookings.revenue_generated.median(),df_bookings.revenue_generated.std()\n",
    "avg,med,std"
   ]
  },
  {
   "cell_type": "code",
   "execution_count": 332,
   "id": "7162e0f8",
   "metadata": {},
   "outputs": [],
   "source": [
    "higher_lmt=avg+3*std            # lower and higher limits of 3 sigma \n",
    "lower_lmt=avg-3*std"
   ]
  },
  {
   "cell_type": "code",
   "execution_count": 333,
   "id": "b9d5dc48",
   "metadata": {},
   "outputs": [
    {
     "data": {
      "text/plain": [
       "(294498.50173207896, -263742.4278567056)"
      ]
     },
     "execution_count": 333,
     "metadata": {},
     "output_type": "execute_result"
    }
   ],
   "source": [
    "higher_lmt,lower_lmt     "
   ]
  },
  {
   "cell_type": "code",
   "execution_count": 334,
   "id": "3c03beb2",
   "metadata": {},
   "outputs": [
    {
     "data": {
      "text/html": [
       "<div>\n",
       "<style scoped>\n",
       "    .dataframe tbody tr th:only-of-type {\n",
       "        vertical-align: middle;\n",
       "    }\n",
       "\n",
       "    .dataframe tbody tr th {\n",
       "        vertical-align: top;\n",
       "    }\n",
       "\n",
       "    .dataframe thead th {\n",
       "        text-align: right;\n",
       "    }\n",
       "</style>\n",
       "<table border=\"1\" class=\"dataframe\">\n",
       "  <thead>\n",
       "    <tr style=\"text-align: right;\">\n",
       "      <th></th>\n",
       "      <th>booking_id</th>\n",
       "      <th>property_id</th>\n",
       "      <th>booking_date</th>\n",
       "      <th>check_in_date</th>\n",
       "      <th>checkout_date</th>\n",
       "      <th>no_guests</th>\n",
       "      <th>room_category</th>\n",
       "      <th>booking_platform</th>\n",
       "      <th>ratings_given</th>\n",
       "      <th>booking_status</th>\n",
       "      <th>revenue_generated</th>\n",
       "      <th>revenue_realized</th>\n",
       "    </tr>\n",
       "  </thead>\n",
       "  <tbody>\n",
       "  </tbody>\n",
       "</table>\n",
       "</div>"
      ],
      "text/plain": [
       "Empty DataFrame\n",
       "Columns: [booking_id, property_id, booking_date, check_in_date, checkout_date, no_guests, room_category, booking_platform, ratings_given, booking_status, revenue_generated, revenue_realized]\n",
       "Index: []"
      ]
     },
     "execution_count": 334,
     "metadata": {},
     "output_type": "execute_result"
    }
   ],
   "source": [
    "df_bookings[df_bookings.revenue_generated<0]"
   ]
  },
  {
   "cell_type": "code",
   "execution_count": 335,
   "id": "ff9abbef",
   "metadata": {},
   "outputs": [
    {
     "data": {
      "text/html": [
       "<div>\n",
       "<style scoped>\n",
       "    .dataframe tbody tr th:only-of-type {\n",
       "        vertical-align: middle;\n",
       "    }\n",
       "\n",
       "    .dataframe tbody tr th {\n",
       "        vertical-align: top;\n",
       "    }\n",
       "\n",
       "    .dataframe thead th {\n",
       "        text-align: right;\n",
       "    }\n",
       "</style>\n",
       "<table border=\"1\" class=\"dataframe\">\n",
       "  <thead>\n",
       "    <tr style=\"text-align: right;\">\n",
       "      <th></th>\n",
       "      <th>booking_id</th>\n",
       "      <th>property_id</th>\n",
       "      <th>booking_date</th>\n",
       "      <th>check_in_date</th>\n",
       "      <th>checkout_date</th>\n",
       "      <th>no_guests</th>\n",
       "      <th>room_category</th>\n",
       "      <th>booking_platform</th>\n",
       "      <th>ratings_given</th>\n",
       "      <th>booking_status</th>\n",
       "      <th>revenue_generated</th>\n",
       "      <th>revenue_realized</th>\n",
       "    </tr>\n",
       "  </thead>\n",
       "  <tbody>\n",
       "    <tr>\n",
       "      <th>2</th>\n",
       "      <td>May012216558RT13</td>\n",
       "      <td>16558</td>\n",
       "      <td>28-04-22</td>\n",
       "      <td>1/5/2022</td>\n",
       "      <td>4/5/2022</td>\n",
       "      <td>2.0</td>\n",
       "      <td>RT1</td>\n",
       "      <td>logtrip</td>\n",
       "      <td>5.0</td>\n",
       "      <td>Checked Out</td>\n",
       "      <td>9100000</td>\n",
       "      <td>9100</td>\n",
       "    </tr>\n",
       "    <tr>\n",
       "      <th>111</th>\n",
       "      <td>May012216559RT32</td>\n",
       "      <td>16559</td>\n",
       "      <td>29-04-22</td>\n",
       "      <td>1/5/2022</td>\n",
       "      <td>2/5/2022</td>\n",
       "      <td>6.0</td>\n",
       "      <td>RT3</td>\n",
       "      <td>direct online</td>\n",
       "      <td>NaN</td>\n",
       "      <td>Checked Out</td>\n",
       "      <td>28560000</td>\n",
       "      <td>28560</td>\n",
       "    </tr>\n",
       "    <tr>\n",
       "      <th>315</th>\n",
       "      <td>May012216562RT22</td>\n",
       "      <td>16562</td>\n",
       "      <td>28-04-22</td>\n",
       "      <td>1/5/2022</td>\n",
       "      <td>4/5/2022</td>\n",
       "      <td>2.0</td>\n",
       "      <td>RT2</td>\n",
       "      <td>direct offline</td>\n",
       "      <td>3.0</td>\n",
       "      <td>Checked Out</td>\n",
       "      <td>12600000</td>\n",
       "      <td>12600</td>\n",
       "    </tr>\n",
       "    <tr>\n",
       "      <th>562</th>\n",
       "      <td>May012217559RT118</td>\n",
       "      <td>17559</td>\n",
       "      <td>26-04-22</td>\n",
       "      <td>1/5/2022</td>\n",
       "      <td>2/5/2022</td>\n",
       "      <td>2.0</td>\n",
       "      <td>RT1</td>\n",
       "      <td>others</td>\n",
       "      <td>NaN</td>\n",
       "      <td>Cancelled</td>\n",
       "      <td>2000000</td>\n",
       "      <td>4420</td>\n",
       "    </tr>\n",
       "    <tr>\n",
       "      <th>129176</th>\n",
       "      <td>Jul282216562RT26</td>\n",
       "      <td>16562</td>\n",
       "      <td>21-07-22</td>\n",
       "      <td>28-07-22</td>\n",
       "      <td>29-07-22</td>\n",
       "      <td>2.0</td>\n",
       "      <td>RT2</td>\n",
       "      <td>direct online</td>\n",
       "      <td>3.0</td>\n",
       "      <td>Checked Out</td>\n",
       "      <td>10000000</td>\n",
       "      <td>12600</td>\n",
       "    </tr>\n",
       "  </tbody>\n",
       "</table>\n",
       "</div>"
      ],
      "text/plain": [
       "               booking_id  property_id booking_date check_in_date  \\\n",
       "2        May012216558RT13        16558     28-04-22      1/5/2022   \n",
       "111      May012216559RT32        16559     29-04-22      1/5/2022   \n",
       "315      May012216562RT22        16562     28-04-22      1/5/2022   \n",
       "562     May012217559RT118        17559     26-04-22      1/5/2022   \n",
       "129176   Jul282216562RT26        16562     21-07-22      28-07-22   \n",
       "\n",
       "       checkout_date  no_guests room_category booking_platform  ratings_given  \\\n",
       "2           4/5/2022        2.0           RT1          logtrip            5.0   \n",
       "111         2/5/2022        6.0           RT3    direct online            NaN   \n",
       "315         4/5/2022        2.0           RT2   direct offline            3.0   \n",
       "562         2/5/2022        2.0           RT1           others            NaN   \n",
       "129176      29-07-22        2.0           RT2    direct online            3.0   \n",
       "\n",
       "       booking_status  revenue_generated  revenue_realized  \n",
       "2         Checked Out            9100000              9100  \n",
       "111       Checked Out           28560000             28560  \n",
       "315       Checked Out           12600000             12600  \n",
       "562         Cancelled            2000000              4420  \n",
       "129176    Checked Out           10000000             12600  "
      ]
     },
     "execution_count": 335,
     "metadata": {},
     "output_type": "execute_result"
    }
   ],
   "source": [
    "df_bookings[df_bookings.revenue_generated>higher_lmt]"
   ]
  },
  {
   "cell_type": "code",
   "execution_count": 336,
   "id": "569773c1",
   "metadata": {},
   "outputs": [
    {
     "data": {
      "text/html": [
       "<div>\n",
       "<style scoped>\n",
       "    .dataframe tbody tr th:only-of-type {\n",
       "        vertical-align: middle;\n",
       "    }\n",
       "\n",
       "    .dataframe tbody tr th {\n",
       "        vertical-align: top;\n",
       "    }\n",
       "\n",
       "    .dataframe thead th {\n",
       "        text-align: right;\n",
       "    }\n",
       "</style>\n",
       "<table border=\"1\" class=\"dataframe\">\n",
       "  <thead>\n",
       "    <tr style=\"text-align: right;\">\n",
       "      <th></th>\n",
       "      <th>booking_id</th>\n",
       "      <th>property_id</th>\n",
       "      <th>booking_date</th>\n",
       "      <th>check_in_date</th>\n",
       "      <th>checkout_date</th>\n",
       "      <th>no_guests</th>\n",
       "      <th>room_category</th>\n",
       "      <th>booking_platform</th>\n",
       "      <th>ratings_given</th>\n",
       "      <th>booking_status</th>\n",
       "      <th>revenue_generated</th>\n",
       "      <th>revenue_realized</th>\n",
       "    </tr>\n",
       "  </thead>\n",
       "  <tbody>\n",
       "    <tr>\n",
       "      <th>1</th>\n",
       "      <td>May012216558RT12</td>\n",
       "      <td>16558</td>\n",
       "      <td>30-04-22</td>\n",
       "      <td>1/5/2022</td>\n",
       "      <td>2/5/2022</td>\n",
       "      <td>2.0</td>\n",
       "      <td>RT1</td>\n",
       "      <td>others</td>\n",
       "      <td>NaN</td>\n",
       "      <td>Cancelled</td>\n",
       "      <td>9100</td>\n",
       "      <td>3640</td>\n",
       "    </tr>\n",
       "    <tr>\n",
       "      <th>4</th>\n",
       "      <td>May012216558RT15</td>\n",
       "      <td>16558</td>\n",
       "      <td>27-04-22</td>\n",
       "      <td>1/5/2022</td>\n",
       "      <td>2/5/2022</td>\n",
       "      <td>4.0</td>\n",
       "      <td>RT1</td>\n",
       "      <td>direct online</td>\n",
       "      <td>5.0</td>\n",
       "      <td>Checked Out</td>\n",
       "      <td>10920</td>\n",
       "      <td>10920</td>\n",
       "    </tr>\n",
       "    <tr>\n",
       "      <th>5</th>\n",
       "      <td>May012216558RT16</td>\n",
       "      <td>16558</td>\n",
       "      <td>1/5/2022</td>\n",
       "      <td>1/5/2022</td>\n",
       "      <td>3/5/2022</td>\n",
       "      <td>2.0</td>\n",
       "      <td>RT1</td>\n",
       "      <td>others</td>\n",
       "      <td>4.0</td>\n",
       "      <td>Checked Out</td>\n",
       "      <td>9100</td>\n",
       "      <td>9100</td>\n",
       "    </tr>\n",
       "    <tr>\n",
       "      <th>6</th>\n",
       "      <td>May012216558RT17</td>\n",
       "      <td>16558</td>\n",
       "      <td>28-04-22</td>\n",
       "      <td>1/5/2022</td>\n",
       "      <td>6/5/2022</td>\n",
       "      <td>2.0</td>\n",
       "      <td>RT1</td>\n",
       "      <td>others</td>\n",
       "      <td>NaN</td>\n",
       "      <td>Cancelled</td>\n",
       "      <td>9100</td>\n",
       "      <td>3640</td>\n",
       "    </tr>\n",
       "    <tr>\n",
       "      <th>7</th>\n",
       "      <td>May012216558RT18</td>\n",
       "      <td>16558</td>\n",
       "      <td>26-04-22</td>\n",
       "      <td>1/5/2022</td>\n",
       "      <td>3/5/2022</td>\n",
       "      <td>2.0</td>\n",
       "      <td>RT1</td>\n",
       "      <td>logtrip</td>\n",
       "      <td>NaN</td>\n",
       "      <td>No Show</td>\n",
       "      <td>9100</td>\n",
       "      <td>9100</td>\n",
       "    </tr>\n",
       "    <tr>\n",
       "      <th>...</th>\n",
       "      <td>...</td>\n",
       "      <td>...</td>\n",
       "      <td>...</td>\n",
       "      <td>...</td>\n",
       "      <td>...</td>\n",
       "      <td>...</td>\n",
       "      <td>...</td>\n",
       "      <td>...</td>\n",
       "      <td>...</td>\n",
       "      <td>...</td>\n",
       "      <td>...</td>\n",
       "      <td>...</td>\n",
       "    </tr>\n",
       "    <tr>\n",
       "      <th>134584</th>\n",
       "      <td>Jul312217564RT45</td>\n",
       "      <td>17564</td>\n",
       "      <td>30-07-22</td>\n",
       "      <td>31-07-22</td>\n",
       "      <td>1/8/2022</td>\n",
       "      <td>2.0</td>\n",
       "      <td>RT4</td>\n",
       "      <td>others</td>\n",
       "      <td>2.0</td>\n",
       "      <td>Checked Out</td>\n",
       "      <td>32300</td>\n",
       "      <td>32300</td>\n",
       "    </tr>\n",
       "    <tr>\n",
       "      <th>134585</th>\n",
       "      <td>Jul312217564RT46</td>\n",
       "      <td>17564</td>\n",
       "      <td>29-07-22</td>\n",
       "      <td>31-07-22</td>\n",
       "      <td>3/8/2022</td>\n",
       "      <td>1.0</td>\n",
       "      <td>RT4</td>\n",
       "      <td>makeyourtrip</td>\n",
       "      <td>2.0</td>\n",
       "      <td>Checked Out</td>\n",
       "      <td>32300</td>\n",
       "      <td>32300</td>\n",
       "    </tr>\n",
       "    <tr>\n",
       "      <th>134587</th>\n",
       "      <td>Jul312217564RT48</td>\n",
       "      <td>17564</td>\n",
       "      <td>30-07-22</td>\n",
       "      <td>31-07-22</td>\n",
       "      <td>2/8/2022</td>\n",
       "      <td>1.0</td>\n",
       "      <td>RT4</td>\n",
       "      <td>tripster</td>\n",
       "      <td>NaN</td>\n",
       "      <td>Cancelled</td>\n",
       "      <td>32300</td>\n",
       "      <td>12920</td>\n",
       "    </tr>\n",
       "    <tr>\n",
       "      <th>134588</th>\n",
       "      <td>Jul312217564RT49</td>\n",
       "      <td>17564</td>\n",
       "      <td>29-07-22</td>\n",
       "      <td>31-07-22</td>\n",
       "      <td>1/8/2022</td>\n",
       "      <td>2.0</td>\n",
       "      <td>RT4</td>\n",
       "      <td>logtrip</td>\n",
       "      <td>2.0</td>\n",
       "      <td>Checked Out</td>\n",
       "      <td>32300</td>\n",
       "      <td>32300</td>\n",
       "    </tr>\n",
       "    <tr>\n",
       "      <th>134589</th>\n",
       "      <td>Jul312217564RT410</td>\n",
       "      <td>17564</td>\n",
       "      <td>31-07-22</td>\n",
       "      <td>31-07-22</td>\n",
       "      <td>1/8/2022</td>\n",
       "      <td>2.0</td>\n",
       "      <td>RT4</td>\n",
       "      <td>makeyourtrip</td>\n",
       "      <td>NaN</td>\n",
       "      <td>Cancelled</td>\n",
       "      <td>32300</td>\n",
       "      <td>12920</td>\n",
       "    </tr>\n",
       "  </tbody>\n",
       "</table>\n",
       "<p>134573 rows × 12 columns</p>\n",
       "</div>"
      ],
      "text/plain": [
       "               booking_id  property_id booking_date check_in_date  \\\n",
       "1        May012216558RT12        16558     30-04-22      1/5/2022   \n",
       "4        May012216558RT15        16558     27-04-22      1/5/2022   \n",
       "5        May012216558RT16        16558     1/5/2022      1/5/2022   \n",
       "6        May012216558RT17        16558     28-04-22      1/5/2022   \n",
       "7        May012216558RT18        16558     26-04-22      1/5/2022   \n",
       "...                   ...          ...          ...           ...   \n",
       "134584   Jul312217564RT45        17564     30-07-22      31-07-22   \n",
       "134585   Jul312217564RT46        17564     29-07-22      31-07-22   \n",
       "134587   Jul312217564RT48        17564     30-07-22      31-07-22   \n",
       "134588   Jul312217564RT49        17564     29-07-22      31-07-22   \n",
       "134589  Jul312217564RT410        17564     31-07-22      31-07-22   \n",
       "\n",
       "       checkout_date  no_guests room_category booking_platform  ratings_given  \\\n",
       "1           2/5/2022        2.0           RT1           others            NaN   \n",
       "4           2/5/2022        4.0           RT1    direct online            5.0   \n",
       "5           3/5/2022        2.0           RT1           others            4.0   \n",
       "6           6/5/2022        2.0           RT1           others            NaN   \n",
       "7           3/5/2022        2.0           RT1          logtrip            NaN   \n",
       "...              ...        ...           ...              ...            ...   \n",
       "134584      1/8/2022        2.0           RT4           others            2.0   \n",
       "134585      3/8/2022        1.0           RT4     makeyourtrip            2.0   \n",
       "134587      2/8/2022        1.0           RT4         tripster            NaN   \n",
       "134588      1/8/2022        2.0           RT4          logtrip            2.0   \n",
       "134589      1/8/2022        2.0           RT4     makeyourtrip            NaN   \n",
       "\n",
       "       booking_status  revenue_generated  revenue_realized  \n",
       "1           Cancelled               9100              3640  \n",
       "4         Checked Out              10920             10920  \n",
       "5         Checked Out               9100              9100  \n",
       "6           Cancelled               9100              3640  \n",
       "7             No Show               9100              9100  \n",
       "...               ...                ...               ...  \n",
       "134584    Checked Out              32300             32300  \n",
       "134585    Checked Out              32300             32300  \n",
       "134587      Cancelled              32300             12920  \n",
       "134588    Checked Out              32300             32300  \n",
       "134589      Cancelled              32300             12920  \n",
       "\n",
       "[134573 rows x 12 columns]"
      ]
     },
     "execution_count": 336,
     "metadata": {},
     "output_type": "execute_result"
    }
   ],
   "source": [
    "df_bookings=df_bookings[df_bookings.revenue_generated<=higher_lmt]     # Cleaned Booking data within 3 sigma limit\n",
    "df_bookings"
   ]
  },
  {
   "cell_type": "code",
   "execution_count": 337,
   "id": "f2292d37",
   "metadata": {},
   "outputs": [
    {
     "data": {
      "text/plain": [
       "(134573, 12)"
      ]
     },
     "execution_count": 337,
     "metadata": {},
     "output_type": "execute_result"
    }
   ],
   "source": [
    "df_bookings.shape"
   ]
  },
  {
   "cell_type": "markdown",
   "id": "ea470eef",
   "metadata": {},
   "source": [
    "**(3) outlier removal for revenue realized**"
   ]
  },
  {
   "cell_type": "code",
   "execution_count": 338,
   "id": "f0bce8ff",
   "metadata": {},
   "outputs": [
    {
     "data": {
      "text/plain": [
       "count    134573.000000\n",
       "mean      12695.983585\n",
       "std        6927.791692\n",
       "min        2600.000000\n",
       "25%        7600.000000\n",
       "50%       11700.000000\n",
       "75%       15300.000000\n",
       "max       45220.000000\n",
       "Name: revenue_realized, dtype: float64"
      ]
     },
     "execution_count": 338,
     "metadata": {},
     "output_type": "execute_result"
    }
   ],
   "source": [
    "df_bookings.revenue_realized.describe()"
   ]
  },
  {
   "cell_type": "code",
   "execution_count": 339,
   "id": "d1b08b5b",
   "metadata": {},
   "outputs": [
    {
     "data": {
      "text/plain": [
       "(12695.983585117372, 6927.791692242814)"
      ]
     },
     "execution_count": 339,
     "metadata": {},
     "output_type": "execute_result"
    }
   ],
   "source": [
    "avg_rrealized,std_rrealized=df_bookings.revenue_realized.mean(),df_bookings.revenue_realized.std()\n",
    "avg_rrealized,std_rrealized"
   ]
  },
  {
   "cell_type": "code",
   "execution_count": 340,
   "id": "4c4c6714",
   "metadata": {},
   "outputs": [],
   "source": [
    "higher_lmt_realized=avg_rrealized+3*std_rrealized\n",
    "lower_lmt_realized=avg_rrealized-3*std_rrealized"
   ]
  },
  {
   "cell_type": "code",
   "execution_count": 341,
   "id": "a4d0abb0",
   "metadata": {},
   "outputs": [
    {
     "data": {
      "text/plain": [
       "(33479.358661845814, -8087.391491611072)"
      ]
     },
     "execution_count": 341,
     "metadata": {},
     "output_type": "execute_result"
    }
   ],
   "source": [
    "higher_lmt_realized,lower_lmt_realized        # higher and lower limits of 3 sigma"
   ]
  },
  {
   "cell_type": "code",
   "execution_count": 342,
   "id": "b5bac5f2",
   "metadata": {},
   "outputs": [
    {
     "data": {
      "text/html": [
       "<div>\n",
       "<style scoped>\n",
       "    .dataframe tbody tr th:only-of-type {\n",
       "        vertical-align: middle;\n",
       "    }\n",
       "\n",
       "    .dataframe tbody tr th {\n",
       "        vertical-align: top;\n",
       "    }\n",
       "\n",
       "    .dataframe thead th {\n",
       "        text-align: right;\n",
       "    }\n",
       "</style>\n",
       "<table border=\"1\" class=\"dataframe\">\n",
       "  <thead>\n",
       "    <tr style=\"text-align: right;\">\n",
       "      <th></th>\n",
       "      <th>booking_id</th>\n",
       "      <th>property_id</th>\n",
       "      <th>booking_date</th>\n",
       "      <th>check_in_date</th>\n",
       "      <th>checkout_date</th>\n",
       "      <th>no_guests</th>\n",
       "      <th>room_category</th>\n",
       "      <th>booking_platform</th>\n",
       "      <th>ratings_given</th>\n",
       "      <th>booking_status</th>\n",
       "      <th>revenue_generated</th>\n",
       "      <th>revenue_realized</th>\n",
       "    </tr>\n",
       "  </thead>\n",
       "  <tbody>\n",
       "    <tr>\n",
       "      <th>137</th>\n",
       "      <td>May012216559RT41</td>\n",
       "      <td>16559</td>\n",
       "      <td>27-04-22</td>\n",
       "      <td>1/5/2022</td>\n",
       "      <td>7/5/2022</td>\n",
       "      <td>4.0</td>\n",
       "      <td>RT4</td>\n",
       "      <td>others</td>\n",
       "      <td>NaN</td>\n",
       "      <td>Checked Out</td>\n",
       "      <td>38760</td>\n",
       "      <td>38760</td>\n",
       "    </tr>\n",
       "    <tr>\n",
       "      <th>139</th>\n",
       "      <td>May012216559RT43</td>\n",
       "      <td>16559</td>\n",
       "      <td>1/5/2022</td>\n",
       "      <td>1/5/2022</td>\n",
       "      <td>2/5/2022</td>\n",
       "      <td>6.0</td>\n",
       "      <td>RT4</td>\n",
       "      <td>tripster</td>\n",
       "      <td>3.0</td>\n",
       "      <td>Checked Out</td>\n",
       "      <td>45220</td>\n",
       "      <td>45220</td>\n",
       "    </tr>\n",
       "    <tr>\n",
       "      <th>143</th>\n",
       "      <td>May012216559RT47</td>\n",
       "      <td>16559</td>\n",
       "      <td>28-04-22</td>\n",
       "      <td>1/5/2022</td>\n",
       "      <td>3/5/2022</td>\n",
       "      <td>3.0</td>\n",
       "      <td>RT4</td>\n",
       "      <td>others</td>\n",
       "      <td>5.0</td>\n",
       "      <td>Checked Out</td>\n",
       "      <td>35530</td>\n",
       "      <td>35530</td>\n",
       "    </tr>\n",
       "    <tr>\n",
       "      <th>149</th>\n",
       "      <td>May012216559RT413</td>\n",
       "      <td>16559</td>\n",
       "      <td>24-04-22</td>\n",
       "      <td>1/5/2022</td>\n",
       "      <td>7/5/2022</td>\n",
       "      <td>5.0</td>\n",
       "      <td>RT4</td>\n",
       "      <td>logtrip</td>\n",
       "      <td>NaN</td>\n",
       "      <td>Checked Out</td>\n",
       "      <td>41990</td>\n",
       "      <td>41990</td>\n",
       "    </tr>\n",
       "    <tr>\n",
       "      <th>222</th>\n",
       "      <td>May012216560RT45</td>\n",
       "      <td>16560</td>\n",
       "      <td>30-04-22</td>\n",
       "      <td>1/5/2022</td>\n",
       "      <td>3/5/2022</td>\n",
       "      <td>5.0</td>\n",
       "      <td>RT4</td>\n",
       "      <td>others</td>\n",
       "      <td>3.0</td>\n",
       "      <td>Checked Out</td>\n",
       "      <td>34580</td>\n",
       "      <td>34580</td>\n",
       "    </tr>\n",
       "    <tr>\n",
       "      <th>...</th>\n",
       "      <td>...</td>\n",
       "      <td>...</td>\n",
       "      <td>...</td>\n",
       "      <td>...</td>\n",
       "      <td>...</td>\n",
       "      <td>...</td>\n",
       "      <td>...</td>\n",
       "      <td>...</td>\n",
       "      <td>...</td>\n",
       "      <td>...</td>\n",
       "      <td>...</td>\n",
       "      <td>...</td>\n",
       "    </tr>\n",
       "    <tr>\n",
       "      <th>134328</th>\n",
       "      <td>Jul312219560RT49</td>\n",
       "      <td>19560</td>\n",
       "      <td>31-07-22</td>\n",
       "      <td>31-07-22</td>\n",
       "      <td>2/8/2022</td>\n",
       "      <td>6.0</td>\n",
       "      <td>RT4</td>\n",
       "      <td>direct online</td>\n",
       "      <td>5.0</td>\n",
       "      <td>Checked Out</td>\n",
       "      <td>39900</td>\n",
       "      <td>39900</td>\n",
       "    </tr>\n",
       "    <tr>\n",
       "      <th>134331</th>\n",
       "      <td>Jul312219560RT412</td>\n",
       "      <td>19560</td>\n",
       "      <td>31-07-22</td>\n",
       "      <td>31-07-22</td>\n",
       "      <td>1/8/2022</td>\n",
       "      <td>6.0</td>\n",
       "      <td>RT4</td>\n",
       "      <td>others</td>\n",
       "      <td>2.0</td>\n",
       "      <td>Checked Out</td>\n",
       "      <td>39900</td>\n",
       "      <td>39900</td>\n",
       "    </tr>\n",
       "    <tr>\n",
       "      <th>134467</th>\n",
       "      <td>Jul312219562RT45</td>\n",
       "      <td>19562</td>\n",
       "      <td>28-07-22</td>\n",
       "      <td>31-07-22</td>\n",
       "      <td>1/8/2022</td>\n",
       "      <td>6.0</td>\n",
       "      <td>RT4</td>\n",
       "      <td>makeyourtrip</td>\n",
       "      <td>4.0</td>\n",
       "      <td>Checked Out</td>\n",
       "      <td>39900</td>\n",
       "      <td>39900</td>\n",
       "    </tr>\n",
       "    <tr>\n",
       "      <th>134474</th>\n",
       "      <td>Jul312219562RT412</td>\n",
       "      <td>19562</td>\n",
       "      <td>25-07-22</td>\n",
       "      <td>31-07-22</td>\n",
       "      <td>6/8/2022</td>\n",
       "      <td>5.0</td>\n",
       "      <td>RT4</td>\n",
       "      <td>direct offline</td>\n",
       "      <td>5.0</td>\n",
       "      <td>Checked Out</td>\n",
       "      <td>37050</td>\n",
       "      <td>37050</td>\n",
       "    </tr>\n",
       "    <tr>\n",
       "      <th>134581</th>\n",
       "      <td>Jul312217564RT42</td>\n",
       "      <td>17564</td>\n",
       "      <td>31-07-22</td>\n",
       "      <td>31-07-22</td>\n",
       "      <td>1/8/2022</td>\n",
       "      <td>4.0</td>\n",
       "      <td>RT4</td>\n",
       "      <td>makeyourtrip</td>\n",
       "      <td>4.0</td>\n",
       "      <td>Checked Out</td>\n",
       "      <td>38760</td>\n",
       "      <td>38760</td>\n",
       "    </tr>\n",
       "  </tbody>\n",
       "</table>\n",
       "<p>1299 rows × 12 columns</p>\n",
       "</div>"
      ],
      "text/plain": [
       "               booking_id  property_id booking_date check_in_date  \\\n",
       "137      May012216559RT41        16559     27-04-22      1/5/2022   \n",
       "139      May012216559RT43        16559     1/5/2022      1/5/2022   \n",
       "143      May012216559RT47        16559     28-04-22      1/5/2022   \n",
       "149     May012216559RT413        16559     24-04-22      1/5/2022   \n",
       "222      May012216560RT45        16560     30-04-22      1/5/2022   \n",
       "...                   ...          ...          ...           ...   \n",
       "134328   Jul312219560RT49        19560     31-07-22      31-07-22   \n",
       "134331  Jul312219560RT412        19560     31-07-22      31-07-22   \n",
       "134467   Jul312219562RT45        19562     28-07-22      31-07-22   \n",
       "134474  Jul312219562RT412        19562     25-07-22      31-07-22   \n",
       "134581   Jul312217564RT42        17564     31-07-22      31-07-22   \n",
       "\n",
       "       checkout_date  no_guests room_category booking_platform  ratings_given  \\\n",
       "137         7/5/2022        4.0           RT4           others            NaN   \n",
       "139         2/5/2022        6.0           RT4         tripster            3.0   \n",
       "143         3/5/2022        3.0           RT4           others            5.0   \n",
       "149         7/5/2022        5.0           RT4          logtrip            NaN   \n",
       "222         3/5/2022        5.0           RT4           others            3.0   \n",
       "...              ...        ...           ...              ...            ...   \n",
       "134328      2/8/2022        6.0           RT4    direct online            5.0   \n",
       "134331      1/8/2022        6.0           RT4           others            2.0   \n",
       "134467      1/8/2022        6.0           RT4     makeyourtrip            4.0   \n",
       "134474      6/8/2022        5.0           RT4   direct offline            5.0   \n",
       "134581      1/8/2022        4.0           RT4     makeyourtrip            4.0   \n",
       "\n",
       "       booking_status  revenue_generated  revenue_realized  \n",
       "137       Checked Out              38760             38760  \n",
       "139       Checked Out              45220             45220  \n",
       "143       Checked Out              35530             35530  \n",
       "149       Checked Out              41990             41990  \n",
       "222       Checked Out              34580             34580  \n",
       "...               ...                ...               ...  \n",
       "134328    Checked Out              39900             39900  \n",
       "134331    Checked Out              39900             39900  \n",
       "134467    Checked Out              39900             39900  \n",
       "134474    Checked Out              37050             37050  \n",
       "134581    Checked Out              38760             38760  \n",
       "\n",
       "[1299 rows x 12 columns]"
      ]
     },
     "execution_count": 342,
     "metadata": {},
     "output_type": "execute_result"
    }
   ],
   "source": [
    "df_bookings[df_bookings.revenue_realized>higher_lmt_realized]"
   ]
  },
  {
   "cell_type": "code",
   "execution_count": 343,
   "id": "2c1435cb",
   "metadata": {},
   "outputs": [
    {
     "data": {
      "text/plain": [
       "array(['RT4'], dtype=object)"
      ]
     },
     "execution_count": 343,
     "metadata": {},
     "output_type": "execute_result"
    }
   ],
   "source": [
    "df_bookings[df_bookings.revenue_realized>higher_lmt_realized].room_category.unique()"
   ]
  },
  {
   "cell_type": "code",
   "execution_count": 344,
   "id": "de382812",
   "metadata": {},
   "outputs": [
    {
     "data": {
      "text/html": [
       "<div>\n",
       "<style scoped>\n",
       "    .dataframe tbody tr th:only-of-type {\n",
       "        vertical-align: middle;\n",
       "    }\n",
       "\n",
       "    .dataframe tbody tr th {\n",
       "        vertical-align: top;\n",
       "    }\n",
       "\n",
       "    .dataframe thead th {\n",
       "        text-align: right;\n",
       "    }\n",
       "</style>\n",
       "<table border=\"1\" class=\"dataframe\">\n",
       "  <thead>\n",
       "    <tr style=\"text-align: right;\">\n",
       "      <th></th>\n",
       "      <th>room_id</th>\n",
       "      <th>room_class</th>\n",
       "    </tr>\n",
       "  </thead>\n",
       "  <tbody>\n",
       "    <tr>\n",
       "      <th>0</th>\n",
       "      <td>RT1</td>\n",
       "      <td>Standard</td>\n",
       "    </tr>\n",
       "    <tr>\n",
       "      <th>1</th>\n",
       "      <td>RT2</td>\n",
       "      <td>Elite</td>\n",
       "    </tr>\n",
       "    <tr>\n",
       "      <th>2</th>\n",
       "      <td>RT3</td>\n",
       "      <td>Premium</td>\n",
       "    </tr>\n",
       "    <tr>\n",
       "      <th>3</th>\n",
       "      <td>RT4</td>\n",
       "      <td>Presidential</td>\n",
       "    </tr>\n",
       "  </tbody>\n",
       "</table>\n",
       "</div>"
      ],
      "text/plain": [
       "  room_id    room_class\n",
       "0     RT1      Standard\n",
       "1     RT2         Elite\n",
       "2     RT3       Premium\n",
       "3     RT4  Presidential"
      ]
     },
     "execution_count": 344,
     "metadata": {},
     "output_type": "execute_result"
    }
   ],
   "source": [
    "df_rooms"
   ]
  },
  {
   "cell_type": "markdown",
   "id": "73e43aa8",
   "metadata": {},
   "source": [
    "One observation we can have in above dataframe is that all rooms are RT4 which means presidential suit. Now since RT4 is a luxurious room it is likely their rent will be higher. To make a fair analysis, we need to do data analysis only on RT4 room types"
   ]
  },
  {
   "cell_type": "code",
   "execution_count": 345,
   "id": "75804a94",
   "metadata": {},
   "outputs": [
    {
     "data": {
      "text/plain": [
       "(23439.308443780723, 9048.599075739918)"
      ]
     },
     "execution_count": 345,
     "metadata": {},
     "output_type": "execute_result"
    }
   ],
   "source": [
    "avg_rt4= df_bookings[df_bookings.room_category==\"RT4\"].revenue_realized.mean()\n",
    "std_rt4= df_bookings[df_bookings.room_category==\"RT4\"].revenue_realized.std()\n",
    "avg_rt4,std_rt4"
   ]
  },
  {
   "cell_type": "code",
   "execution_count": 346,
   "id": "dd1aaf6f",
   "metadata": {},
   "outputs": [
    {
     "data": {
      "text/plain": [
       "(50585.10567100048, -3706.4887834390283)"
      ]
     },
     "execution_count": 346,
     "metadata": {},
     "output_type": "execute_result"
    }
   ],
   "source": [
    "highrt_lmt_rt4= avg_rt4+3*std_rt4\n",
    "lower_lmt_rt4= avg_rt4-3*std_rt4\n",
    "highrt_lmt_rt4,lower_lmt_rt4                    # 3 sigma limits for RT4 "
   ]
  },
  {
   "cell_type": "code",
   "execution_count": 347,
   "id": "7c536c4b",
   "metadata": {},
   "outputs": [
    {
     "data": {
      "text/plain": [
       "45220"
      ]
     },
     "execution_count": 347,
     "metadata": {},
     "output_type": "execute_result"
    }
   ],
   "source": [
    "df_bookings[df_bookings.room_category==\"RT4\"].revenue_realized.max()"
   ]
  },
  {
   "cell_type": "markdown",
   "id": "075a277c",
   "metadata": {},
   "source": [
    "Here higher limit comes to be 50585 and in our dataframe for RT4 above we can see that max value for revenue realized is 45220. Hence we can conclude that there is no outlier and we don't need to do any data cleaning on this particular column"
   ]
  },
  {
   "cell_type": "markdown",
   "id": "ae2e185a",
   "metadata": {},
   "source": [
    "**(4) Handling Null values**"
   ]
  },
  {
   "cell_type": "code",
   "execution_count": 348,
   "id": "a39cc9bb",
   "metadata": {},
   "outputs": [
    {
     "data": {
      "text/plain": [
       "booking_id               0\n",
       "property_id              0\n",
       "booking_date             0\n",
       "check_in_date            0\n",
       "checkout_date            0\n",
       "no_guests                0\n",
       "room_category            0\n",
       "booking_platform         0\n",
       "ratings_given        77897\n",
       "booking_status           0\n",
       "revenue_generated        0\n",
       "revenue_realized         0\n",
       "dtype: int64"
      ]
     },
     "execution_count": 348,
     "metadata": {},
     "output_type": "execute_result"
    }
   ],
   "source": [
    "df_bookings.isnull().sum()"
   ]
  },
  {
   "cell_type": "code",
   "execution_count": 349,
   "id": "7527a91a",
   "metadata": {},
   "outputs": [
    {
     "data": {
      "text/plain": [
       "(134573, 12)"
      ]
     },
     "execution_count": 349,
     "metadata": {},
     "output_type": "execute_result"
    }
   ],
   "source": [
    "df_bookings.shape"
   ]
  },
  {
   "cell_type": "markdown",
   "id": "13cb577f",
   "metadata": {},
   "source": [
    "Total values in our dataframe is 134573. Out of that 77899 rows has null rating. Since there are many rows with null rating, these values are not filtered. Also these are not replaced with a median or mean rating etc "
   ]
  },
  {
   "cell_type": "code",
   "execution_count": 350,
   "id": "c42a5aea",
   "metadata": {},
   "outputs": [
    {
     "data": {
      "text/plain": [
       "property_id            0\n",
       "check_in_date          0\n",
       "room_category          0\n",
       "successful_bookings    0\n",
       "capacity               2\n",
       "dtype: int64"
      ]
     },
     "execution_count": 350,
     "metadata": {},
     "output_type": "execute_result"
    }
   ],
   "source": [
    "df_agg_bookings.isnull().sum()"
   ]
  },
  {
   "cell_type": "code",
   "execution_count": 351,
   "id": "92758824",
   "metadata": {},
   "outputs": [
    {
     "data": {
      "text/html": [
       "<div>\n",
       "<style scoped>\n",
       "    .dataframe tbody tr th:only-of-type {\n",
       "        vertical-align: middle;\n",
       "    }\n",
       "\n",
       "    .dataframe tbody tr th {\n",
       "        vertical-align: top;\n",
       "    }\n",
       "\n",
       "    .dataframe thead th {\n",
       "        text-align: right;\n",
       "    }\n",
       "</style>\n",
       "<table border=\"1\" class=\"dataframe\">\n",
       "  <thead>\n",
       "    <tr style=\"text-align: right;\">\n",
       "      <th></th>\n",
       "      <th>property_id</th>\n",
       "      <th>check_in_date</th>\n",
       "      <th>room_category</th>\n",
       "      <th>successful_bookings</th>\n",
       "      <th>capacity</th>\n",
       "    </tr>\n",
       "  </thead>\n",
       "  <tbody>\n",
       "    <tr>\n",
       "      <th>8</th>\n",
       "      <td>17561</td>\n",
       "      <td>1-May-22</td>\n",
       "      <td>RT1</td>\n",
       "      <td>22</td>\n",
       "      <td>NaN</td>\n",
       "    </tr>\n",
       "    <tr>\n",
       "      <th>14</th>\n",
       "      <td>17562</td>\n",
       "      <td>1-May-22</td>\n",
       "      <td>RT1</td>\n",
       "      <td>12</td>\n",
       "      <td>NaN</td>\n",
       "    </tr>\n",
       "  </tbody>\n",
       "</table>\n",
       "</div>"
      ],
      "text/plain": [
       "    property_id check_in_date room_category  successful_bookings  capacity\n",
       "8         17561      1-May-22           RT1                   22       NaN\n",
       "14        17562      1-May-22           RT1                   12       NaN"
      ]
     },
     "execution_count": 351,
     "metadata": {},
     "output_type": "execute_result"
    }
   ],
   "source": [
    "df_agg_bookings[df_agg_bookings.capacity.isna()]  "
   ]
  },
  {
   "cell_type": "markdown",
   "id": "7951b8c5",
   "metadata": {},
   "source": [
    "Null values in capacity column to be replaced by median value. "
   ]
  },
  {
   "cell_type": "code",
   "execution_count": 352,
   "id": "ca922b71",
   "metadata": {},
   "outputs": [
    {
     "data": {
      "text/html": [
       "<div>\n",
       "<style scoped>\n",
       "    .dataframe tbody tr th:only-of-type {\n",
       "        vertical-align: middle;\n",
       "    }\n",
       "\n",
       "    .dataframe tbody tr th {\n",
       "        vertical-align: top;\n",
       "    }\n",
       "\n",
       "    .dataframe thead th {\n",
       "        text-align: right;\n",
       "    }\n",
       "</style>\n",
       "<table border=\"1\" class=\"dataframe\">\n",
       "  <thead>\n",
       "    <tr style=\"text-align: right;\">\n",
       "      <th></th>\n",
       "      <th>property_id</th>\n",
       "      <th>successful_bookings</th>\n",
       "      <th>capacity</th>\n",
       "    </tr>\n",
       "  </thead>\n",
       "  <tbody>\n",
       "    <tr>\n",
       "      <th>count</th>\n",
       "      <td>9200.000000</td>\n",
       "      <td>9200.000000</td>\n",
       "      <td>9198.000000</td>\n",
       "    </tr>\n",
       "    <tr>\n",
       "      <th>mean</th>\n",
       "      <td>18040.640000</td>\n",
       "      <td>14.655761</td>\n",
       "      <td>25.280496</td>\n",
       "    </tr>\n",
       "    <tr>\n",
       "      <th>std</th>\n",
       "      <td>1099.818325</td>\n",
       "      <td>7.736170</td>\n",
       "      <td>11.442080</td>\n",
       "    </tr>\n",
       "    <tr>\n",
       "      <th>min</th>\n",
       "      <td>16558.000000</td>\n",
       "      <td>1.000000</td>\n",
       "      <td>3.000000</td>\n",
       "    </tr>\n",
       "    <tr>\n",
       "      <th>25%</th>\n",
       "      <td>17558.000000</td>\n",
       "      <td>9.000000</td>\n",
       "      <td>18.000000</td>\n",
       "    </tr>\n",
       "    <tr>\n",
       "      <th>50%</th>\n",
       "      <td>17564.000000</td>\n",
       "      <td>14.000000</td>\n",
       "      <td>25.000000</td>\n",
       "    </tr>\n",
       "    <tr>\n",
       "      <th>75%</th>\n",
       "      <td>18563.000000</td>\n",
       "      <td>19.000000</td>\n",
       "      <td>34.000000</td>\n",
       "    </tr>\n",
       "    <tr>\n",
       "      <th>max</th>\n",
       "      <td>19563.000000</td>\n",
       "      <td>123.000000</td>\n",
       "      <td>50.000000</td>\n",
       "    </tr>\n",
       "  </tbody>\n",
       "</table>\n",
       "</div>"
      ],
      "text/plain": [
       "        property_id  successful_bookings     capacity\n",
       "count   9200.000000          9200.000000  9198.000000\n",
       "mean   18040.640000            14.655761    25.280496\n",
       "std     1099.818325             7.736170    11.442080\n",
       "min    16558.000000             1.000000     3.000000\n",
       "25%    17558.000000             9.000000    18.000000\n",
       "50%    17564.000000            14.000000    25.000000\n",
       "75%    18563.000000            19.000000    34.000000\n",
       "max    19563.000000           123.000000    50.000000"
      ]
     },
     "execution_count": 352,
     "metadata": {},
     "output_type": "execute_result"
    }
   ],
   "source": [
    "df_agg_bookings.describe()"
   ]
  },
  {
   "cell_type": "code",
   "execution_count": 353,
   "id": "c93ea478",
   "metadata": {},
   "outputs": [
    {
     "data": {
      "text/plain": [
       "25.0"
      ]
     },
     "execution_count": 353,
     "metadata": {},
     "output_type": "execute_result"
    }
   ],
   "source": [
    "df_agg_bookings.capacity.median()"
   ]
  },
  {
   "cell_type": "code",
   "execution_count": 354,
   "id": "bc8c48b0",
   "metadata": {},
   "outputs": [],
   "source": [
    "df_agg_bookings.capacity.fillna(df_agg_bookings.capacity.median(),inplace=True)    # null value replaced by median value"
   ]
  },
  {
   "cell_type": "code",
   "execution_count": 355,
   "id": "5a95dd51",
   "metadata": {},
   "outputs": [
    {
     "data": {
      "text/html": [
       "<div>\n",
       "<style scoped>\n",
       "    .dataframe tbody tr th:only-of-type {\n",
       "        vertical-align: middle;\n",
       "    }\n",
       "\n",
       "    .dataframe tbody tr th {\n",
       "        vertical-align: top;\n",
       "    }\n",
       "\n",
       "    .dataframe thead th {\n",
       "        text-align: right;\n",
       "    }\n",
       "</style>\n",
       "<table border=\"1\" class=\"dataframe\">\n",
       "  <thead>\n",
       "    <tr style=\"text-align: right;\">\n",
       "      <th></th>\n",
       "      <th>property_id</th>\n",
       "      <th>check_in_date</th>\n",
       "      <th>room_category</th>\n",
       "      <th>successful_bookings</th>\n",
       "      <th>capacity</th>\n",
       "    </tr>\n",
       "  </thead>\n",
       "  <tbody>\n",
       "  </tbody>\n",
       "</table>\n",
       "</div>"
      ],
      "text/plain": [
       "Empty DataFrame\n",
       "Columns: [property_id, check_in_date, room_category, successful_bookings, capacity]\n",
       "Index: []"
      ]
     },
     "execution_count": 355,
     "metadata": {},
     "output_type": "execute_result"
    }
   ],
   "source": [
    "df_agg_bookings[df_agg_bookings.capacity.isna()]               # verified no null value now"
   ]
  },
  {
   "cell_type": "code",
   "execution_count": 356,
   "id": "d4727075",
   "metadata": {},
   "outputs": [
    {
     "data": {
      "text/html": [
       "<div>\n",
       "<style scoped>\n",
       "    .dataframe tbody tr th:only-of-type {\n",
       "        vertical-align: middle;\n",
       "    }\n",
       "\n",
       "    .dataframe tbody tr th {\n",
       "        vertical-align: top;\n",
       "    }\n",
       "\n",
       "    .dataframe thead th {\n",
       "        text-align: right;\n",
       "    }\n",
       "</style>\n",
       "<table border=\"1\" class=\"dataframe\">\n",
       "  <thead>\n",
       "    <tr style=\"text-align: right;\">\n",
       "      <th></th>\n",
       "      <th>property_id</th>\n",
       "      <th>check_in_date</th>\n",
       "      <th>room_category</th>\n",
       "      <th>successful_bookings</th>\n",
       "      <th>capacity</th>\n",
       "    </tr>\n",
       "  </thead>\n",
       "  <tbody>\n",
       "    <tr>\n",
       "      <th>3</th>\n",
       "      <td>17558</td>\n",
       "      <td>1-May-22</td>\n",
       "      <td>RT1</td>\n",
       "      <td>30</td>\n",
       "      <td>19.0</td>\n",
       "    </tr>\n",
       "    <tr>\n",
       "      <th>12</th>\n",
       "      <td>16563</td>\n",
       "      <td>1-May-22</td>\n",
       "      <td>RT1</td>\n",
       "      <td>100</td>\n",
       "      <td>41.0</td>\n",
       "    </tr>\n",
       "    <tr>\n",
       "      <th>4136</th>\n",
       "      <td>19558</td>\n",
       "      <td>11-Jun-22</td>\n",
       "      <td>RT2</td>\n",
       "      <td>50</td>\n",
       "      <td>39.0</td>\n",
       "    </tr>\n",
       "    <tr>\n",
       "      <th>6209</th>\n",
       "      <td>19560</td>\n",
       "      <td>2-Jul-22</td>\n",
       "      <td>RT1</td>\n",
       "      <td>123</td>\n",
       "      <td>26.0</td>\n",
       "    </tr>\n",
       "    <tr>\n",
       "      <th>8522</th>\n",
       "      <td>19559</td>\n",
       "      <td>25-Jul-22</td>\n",
       "      <td>RT1</td>\n",
       "      <td>35</td>\n",
       "      <td>24.0</td>\n",
       "    </tr>\n",
       "    <tr>\n",
       "      <th>9194</th>\n",
       "      <td>18563</td>\n",
       "      <td>31-Jul-22</td>\n",
       "      <td>RT4</td>\n",
       "      <td>20</td>\n",
       "      <td>18.0</td>\n",
       "    </tr>\n",
       "  </tbody>\n",
       "</table>\n",
       "</div>"
      ],
      "text/plain": [
       "      property_id check_in_date room_category  successful_bookings  capacity\n",
       "3           17558      1-May-22           RT1                   30      19.0\n",
       "12          16563      1-May-22           RT1                  100      41.0\n",
       "4136        19558     11-Jun-22           RT2                   50      39.0\n",
       "6209        19560      2-Jul-22           RT1                  123      26.0\n",
       "8522        19559     25-Jul-22           RT1                   35      24.0\n",
       "9194        18563     31-Jul-22           RT4                   20      18.0"
      ]
     },
     "execution_count": 356,
     "metadata": {},
     "output_type": "execute_result"
    }
   ],
   "source": [
    "df_agg_bookings[df_agg_bookings.successful_bookings>df_agg_bookings.capacity]"
   ]
  },
  {
   "cell_type": "code",
   "execution_count": 357,
   "id": "31cb6abd",
   "metadata": {},
   "outputs": [
    {
     "data": {
      "text/plain": [
       "(9200, 5)"
      ]
     },
     "execution_count": 357,
     "metadata": {},
     "output_type": "execute_result"
    }
   ],
   "source": [
    "df_agg_bookings.shape"
   ]
  },
  {
   "cell_type": "markdown",
   "id": "850ff1a5",
   "metadata": {},
   "source": [
    "Since successful_bookings cannot be greater than capacity, data cleaning needs to be done. Number of such rows is 6 which is very less than total 9200 rows. Hence these 6 rows are filtered. "
   ]
  },
  {
   "cell_type": "code",
   "execution_count": 358,
   "id": "4a34ea07",
   "metadata": {},
   "outputs": [],
   "source": [
    "df_agg_bookings=df_agg_bookings[df_agg_bookings.successful_bookings<=df_agg_bookings.capacity]"
   ]
  },
  {
   "cell_type": "code",
   "execution_count": 359,
   "id": "aab3f89c",
   "metadata": {},
   "outputs": [
    {
     "data": {
      "text/plain": [
       "(9194, 5)"
      ]
     },
     "execution_count": 359,
     "metadata": {},
     "output_type": "execute_result"
    }
   ],
   "source": [
    "df_agg_bookings.shape    "
   ]
  },
  {
   "cell_type": "markdown",
   "id": "9bb65313",
   "metadata": {},
   "source": [
    "***\n",
    "### ==>Data transformation\n",
    "***"
   ]
  },
  {
   "cell_type": "markdown",
   "id": "c06aa1f2",
   "metadata": {},
   "source": [
    "**Occuancy percentage coloumn**"
   ]
  },
  {
   "cell_type": "code",
   "execution_count": 360,
   "id": "c862d5dd",
   "metadata": {},
   "outputs": [
    {
     "data": {
      "text/html": [
       "<div>\n",
       "<style scoped>\n",
       "    .dataframe tbody tr th:only-of-type {\n",
       "        vertical-align: middle;\n",
       "    }\n",
       "\n",
       "    .dataframe tbody tr th {\n",
       "        vertical-align: top;\n",
       "    }\n",
       "\n",
       "    .dataframe thead th {\n",
       "        text-align: right;\n",
       "    }\n",
       "</style>\n",
       "<table border=\"1\" class=\"dataframe\">\n",
       "  <thead>\n",
       "    <tr style=\"text-align: right;\">\n",
       "      <th></th>\n",
       "      <th>property_id</th>\n",
       "      <th>check_in_date</th>\n",
       "      <th>room_category</th>\n",
       "      <th>successful_bookings</th>\n",
       "      <th>capacity</th>\n",
       "    </tr>\n",
       "  </thead>\n",
       "  <tbody>\n",
       "    <tr>\n",
       "      <th>0</th>\n",
       "      <td>16559</td>\n",
       "      <td>1-May-22</td>\n",
       "      <td>RT1</td>\n",
       "      <td>25</td>\n",
       "      <td>30.0</td>\n",
       "    </tr>\n",
       "    <tr>\n",
       "      <th>1</th>\n",
       "      <td>19562</td>\n",
       "      <td>1-May-22</td>\n",
       "      <td>RT1</td>\n",
       "      <td>28</td>\n",
       "      <td>30.0</td>\n",
       "    </tr>\n",
       "    <tr>\n",
       "      <th>2</th>\n",
       "      <td>19563</td>\n",
       "      <td>1-May-22</td>\n",
       "      <td>RT1</td>\n",
       "      <td>23</td>\n",
       "      <td>30.0</td>\n",
       "    </tr>\n",
       "    <tr>\n",
       "      <th>4</th>\n",
       "      <td>16558</td>\n",
       "      <td>1-May-22</td>\n",
       "      <td>RT1</td>\n",
       "      <td>18</td>\n",
       "      <td>19.0</td>\n",
       "    </tr>\n",
       "    <tr>\n",
       "      <th>5</th>\n",
       "      <td>17560</td>\n",
       "      <td>1-May-22</td>\n",
       "      <td>RT1</td>\n",
       "      <td>28</td>\n",
       "      <td>40.0</td>\n",
       "    </tr>\n",
       "  </tbody>\n",
       "</table>\n",
       "</div>"
      ],
      "text/plain": [
       "   property_id check_in_date room_category  successful_bookings  capacity\n",
       "0        16559      1-May-22           RT1                   25      30.0\n",
       "1        19562      1-May-22           RT1                   28      30.0\n",
       "2        19563      1-May-22           RT1                   23      30.0\n",
       "4        16558      1-May-22           RT1                   18      19.0\n",
       "5        17560      1-May-22           RT1                   28      40.0"
      ]
     },
     "execution_count": 360,
     "metadata": {},
     "output_type": "execute_result"
    }
   ],
   "source": [
    "df_agg_bookings.head(5)"
   ]
  },
  {
   "cell_type": "code",
   "execution_count": 361,
   "id": "afbd6478",
   "metadata": {},
   "outputs": [
    {
     "data": {
      "text/html": [
       "<div>\n",
       "<style scoped>\n",
       "    .dataframe tbody tr th:only-of-type {\n",
       "        vertical-align: middle;\n",
       "    }\n",
       "\n",
       "    .dataframe tbody tr th {\n",
       "        vertical-align: top;\n",
       "    }\n",
       "\n",
       "    .dataframe thead th {\n",
       "        text-align: right;\n",
       "    }\n",
       "</style>\n",
       "<table border=\"1\" class=\"dataframe\">\n",
       "  <thead>\n",
       "    <tr style=\"text-align: right;\">\n",
       "      <th></th>\n",
       "      <th>property_id</th>\n",
       "      <th>check_in_date</th>\n",
       "      <th>room_category</th>\n",
       "      <th>successful_bookings</th>\n",
       "      <th>capacity</th>\n",
       "      <th>occ_pct</th>\n",
       "    </tr>\n",
       "  </thead>\n",
       "  <tbody>\n",
       "    <tr>\n",
       "      <th>0</th>\n",
       "      <td>16559</td>\n",
       "      <td>1-May-22</td>\n",
       "      <td>RT1</td>\n",
       "      <td>25</td>\n",
       "      <td>30.0</td>\n",
       "      <td>83.33</td>\n",
       "    </tr>\n",
       "    <tr>\n",
       "      <th>1</th>\n",
       "      <td>19562</td>\n",
       "      <td>1-May-22</td>\n",
       "      <td>RT1</td>\n",
       "      <td>28</td>\n",
       "      <td>30.0</td>\n",
       "      <td>93.33</td>\n",
       "    </tr>\n",
       "    <tr>\n",
       "      <th>2</th>\n",
       "      <td>19563</td>\n",
       "      <td>1-May-22</td>\n",
       "      <td>RT1</td>\n",
       "      <td>23</td>\n",
       "      <td>30.0</td>\n",
       "      <td>76.67</td>\n",
       "    </tr>\n",
       "    <tr>\n",
       "      <th>4</th>\n",
       "      <td>16558</td>\n",
       "      <td>1-May-22</td>\n",
       "      <td>RT1</td>\n",
       "      <td>18</td>\n",
       "      <td>19.0</td>\n",
       "      <td>94.74</td>\n",
       "    </tr>\n",
       "    <tr>\n",
       "      <th>5</th>\n",
       "      <td>17560</td>\n",
       "      <td>1-May-22</td>\n",
       "      <td>RT1</td>\n",
       "      <td>28</td>\n",
       "      <td>40.0</td>\n",
       "      <td>70.00</td>\n",
       "    </tr>\n",
       "  </tbody>\n",
       "</table>\n",
       "</div>"
      ],
      "text/plain": [
       "   property_id check_in_date room_category  successful_bookings  capacity  \\\n",
       "0        16559      1-May-22           RT1                   25      30.0   \n",
       "1        19562      1-May-22           RT1                   28      30.0   \n",
       "2        19563      1-May-22           RT1                   23      30.0   \n",
       "4        16558      1-May-22           RT1                   18      19.0   \n",
       "5        17560      1-May-22           RT1                   28      40.0   \n",
       "\n",
       "   occ_pct  \n",
       "0    83.33  \n",
       "1    93.33  \n",
       "2    76.67  \n",
       "4    94.74  \n",
       "5    70.00  "
      ]
     },
     "execution_count": 361,
     "metadata": {},
     "output_type": "execute_result"
    }
   ],
   "source": [
    "df_agg_bookings[\"occ_pct\"]= round(df_agg_bookings[\"successful_bookings\"]/df_agg_bookings[\"capacity\"],4)*100\n",
    "df_agg_bookings.head(5)"
   ]
  },
  {
   "cell_type": "code",
   "execution_count": 362,
   "id": "f11fec97",
   "metadata": {},
   "outputs": [
    {
     "data": {
      "text/html": [
       "<div>\n",
       "<style scoped>\n",
       "    .dataframe tbody tr th:only-of-type {\n",
       "        vertical-align: middle;\n",
       "    }\n",
       "\n",
       "    .dataframe tbody tr th {\n",
       "        vertical-align: top;\n",
       "    }\n",
       "\n",
       "    .dataframe thead th {\n",
       "        text-align: right;\n",
       "    }\n",
       "</style>\n",
       "<table border=\"1\" class=\"dataframe\">\n",
       "  <thead>\n",
       "    <tr style=\"text-align: right;\">\n",
       "      <th></th>\n",
       "      <th>booking_id</th>\n",
       "      <th>property_id</th>\n",
       "      <th>booking_date</th>\n",
       "      <th>check_in_date</th>\n",
       "      <th>checkout_date</th>\n",
       "      <th>no_guests</th>\n",
       "      <th>room_category</th>\n",
       "      <th>booking_platform</th>\n",
       "      <th>ratings_given</th>\n",
       "      <th>booking_status</th>\n",
       "      <th>revenue_generated</th>\n",
       "      <th>revenue_realized</th>\n",
       "    </tr>\n",
       "  </thead>\n",
       "  <tbody>\n",
       "    <tr>\n",
       "      <th>1</th>\n",
       "      <td>May012216558RT12</td>\n",
       "      <td>16558</td>\n",
       "      <td>30-04-22</td>\n",
       "      <td>1/5/2022</td>\n",
       "      <td>2/5/2022</td>\n",
       "      <td>2.0</td>\n",
       "      <td>RT1</td>\n",
       "      <td>others</td>\n",
       "      <td>NaN</td>\n",
       "      <td>Cancelled</td>\n",
       "      <td>9100</td>\n",
       "      <td>3640</td>\n",
       "    </tr>\n",
       "    <tr>\n",
       "      <th>4</th>\n",
       "      <td>May012216558RT15</td>\n",
       "      <td>16558</td>\n",
       "      <td>27-04-22</td>\n",
       "      <td>1/5/2022</td>\n",
       "      <td>2/5/2022</td>\n",
       "      <td>4.0</td>\n",
       "      <td>RT1</td>\n",
       "      <td>direct online</td>\n",
       "      <td>5.0</td>\n",
       "      <td>Checked Out</td>\n",
       "      <td>10920</td>\n",
       "      <td>10920</td>\n",
       "    </tr>\n",
       "    <tr>\n",
       "      <th>5</th>\n",
       "      <td>May012216558RT16</td>\n",
       "      <td>16558</td>\n",
       "      <td>1/5/2022</td>\n",
       "      <td>1/5/2022</td>\n",
       "      <td>3/5/2022</td>\n",
       "      <td>2.0</td>\n",
       "      <td>RT1</td>\n",
       "      <td>others</td>\n",
       "      <td>4.0</td>\n",
       "      <td>Checked Out</td>\n",
       "      <td>9100</td>\n",
       "      <td>9100</td>\n",
       "    </tr>\n",
       "    <tr>\n",
       "      <th>6</th>\n",
       "      <td>May012216558RT17</td>\n",
       "      <td>16558</td>\n",
       "      <td>28-04-22</td>\n",
       "      <td>1/5/2022</td>\n",
       "      <td>6/5/2022</td>\n",
       "      <td>2.0</td>\n",
       "      <td>RT1</td>\n",
       "      <td>others</td>\n",
       "      <td>NaN</td>\n",
       "      <td>Cancelled</td>\n",
       "      <td>9100</td>\n",
       "      <td>3640</td>\n",
       "    </tr>\n",
       "    <tr>\n",
       "      <th>7</th>\n",
       "      <td>May012216558RT18</td>\n",
       "      <td>16558</td>\n",
       "      <td>26-04-22</td>\n",
       "      <td>1/5/2022</td>\n",
       "      <td>3/5/2022</td>\n",
       "      <td>2.0</td>\n",
       "      <td>RT1</td>\n",
       "      <td>logtrip</td>\n",
       "      <td>NaN</td>\n",
       "      <td>No Show</td>\n",
       "      <td>9100</td>\n",
       "      <td>9100</td>\n",
       "    </tr>\n",
       "  </tbody>\n",
       "</table>\n",
       "</div>"
      ],
      "text/plain": [
       "         booking_id  property_id booking_date check_in_date checkout_date  \\\n",
       "1  May012216558RT12        16558     30-04-22      1/5/2022      2/5/2022   \n",
       "4  May012216558RT15        16558     27-04-22      1/5/2022      2/5/2022   \n",
       "5  May012216558RT16        16558     1/5/2022      1/5/2022      3/5/2022   \n",
       "6  May012216558RT17        16558     28-04-22      1/5/2022      6/5/2022   \n",
       "7  May012216558RT18        16558     26-04-22      1/5/2022      3/5/2022   \n",
       "\n",
       "   no_guests room_category booking_platform  ratings_given booking_status  \\\n",
       "1        2.0           RT1           others            NaN      Cancelled   \n",
       "4        4.0           RT1    direct online            5.0    Checked Out   \n",
       "5        2.0           RT1           others            4.0    Checked Out   \n",
       "6        2.0           RT1           others            NaN      Cancelled   \n",
       "7        2.0           RT1          logtrip            NaN        No Show   \n",
       "\n",
       "   revenue_generated  revenue_realized  \n",
       "1               9100              3640  \n",
       "4              10920             10920  \n",
       "5               9100              9100  \n",
       "6               9100              3640  \n",
       "7               9100              9100  "
      ]
     },
     "execution_count": 362,
     "metadata": {},
     "output_type": "execute_result"
    }
   ],
   "source": [
    "df_bookings.head()"
   ]
  },
  {
   "cell_type": "code",
   "execution_count": null,
   "id": "816aa6d0",
   "metadata": {},
   "outputs": [],
   "source": []
  },
  {
   "cell_type": "markdown",
   "id": "ead6e318",
   "metadata": {},
   "source": [
    "***\n",
    "### ==> 4. Insights Generation\n",
    "***"
   ]
  },
  {
   "cell_type": "code",
   "execution_count": 363,
   "id": "6dd53c08",
   "metadata": {},
   "outputs": [
    {
     "data": {
      "text/html": [
       "<div>\n",
       "<style scoped>\n",
       "    .dataframe tbody tr th:only-of-type {\n",
       "        vertical-align: middle;\n",
       "    }\n",
       "\n",
       "    .dataframe tbody tr th {\n",
       "        vertical-align: top;\n",
       "    }\n",
       "\n",
       "    .dataframe thead th {\n",
       "        text-align: right;\n",
       "    }\n",
       "</style>\n",
       "<table border=\"1\" class=\"dataframe\">\n",
       "  <thead>\n",
       "    <tr style=\"text-align: right;\">\n",
       "      <th></th>\n",
       "      <th>property_id</th>\n",
       "      <th>check_in_date</th>\n",
       "      <th>room_category</th>\n",
       "      <th>successful_bookings</th>\n",
       "      <th>capacity</th>\n",
       "      <th>occ_pct</th>\n",
       "    </tr>\n",
       "  </thead>\n",
       "  <tbody>\n",
       "    <tr>\n",
       "      <th>0</th>\n",
       "      <td>16559</td>\n",
       "      <td>1-May-22</td>\n",
       "      <td>RT1</td>\n",
       "      <td>25</td>\n",
       "      <td>30.0</td>\n",
       "      <td>83.33</td>\n",
       "    </tr>\n",
       "    <tr>\n",
       "      <th>1</th>\n",
       "      <td>19562</td>\n",
       "      <td>1-May-22</td>\n",
       "      <td>RT1</td>\n",
       "      <td>28</td>\n",
       "      <td>30.0</td>\n",
       "      <td>93.33</td>\n",
       "    </tr>\n",
       "    <tr>\n",
       "      <th>2</th>\n",
       "      <td>19563</td>\n",
       "      <td>1-May-22</td>\n",
       "      <td>RT1</td>\n",
       "      <td>23</td>\n",
       "      <td>30.0</td>\n",
       "      <td>76.67</td>\n",
       "    </tr>\n",
       "    <tr>\n",
       "      <th>4</th>\n",
       "      <td>16558</td>\n",
       "      <td>1-May-22</td>\n",
       "      <td>RT1</td>\n",
       "      <td>18</td>\n",
       "      <td>19.0</td>\n",
       "      <td>94.74</td>\n",
       "    </tr>\n",
       "    <tr>\n",
       "      <th>5</th>\n",
       "      <td>17560</td>\n",
       "      <td>1-May-22</td>\n",
       "      <td>RT1</td>\n",
       "      <td>28</td>\n",
       "      <td>40.0</td>\n",
       "      <td>70.00</td>\n",
       "    </tr>\n",
       "  </tbody>\n",
       "</table>\n",
       "</div>"
      ],
      "text/plain": [
       "   property_id check_in_date room_category  successful_bookings  capacity  \\\n",
       "0        16559      1-May-22           RT1                   25      30.0   \n",
       "1        19562      1-May-22           RT1                   28      30.0   \n",
       "2        19563      1-May-22           RT1                   23      30.0   \n",
       "4        16558      1-May-22           RT1                   18      19.0   \n",
       "5        17560      1-May-22           RT1                   28      40.0   \n",
       "\n",
       "   occ_pct  \n",
       "0    83.33  \n",
       "1    93.33  \n",
       "2    76.67  \n",
       "4    94.74  \n",
       "5    70.00  "
      ]
     },
     "execution_count": 363,
     "metadata": {},
     "output_type": "execute_result"
    }
   ],
   "source": [
    "df_agg_bookings.head()"
   ]
  },
  {
   "cell_type": "code",
   "execution_count": 364,
   "id": "7d1f2122",
   "metadata": {},
   "outputs": [
    {
     "data": {
      "text/plain": [
       "room_category\n",
       "RT1    57.889643\n",
       "RT2    58.009756\n",
       "RT3    58.028213\n",
       "RT4    59.277925\n",
       "Name: occ_pct, dtype: float64"
      ]
     },
     "execution_count": 364,
     "metadata": {},
     "output_type": "execute_result"
    }
   ],
   "source": [
    "df_agg_bookings.groupby(\"room_category\")[\"occ_pct\"].mean()"
   ]
  },
  {
   "cell_type": "code",
   "execution_count": 365,
   "id": "d57ecade",
   "metadata": {},
   "outputs": [
    {
     "data": {
      "text/html": [
       "<div>\n",
       "<style scoped>\n",
       "    .dataframe tbody tr th:only-of-type {\n",
       "        vertical-align: middle;\n",
       "    }\n",
       "\n",
       "    .dataframe tbody tr th {\n",
       "        vertical-align: top;\n",
       "    }\n",
       "\n",
       "    .dataframe thead th {\n",
       "        text-align: right;\n",
       "    }\n",
       "</style>\n",
       "<table border=\"1\" class=\"dataframe\">\n",
       "  <thead>\n",
       "    <tr style=\"text-align: right;\">\n",
       "      <th></th>\n",
       "      <th>room_id</th>\n",
       "      <th>room_class</th>\n",
       "    </tr>\n",
       "  </thead>\n",
       "  <tbody>\n",
       "    <tr>\n",
       "      <th>0</th>\n",
       "      <td>RT1</td>\n",
       "      <td>Standard</td>\n",
       "    </tr>\n",
       "    <tr>\n",
       "      <th>1</th>\n",
       "      <td>RT2</td>\n",
       "      <td>Elite</td>\n",
       "    </tr>\n",
       "    <tr>\n",
       "      <th>2</th>\n",
       "      <td>RT3</td>\n",
       "      <td>Premium</td>\n",
       "    </tr>\n",
       "    <tr>\n",
       "      <th>3</th>\n",
       "      <td>RT4</td>\n",
       "      <td>Presidential</td>\n",
       "    </tr>\n",
       "  </tbody>\n",
       "</table>\n",
       "</div>"
      ],
      "text/plain": [
       "  room_id    room_class\n",
       "0     RT1      Standard\n",
       "1     RT2         Elite\n",
       "2     RT3       Premium\n",
       "3     RT4  Presidential"
      ]
     },
     "execution_count": 365,
     "metadata": {},
     "output_type": "execute_result"
    }
   ],
   "source": [
    "df_rooms"
   ]
  },
  {
   "cell_type": "code",
   "execution_count": 366,
   "id": "8054254e",
   "metadata": {},
   "outputs": [],
   "source": [
    "df = pd.merge(df_agg_bookings,df_rooms,left_on=\"room_category\",right_on=\"room_id\")"
   ]
  },
  {
   "cell_type": "code",
   "execution_count": 367,
   "id": "13f84ae3",
   "metadata": {},
   "outputs": [
    {
     "data": {
      "text/html": [
       "<div>\n",
       "<style scoped>\n",
       "    .dataframe tbody tr th:only-of-type {\n",
       "        vertical-align: middle;\n",
       "    }\n",
       "\n",
       "    .dataframe tbody tr th {\n",
       "        vertical-align: top;\n",
       "    }\n",
       "\n",
       "    .dataframe thead th {\n",
       "        text-align: right;\n",
       "    }\n",
       "</style>\n",
       "<table border=\"1\" class=\"dataframe\">\n",
       "  <thead>\n",
       "    <tr style=\"text-align: right;\">\n",
       "      <th></th>\n",
       "      <th>property_id</th>\n",
       "      <th>check_in_date</th>\n",
       "      <th>room_category</th>\n",
       "      <th>successful_bookings</th>\n",
       "      <th>capacity</th>\n",
       "      <th>occ_pct</th>\n",
       "      <th>room_id</th>\n",
       "      <th>room_class</th>\n",
       "    </tr>\n",
       "  </thead>\n",
       "  <tbody>\n",
       "    <tr>\n",
       "      <th>0</th>\n",
       "      <td>16559</td>\n",
       "      <td>1-May-22</td>\n",
       "      <td>RT1</td>\n",
       "      <td>25</td>\n",
       "      <td>30.0</td>\n",
       "      <td>83.33</td>\n",
       "      <td>RT1</td>\n",
       "      <td>Standard</td>\n",
       "    </tr>\n",
       "    <tr>\n",
       "      <th>1</th>\n",
       "      <td>19562</td>\n",
       "      <td>1-May-22</td>\n",
       "      <td>RT1</td>\n",
       "      <td>28</td>\n",
       "      <td>30.0</td>\n",
       "      <td>93.33</td>\n",
       "      <td>RT1</td>\n",
       "      <td>Standard</td>\n",
       "    </tr>\n",
       "    <tr>\n",
       "      <th>2</th>\n",
       "      <td>19563</td>\n",
       "      <td>1-May-22</td>\n",
       "      <td>RT1</td>\n",
       "      <td>23</td>\n",
       "      <td>30.0</td>\n",
       "      <td>76.67</td>\n",
       "      <td>RT1</td>\n",
       "      <td>Standard</td>\n",
       "    </tr>\n",
       "    <tr>\n",
       "      <th>3</th>\n",
       "      <td>16558</td>\n",
       "      <td>1-May-22</td>\n",
       "      <td>RT1</td>\n",
       "      <td>18</td>\n",
       "      <td>19.0</td>\n",
       "      <td>94.74</td>\n",
       "      <td>RT1</td>\n",
       "      <td>Standard</td>\n",
       "    </tr>\n",
       "    <tr>\n",
       "      <th>4</th>\n",
       "      <td>17560</td>\n",
       "      <td>1-May-22</td>\n",
       "      <td>RT1</td>\n",
       "      <td>28</td>\n",
       "      <td>40.0</td>\n",
       "      <td>70.00</td>\n",
       "      <td>RT1</td>\n",
       "      <td>Standard</td>\n",
       "    </tr>\n",
       "    <tr>\n",
       "      <th>...</th>\n",
       "      <td>...</td>\n",
       "      <td>...</td>\n",
       "      <td>...</td>\n",
       "      <td>...</td>\n",
       "      <td>...</td>\n",
       "      <td>...</td>\n",
       "      <td>...</td>\n",
       "      <td>...</td>\n",
       "    </tr>\n",
       "    <tr>\n",
       "      <th>9189</th>\n",
       "      <td>16563</td>\n",
       "      <td>31-Jul-22</td>\n",
       "      <td>RT4</td>\n",
       "      <td>13</td>\n",
       "      <td>18.0</td>\n",
       "      <td>72.22</td>\n",
       "      <td>RT4</td>\n",
       "      <td>Presidential</td>\n",
       "    </tr>\n",
       "    <tr>\n",
       "      <th>9190</th>\n",
       "      <td>16559</td>\n",
       "      <td>31-Jul-22</td>\n",
       "      <td>RT4</td>\n",
       "      <td>13</td>\n",
       "      <td>18.0</td>\n",
       "      <td>72.22</td>\n",
       "      <td>RT4</td>\n",
       "      <td>Presidential</td>\n",
       "    </tr>\n",
       "    <tr>\n",
       "      <th>9191</th>\n",
       "      <td>17558</td>\n",
       "      <td>31-Jul-22</td>\n",
       "      <td>RT4</td>\n",
       "      <td>3</td>\n",
       "      <td>6.0</td>\n",
       "      <td>50.00</td>\n",
       "      <td>RT4</td>\n",
       "      <td>Presidential</td>\n",
       "    </tr>\n",
       "    <tr>\n",
       "      <th>9192</th>\n",
       "      <td>19563</td>\n",
       "      <td>31-Jul-22</td>\n",
       "      <td>RT4</td>\n",
       "      <td>3</td>\n",
       "      <td>6.0</td>\n",
       "      <td>50.00</td>\n",
       "      <td>RT4</td>\n",
       "      <td>Presidential</td>\n",
       "    </tr>\n",
       "    <tr>\n",
       "      <th>9193</th>\n",
       "      <td>17561</td>\n",
       "      <td>31-Jul-22</td>\n",
       "      <td>RT4</td>\n",
       "      <td>3</td>\n",
       "      <td>4.0</td>\n",
       "      <td>75.00</td>\n",
       "      <td>RT4</td>\n",
       "      <td>Presidential</td>\n",
       "    </tr>\n",
       "  </tbody>\n",
       "</table>\n",
       "<p>9194 rows × 8 columns</p>\n",
       "</div>"
      ],
      "text/plain": [
       "      property_id check_in_date room_category  successful_bookings  capacity  \\\n",
       "0           16559      1-May-22           RT1                   25      30.0   \n",
       "1           19562      1-May-22           RT1                   28      30.0   \n",
       "2           19563      1-May-22           RT1                   23      30.0   \n",
       "3           16558      1-May-22           RT1                   18      19.0   \n",
       "4           17560      1-May-22           RT1                   28      40.0   \n",
       "...           ...           ...           ...                  ...       ...   \n",
       "9189        16563     31-Jul-22           RT4                   13      18.0   \n",
       "9190        16559     31-Jul-22           RT4                   13      18.0   \n",
       "9191        17558     31-Jul-22           RT4                    3       6.0   \n",
       "9192        19563     31-Jul-22           RT4                    3       6.0   \n",
       "9193        17561     31-Jul-22           RT4                    3       4.0   \n",
       "\n",
       "      occ_pct room_id    room_class  \n",
       "0       83.33     RT1      Standard  \n",
       "1       93.33     RT1      Standard  \n",
       "2       76.67     RT1      Standard  \n",
       "3       94.74     RT1      Standard  \n",
       "4       70.00     RT1      Standard  \n",
       "...       ...     ...           ...  \n",
       "9189    72.22     RT4  Presidential  \n",
       "9190    72.22     RT4  Presidential  \n",
       "9191    50.00     RT4  Presidential  \n",
       "9192    50.00     RT4  Presidential  \n",
       "9193    75.00     RT4  Presidential  \n",
       "\n",
       "[9194 rows x 8 columns]"
      ]
     },
     "execution_count": 367,
     "metadata": {},
     "output_type": "execute_result"
    }
   ],
   "source": [
    "df"
   ]
  },
  {
   "cell_type": "code",
   "execution_count": 368,
   "id": "34ec1863",
   "metadata": {},
   "outputs": [],
   "source": [
    "df.drop(\"room_id\",axis=1,inplace=True)"
   ]
  },
  {
   "cell_type": "code",
   "execution_count": 369,
   "id": "e9e00d50",
   "metadata": {},
   "outputs": [
    {
     "data": {
      "text/html": [
       "<div>\n",
       "<style scoped>\n",
       "    .dataframe tbody tr th:only-of-type {\n",
       "        vertical-align: middle;\n",
       "    }\n",
       "\n",
       "    .dataframe tbody tr th {\n",
       "        vertical-align: top;\n",
       "    }\n",
       "\n",
       "    .dataframe thead th {\n",
       "        text-align: right;\n",
       "    }\n",
       "</style>\n",
       "<table border=\"1\" class=\"dataframe\">\n",
       "  <thead>\n",
       "    <tr style=\"text-align: right;\">\n",
       "      <th></th>\n",
       "      <th>property_id</th>\n",
       "      <th>check_in_date</th>\n",
       "      <th>room_category</th>\n",
       "      <th>successful_bookings</th>\n",
       "      <th>capacity</th>\n",
       "      <th>occ_pct</th>\n",
       "      <th>room_class</th>\n",
       "    </tr>\n",
       "  </thead>\n",
       "  <tbody>\n",
       "    <tr>\n",
       "      <th>0</th>\n",
       "      <td>16559</td>\n",
       "      <td>1-May-22</td>\n",
       "      <td>RT1</td>\n",
       "      <td>25</td>\n",
       "      <td>30.0</td>\n",
       "      <td>83.33</td>\n",
       "      <td>Standard</td>\n",
       "    </tr>\n",
       "    <tr>\n",
       "      <th>1</th>\n",
       "      <td>19562</td>\n",
       "      <td>1-May-22</td>\n",
       "      <td>RT1</td>\n",
       "      <td>28</td>\n",
       "      <td>30.0</td>\n",
       "      <td>93.33</td>\n",
       "      <td>Standard</td>\n",
       "    </tr>\n",
       "    <tr>\n",
       "      <th>2</th>\n",
       "      <td>19563</td>\n",
       "      <td>1-May-22</td>\n",
       "      <td>RT1</td>\n",
       "      <td>23</td>\n",
       "      <td>30.0</td>\n",
       "      <td>76.67</td>\n",
       "      <td>Standard</td>\n",
       "    </tr>\n",
       "    <tr>\n",
       "      <th>3</th>\n",
       "      <td>16558</td>\n",
       "      <td>1-May-22</td>\n",
       "      <td>RT1</td>\n",
       "      <td>18</td>\n",
       "      <td>19.0</td>\n",
       "      <td>94.74</td>\n",
       "      <td>Standard</td>\n",
       "    </tr>\n",
       "    <tr>\n",
       "      <th>4</th>\n",
       "      <td>17560</td>\n",
       "      <td>1-May-22</td>\n",
       "      <td>RT1</td>\n",
       "      <td>28</td>\n",
       "      <td>40.0</td>\n",
       "      <td>70.00</td>\n",
       "      <td>Standard</td>\n",
       "    </tr>\n",
       "    <tr>\n",
       "      <th>...</th>\n",
       "      <td>...</td>\n",
       "      <td>...</td>\n",
       "      <td>...</td>\n",
       "      <td>...</td>\n",
       "      <td>...</td>\n",
       "      <td>...</td>\n",
       "      <td>...</td>\n",
       "    </tr>\n",
       "    <tr>\n",
       "      <th>9189</th>\n",
       "      <td>16563</td>\n",
       "      <td>31-Jul-22</td>\n",
       "      <td>RT4</td>\n",
       "      <td>13</td>\n",
       "      <td>18.0</td>\n",
       "      <td>72.22</td>\n",
       "      <td>Presidential</td>\n",
       "    </tr>\n",
       "    <tr>\n",
       "      <th>9190</th>\n",
       "      <td>16559</td>\n",
       "      <td>31-Jul-22</td>\n",
       "      <td>RT4</td>\n",
       "      <td>13</td>\n",
       "      <td>18.0</td>\n",
       "      <td>72.22</td>\n",
       "      <td>Presidential</td>\n",
       "    </tr>\n",
       "    <tr>\n",
       "      <th>9191</th>\n",
       "      <td>17558</td>\n",
       "      <td>31-Jul-22</td>\n",
       "      <td>RT4</td>\n",
       "      <td>3</td>\n",
       "      <td>6.0</td>\n",
       "      <td>50.00</td>\n",
       "      <td>Presidential</td>\n",
       "    </tr>\n",
       "    <tr>\n",
       "      <th>9192</th>\n",
       "      <td>19563</td>\n",
       "      <td>31-Jul-22</td>\n",
       "      <td>RT4</td>\n",
       "      <td>3</td>\n",
       "      <td>6.0</td>\n",
       "      <td>50.00</td>\n",
       "      <td>Presidential</td>\n",
       "    </tr>\n",
       "    <tr>\n",
       "      <th>9193</th>\n",
       "      <td>17561</td>\n",
       "      <td>31-Jul-22</td>\n",
       "      <td>RT4</td>\n",
       "      <td>3</td>\n",
       "      <td>4.0</td>\n",
       "      <td>75.00</td>\n",
       "      <td>Presidential</td>\n",
       "    </tr>\n",
       "  </tbody>\n",
       "</table>\n",
       "<p>9194 rows × 7 columns</p>\n",
       "</div>"
      ],
      "text/plain": [
       "      property_id check_in_date room_category  successful_bookings  capacity  \\\n",
       "0           16559      1-May-22           RT1                   25      30.0   \n",
       "1           19562      1-May-22           RT1                   28      30.0   \n",
       "2           19563      1-May-22           RT1                   23      30.0   \n",
       "3           16558      1-May-22           RT1                   18      19.0   \n",
       "4           17560      1-May-22           RT1                   28      40.0   \n",
       "...           ...           ...           ...                  ...       ...   \n",
       "9189        16563     31-Jul-22           RT4                   13      18.0   \n",
       "9190        16559     31-Jul-22           RT4                   13      18.0   \n",
       "9191        17558     31-Jul-22           RT4                    3       6.0   \n",
       "9192        19563     31-Jul-22           RT4                    3       6.0   \n",
       "9193        17561     31-Jul-22           RT4                    3       4.0   \n",
       "\n",
       "      occ_pct    room_class  \n",
       "0       83.33      Standard  \n",
       "1       93.33      Standard  \n",
       "2       76.67      Standard  \n",
       "3       94.74      Standard  \n",
       "4       70.00      Standard  \n",
       "...       ...           ...  \n",
       "9189    72.22  Presidential  \n",
       "9190    72.22  Presidential  \n",
       "9191    50.00  Presidential  \n",
       "9192    50.00  Presidential  \n",
       "9193    75.00  Presidential  \n",
       "\n",
       "[9194 rows x 7 columns]"
      ]
     },
     "execution_count": 369,
     "metadata": {},
     "output_type": "execute_result"
    }
   ],
   "source": [
    "df"
   ]
  },
  {
   "cell_type": "markdown",
   "id": "8466a41e",
   "metadata": {},
   "source": [
    "**(1) average occupancy rate in each of the room categories**"
   ]
  },
  {
   "cell_type": "code",
   "execution_count": 370,
   "id": "f44eb4da",
   "metadata": {},
   "outputs": [
    {
     "data": {
      "text/plain": [
       "room_class\n",
       "Elite           58.009756\n",
       "Premium         58.028213\n",
       "Presidential    59.277925\n",
       "Standard        57.889643\n",
       "Name: occ_pct, dtype: float64"
      ]
     },
     "execution_count": 370,
     "metadata": {},
     "output_type": "execute_result"
    }
   ],
   "source": [
    "df.groupby(\"room_class\")[\"occ_pct\"].mean()"
   ]
  },
  {
   "cell_type": "code",
   "execution_count": 371,
   "id": "1d528fa8",
   "metadata": {},
   "outputs": [
    {
     "data": {
      "text/html": [
       "<div>\n",
       "<style scoped>\n",
       "    .dataframe tbody tr th:only-of-type {\n",
       "        vertical-align: middle;\n",
       "    }\n",
       "\n",
       "    .dataframe tbody tr th {\n",
       "        vertical-align: top;\n",
       "    }\n",
       "\n",
       "    .dataframe thead th {\n",
       "        text-align: right;\n",
       "    }\n",
       "</style>\n",
       "<table border=\"1\" class=\"dataframe\">\n",
       "  <thead>\n",
       "    <tr style=\"text-align: right;\">\n",
       "      <th></th>\n",
       "      <th>property_id</th>\n",
       "      <th>property_name</th>\n",
       "      <th>category</th>\n",
       "      <th>city</th>\n",
       "    </tr>\n",
       "  </thead>\n",
       "  <tbody>\n",
       "    <tr>\n",
       "      <th>0</th>\n",
       "      <td>16558</td>\n",
       "      <td>Atliq Grands</td>\n",
       "      <td>Luxury</td>\n",
       "      <td>Delhi</td>\n",
       "    </tr>\n",
       "    <tr>\n",
       "      <th>1</th>\n",
       "      <td>16559</td>\n",
       "      <td>Atliq Exotica</td>\n",
       "      <td>Luxury</td>\n",
       "      <td>Mumbai</td>\n",
       "    </tr>\n",
       "  </tbody>\n",
       "</table>\n",
       "</div>"
      ],
      "text/plain": [
       "   property_id  property_name category    city\n",
       "0        16558   Atliq Grands   Luxury   Delhi\n",
       "1        16559  Atliq Exotica   Luxury  Mumbai"
      ]
     },
     "execution_count": 371,
     "metadata": {},
     "output_type": "execute_result"
    }
   ],
   "source": [
    "df_hotels.head(2)"
   ]
  },
  {
   "cell_type": "code",
   "execution_count": 372,
   "id": "04b93dca",
   "metadata": {},
   "outputs": [
    {
     "data": {
      "text/html": [
       "<div>\n",
       "<style scoped>\n",
       "    .dataframe tbody tr th:only-of-type {\n",
       "        vertical-align: middle;\n",
       "    }\n",
       "\n",
       "    .dataframe tbody tr th {\n",
       "        vertical-align: top;\n",
       "    }\n",
       "\n",
       "    .dataframe thead th {\n",
       "        text-align: right;\n",
       "    }\n",
       "</style>\n",
       "<table border=\"1\" class=\"dataframe\">\n",
       "  <thead>\n",
       "    <tr style=\"text-align: right;\">\n",
       "      <th></th>\n",
       "      <th>property_id</th>\n",
       "      <th>check_in_date</th>\n",
       "      <th>room_category</th>\n",
       "      <th>successful_bookings</th>\n",
       "      <th>capacity</th>\n",
       "      <th>occ_pct</th>\n",
       "      <th>room_class</th>\n",
       "    </tr>\n",
       "  </thead>\n",
       "  <tbody>\n",
       "    <tr>\n",
       "      <th>0</th>\n",
       "      <td>16559</td>\n",
       "      <td>1-May-22</td>\n",
       "      <td>RT1</td>\n",
       "      <td>25</td>\n",
       "      <td>30.0</td>\n",
       "      <td>83.33</td>\n",
       "      <td>Standard</td>\n",
       "    </tr>\n",
       "    <tr>\n",
       "      <th>1</th>\n",
       "      <td>19562</td>\n",
       "      <td>1-May-22</td>\n",
       "      <td>RT1</td>\n",
       "      <td>28</td>\n",
       "      <td>30.0</td>\n",
       "      <td>93.33</td>\n",
       "      <td>Standard</td>\n",
       "    </tr>\n",
       "  </tbody>\n",
       "</table>\n",
       "</div>"
      ],
      "text/plain": [
       "   property_id check_in_date room_category  successful_bookings  capacity  \\\n",
       "0        16559      1-May-22           RT1                   25      30.0   \n",
       "1        19562      1-May-22           RT1                   28      30.0   \n",
       "\n",
       "   occ_pct room_class  \n",
       "0    83.33   Standard  \n",
       "1    93.33   Standard  "
      ]
     },
     "execution_count": 372,
     "metadata": {},
     "output_type": "execute_result"
    }
   ],
   "source": [
    "df.head(2)"
   ]
  },
  {
   "cell_type": "code",
   "execution_count": 373,
   "id": "cecd03be",
   "metadata": {},
   "outputs": [
    {
     "data": {
      "text/html": [
       "<div>\n",
       "<style scoped>\n",
       "    .dataframe tbody tr th:only-of-type {\n",
       "        vertical-align: middle;\n",
       "    }\n",
       "\n",
       "    .dataframe tbody tr th {\n",
       "        vertical-align: top;\n",
       "    }\n",
       "\n",
       "    .dataframe thead th {\n",
       "        text-align: right;\n",
       "    }\n",
       "</style>\n",
       "<table border=\"1\" class=\"dataframe\">\n",
       "  <thead>\n",
       "    <tr style=\"text-align: right;\">\n",
       "      <th></th>\n",
       "      <th>property_id</th>\n",
       "      <th>check_in_date</th>\n",
       "      <th>room_category</th>\n",
       "      <th>successful_bookings</th>\n",
       "      <th>capacity</th>\n",
       "      <th>occ_pct</th>\n",
       "      <th>room_class</th>\n",
       "      <th>property_name</th>\n",
       "      <th>category</th>\n",
       "      <th>city</th>\n",
       "    </tr>\n",
       "  </thead>\n",
       "  <tbody>\n",
       "    <tr>\n",
       "      <th>0</th>\n",
       "      <td>16559</td>\n",
       "      <td>1-May-22</td>\n",
       "      <td>RT1</td>\n",
       "      <td>25</td>\n",
       "      <td>30.0</td>\n",
       "      <td>83.33</td>\n",
       "      <td>Standard</td>\n",
       "      <td>Atliq Exotica</td>\n",
       "      <td>Luxury</td>\n",
       "      <td>Mumbai</td>\n",
       "    </tr>\n",
       "    <tr>\n",
       "      <th>1</th>\n",
       "      <td>16559</td>\n",
       "      <td>2-May-22</td>\n",
       "      <td>RT1</td>\n",
       "      <td>20</td>\n",
       "      <td>30.0</td>\n",
       "      <td>66.67</td>\n",
       "      <td>Standard</td>\n",
       "      <td>Atliq Exotica</td>\n",
       "      <td>Luxury</td>\n",
       "      <td>Mumbai</td>\n",
       "    </tr>\n",
       "    <tr>\n",
       "      <th>2</th>\n",
       "      <td>16559</td>\n",
       "      <td>3-May-22</td>\n",
       "      <td>RT1</td>\n",
       "      <td>17</td>\n",
       "      <td>30.0</td>\n",
       "      <td>56.67</td>\n",
       "      <td>Standard</td>\n",
       "      <td>Atliq Exotica</td>\n",
       "      <td>Luxury</td>\n",
       "      <td>Mumbai</td>\n",
       "    </tr>\n",
       "    <tr>\n",
       "      <th>3</th>\n",
       "      <td>16559</td>\n",
       "      <td>4-May-22</td>\n",
       "      <td>RT1</td>\n",
       "      <td>21</td>\n",
       "      <td>30.0</td>\n",
       "      <td>70.00</td>\n",
       "      <td>Standard</td>\n",
       "      <td>Atliq Exotica</td>\n",
       "      <td>Luxury</td>\n",
       "      <td>Mumbai</td>\n",
       "    </tr>\n",
       "    <tr>\n",
       "      <th>4</th>\n",
       "      <td>16559</td>\n",
       "      <td>5-May-22</td>\n",
       "      <td>RT1</td>\n",
       "      <td>16</td>\n",
       "      <td>30.0</td>\n",
       "      <td>53.33</td>\n",
       "      <td>Standard</td>\n",
       "      <td>Atliq Exotica</td>\n",
       "      <td>Luxury</td>\n",
       "      <td>Mumbai</td>\n",
       "    </tr>\n",
       "  </tbody>\n",
       "</table>\n",
       "</div>"
      ],
      "text/plain": [
       "   property_id check_in_date room_category  successful_bookings  capacity  \\\n",
       "0        16559      1-May-22           RT1                   25      30.0   \n",
       "1        16559      2-May-22           RT1                   20      30.0   \n",
       "2        16559      3-May-22           RT1                   17      30.0   \n",
       "3        16559      4-May-22           RT1                   21      30.0   \n",
       "4        16559      5-May-22           RT1                   16      30.0   \n",
       "\n",
       "   occ_pct room_class  property_name category    city  \n",
       "0    83.33   Standard  Atliq Exotica   Luxury  Mumbai  \n",
       "1    66.67   Standard  Atliq Exotica   Luxury  Mumbai  \n",
       "2    56.67   Standard  Atliq Exotica   Luxury  Mumbai  \n",
       "3    70.00   Standard  Atliq Exotica   Luxury  Mumbai  \n",
       "4    53.33   Standard  Atliq Exotica   Luxury  Mumbai  "
      ]
     },
     "execution_count": 373,
     "metadata": {},
     "output_type": "execute_result"
    }
   ],
   "source": [
    "df=pd.merge(df,df_hotels,left_on=\"property_id\",right_on=\"property_id\")\n",
    "df.head(5)"
   ]
  },
  {
   "cell_type": "markdown",
   "id": "961bf8c4",
   "metadata": {},
   "source": [
    "**(2) average occupancy rate per city**"
   ]
  },
  {
   "cell_type": "code",
   "execution_count": 374,
   "id": "97d9dce6",
   "metadata": {},
   "outputs": [
    {
     "data": {
      "text/plain": [
       "city\n",
       "Bangalore    56.332376\n",
       "Delhi        61.507341\n",
       "Hyderabad    58.120652\n",
       "Mumbai       57.909181\n",
       "Name: occ_pct, dtype: float64"
      ]
     },
     "execution_count": 374,
     "metadata": {},
     "output_type": "execute_result"
    }
   ],
   "source": [
    "df.groupby(\"city\")[\"occ_pct\"].mean()"
   ]
  },
  {
   "cell_type": "code",
   "execution_count": 375,
   "id": "713ccb0e",
   "metadata": {},
   "outputs": [
    {
     "data": {
      "text/html": [
       "<div>\n",
       "<style scoped>\n",
       "    .dataframe tbody tr th:only-of-type {\n",
       "        vertical-align: middle;\n",
       "    }\n",
       "\n",
       "    .dataframe tbody tr th {\n",
       "        vertical-align: top;\n",
       "    }\n",
       "\n",
       "    .dataframe thead th {\n",
       "        text-align: right;\n",
       "    }\n",
       "</style>\n",
       "<table border=\"1\" class=\"dataframe\">\n",
       "  <thead>\n",
       "    <tr style=\"text-align: right;\">\n",
       "      <th></th>\n",
       "      <th>date</th>\n",
       "      <th>mmm yy</th>\n",
       "      <th>week no</th>\n",
       "      <th>day_type</th>\n",
       "    </tr>\n",
       "  </thead>\n",
       "  <tbody>\n",
       "    <tr>\n",
       "      <th>0</th>\n",
       "      <td>01-May-22</td>\n",
       "      <td>May 22</td>\n",
       "      <td>W 19</td>\n",
       "      <td>weekend</td>\n",
       "    </tr>\n",
       "    <tr>\n",
       "      <th>1</th>\n",
       "      <td>02-May-22</td>\n",
       "      <td>May 22</td>\n",
       "      <td>W 19</td>\n",
       "      <td>weekeday</td>\n",
       "    </tr>\n",
       "    <tr>\n",
       "      <th>2</th>\n",
       "      <td>03-May-22</td>\n",
       "      <td>May 22</td>\n",
       "      <td>W 19</td>\n",
       "      <td>weekeday</td>\n",
       "    </tr>\n",
       "    <tr>\n",
       "      <th>3</th>\n",
       "      <td>04-May-22</td>\n",
       "      <td>May 22</td>\n",
       "      <td>W 19</td>\n",
       "      <td>weekeday</td>\n",
       "    </tr>\n",
       "  </tbody>\n",
       "</table>\n",
       "</div>"
      ],
      "text/plain": [
       "        date  mmm yy week no  day_type\n",
       "0  01-May-22  May 22    W 19   weekend\n",
       "1  02-May-22  May 22    W 19  weekeday\n",
       "2  03-May-22  May 22    W 19  weekeday\n",
       "3  04-May-22  May 22    W 19  weekeday"
      ]
     },
     "execution_count": 375,
     "metadata": {},
     "output_type": "execute_result"
    }
   ],
   "source": [
    "df_date.head(4)"
   ]
  },
  {
   "cell_type": "code",
   "execution_count": 376,
   "id": "4c80a1f6",
   "metadata": {
    "scrolled": true
   },
   "outputs": [
    {
     "data": {
      "text/html": [
       "<div>\n",
       "<style scoped>\n",
       "    .dataframe tbody tr th:only-of-type {\n",
       "        vertical-align: middle;\n",
       "    }\n",
       "\n",
       "    .dataframe tbody tr th {\n",
       "        vertical-align: top;\n",
       "    }\n",
       "\n",
       "    .dataframe thead th {\n",
       "        text-align: right;\n",
       "    }\n",
       "</style>\n",
       "<table border=\"1\" class=\"dataframe\">\n",
       "  <thead>\n",
       "    <tr style=\"text-align: right;\">\n",
       "      <th></th>\n",
       "      <th>property_id</th>\n",
       "      <th>check_in_date</th>\n",
       "      <th>room_category</th>\n",
       "      <th>successful_bookings</th>\n",
       "      <th>capacity</th>\n",
       "      <th>occ_pct</th>\n",
       "      <th>room_class</th>\n",
       "      <th>property_name</th>\n",
       "      <th>category</th>\n",
       "      <th>city</th>\n",
       "      <th>date</th>\n",
       "      <th>mmm yy</th>\n",
       "      <th>week no</th>\n",
       "      <th>day_type</th>\n",
       "    </tr>\n",
       "  </thead>\n",
       "  <tbody>\n",
       "    <tr>\n",
       "      <th>0</th>\n",
       "      <td>16559</td>\n",
       "      <td>10-May-22</td>\n",
       "      <td>RT1</td>\n",
       "      <td>18</td>\n",
       "      <td>30.0</td>\n",
       "      <td>60.00</td>\n",
       "      <td>Standard</td>\n",
       "      <td>Atliq Exotica</td>\n",
       "      <td>Luxury</td>\n",
       "      <td>Mumbai</td>\n",
       "      <td>10-May-22</td>\n",
       "      <td>May 22</td>\n",
       "      <td>W 20</td>\n",
       "      <td>weekeday</td>\n",
       "    </tr>\n",
       "    <tr>\n",
       "      <th>1</th>\n",
       "      <td>16559</td>\n",
       "      <td>10-May-22</td>\n",
       "      <td>RT2</td>\n",
       "      <td>25</td>\n",
       "      <td>41.0</td>\n",
       "      <td>60.98</td>\n",
       "      <td>Elite</td>\n",
       "      <td>Atliq Exotica</td>\n",
       "      <td>Luxury</td>\n",
       "      <td>Mumbai</td>\n",
       "      <td>10-May-22</td>\n",
       "      <td>May 22</td>\n",
       "      <td>W 20</td>\n",
       "      <td>weekeday</td>\n",
       "    </tr>\n",
       "    <tr>\n",
       "      <th>2</th>\n",
       "      <td>16559</td>\n",
       "      <td>10-May-22</td>\n",
       "      <td>RT3</td>\n",
       "      <td>20</td>\n",
       "      <td>32.0</td>\n",
       "      <td>62.50</td>\n",
       "      <td>Premium</td>\n",
       "      <td>Atliq Exotica</td>\n",
       "      <td>Luxury</td>\n",
       "      <td>Mumbai</td>\n",
       "      <td>10-May-22</td>\n",
       "      <td>May 22</td>\n",
       "      <td>W 20</td>\n",
       "      <td>weekeday</td>\n",
       "    </tr>\n",
       "    <tr>\n",
       "      <th>3</th>\n",
       "      <td>16559</td>\n",
       "      <td>10-May-22</td>\n",
       "      <td>RT4</td>\n",
       "      <td>13</td>\n",
       "      <td>18.0</td>\n",
       "      <td>72.22</td>\n",
       "      <td>Presidential</td>\n",
       "      <td>Atliq Exotica</td>\n",
       "      <td>Luxury</td>\n",
       "      <td>Mumbai</td>\n",
       "      <td>10-May-22</td>\n",
       "      <td>May 22</td>\n",
       "      <td>W 20</td>\n",
       "      <td>weekeday</td>\n",
       "    </tr>\n",
       "    <tr>\n",
       "      <th>4</th>\n",
       "      <td>19562</td>\n",
       "      <td>10-May-22</td>\n",
       "      <td>RT1</td>\n",
       "      <td>18</td>\n",
       "      <td>30.0</td>\n",
       "      <td>60.00</td>\n",
       "      <td>Standard</td>\n",
       "      <td>Atliq Bay</td>\n",
       "      <td>Luxury</td>\n",
       "      <td>Bangalore</td>\n",
       "      <td>10-May-22</td>\n",
       "      <td>May 22</td>\n",
       "      <td>W 20</td>\n",
       "      <td>weekeday</td>\n",
       "    </tr>\n",
       "  </tbody>\n",
       "</table>\n",
       "</div>"
      ],
      "text/plain": [
       "   property_id check_in_date room_category  successful_bookings  capacity  \\\n",
       "0        16559     10-May-22           RT1                   18      30.0   \n",
       "1        16559     10-May-22           RT2                   25      41.0   \n",
       "2        16559     10-May-22           RT3                   20      32.0   \n",
       "3        16559     10-May-22           RT4                   13      18.0   \n",
       "4        19562     10-May-22           RT1                   18      30.0   \n",
       "\n",
       "   occ_pct    room_class  property_name category       city       date  \\\n",
       "0    60.00      Standard  Atliq Exotica   Luxury     Mumbai  10-May-22   \n",
       "1    60.98         Elite  Atliq Exotica   Luxury     Mumbai  10-May-22   \n",
       "2    62.50       Premium  Atliq Exotica   Luxury     Mumbai  10-May-22   \n",
       "3    72.22  Presidential  Atliq Exotica   Luxury     Mumbai  10-May-22   \n",
       "4    60.00      Standard      Atliq Bay   Luxury  Bangalore  10-May-22   \n",
       "\n",
       "   mmm yy week no  day_type  \n",
       "0  May 22    W 20  weekeday  \n",
       "1  May 22    W 20  weekeday  \n",
       "2  May 22    W 20  weekeday  \n",
       "3  May 22    W 20  weekeday  \n",
       "4  May 22    W 20  weekeday  "
      ]
     },
     "execution_count": 376,
     "metadata": {},
     "output_type": "execute_result"
    }
   ],
   "source": [
    "df=pd.merge(df,df_date,left_on=\"check_in_date\",right_on=\"date\")\n",
    "df.head(5)"
   ]
  },
  {
   "cell_type": "markdown",
   "id": "ba57ab30",
   "metadata": {},
   "source": [
    "**(3.)average occupancy rate on Weekday and Weekend?**"
   ]
  },
  {
   "cell_type": "code",
   "execution_count": 377,
   "id": "ca4bc2d5",
   "metadata": {},
   "outputs": [
    {
     "data": {
      "text/plain": [
       "day_type\n",
       "weekeday    50.883140\n",
       "weekend     72.343625\n",
       "Name: occ_pct, dtype: float64"
      ]
     },
     "execution_count": 377,
     "metadata": {},
     "output_type": "execute_result"
    }
   ],
   "source": [
    "df.groupby(\"day_type\")[\"occ_pct\"].mean()"
   ]
  },
  {
   "cell_type": "markdown",
   "id": "9655dc8c",
   "metadata": {},
   "source": [
    "**(4) Average occupancy rate month wise**"
   ]
  },
  {
   "cell_type": "code",
   "execution_count": 378,
   "id": "defcf82b",
   "metadata": {},
   "outputs": [
    {
     "data": {
      "text/plain": [
       "mmm yy\n",
       "Jul 22    55.708435\n",
       "Jun 22    58.752992\n",
       "May 22    57.068223\n",
       "Name: occ_pct, dtype: float64"
      ]
     },
     "execution_count": 378,
     "metadata": {},
     "output_type": "execute_result"
    }
   ],
   "source": [
    "df.groupby(\"mmm yy\")[\"occ_pct\"].mean()"
   ]
  },
  {
   "cell_type": "markdown",
   "id": "e93b5271",
   "metadata": {},
   "source": [
    "**(4) Average occupancy rate monthwise wise grouped by city**"
   ]
  },
  {
   "cell_type": "code",
   "execution_count": 379,
   "id": "4199c5cf",
   "metadata": {},
   "outputs": [
    {
     "data": {
      "text/plain": [
       "mmm yy  city     \n",
       "Jul 22  Bangalore    53.899829\n",
       "        Delhi        59.177886\n",
       "        Hyderabad    55.252163\n",
       "        Mumbai       55.235469\n",
       "Jun 22  Bangalore    56.436143\n",
       "        Delhi        62.474286\n",
       "        Hyderabad    58.458075\n",
       "        Mumbai       58.382560\n",
       "May 22  Bangalore    55.275492\n",
       "        Delhi        59.650614\n",
       "        Hyderabad    57.062405\n",
       "        Mumbai       56.803139\n",
       "Name: occ_pct, dtype: float64"
      ]
     },
     "execution_count": 379,
     "metadata": {},
     "output_type": "execute_result"
    }
   ],
   "source": [
    "df.groupby([\"mmm yy\",\"city\"])[\"occ_pct\"].mean()"
   ]
  },
  {
   "cell_type": "code",
   "execution_count": 380,
   "id": "25526a9f",
   "metadata": {},
   "outputs": [
    {
     "data": {
      "text/plain": [
       "Text(0.5, 1.0, 'Average occupancy percentage per month and city')"
      ]
     },
     "execution_count": 380,
     "metadata": {},
     "output_type": "execute_result"
    },
    {
     "data": {
      "image/png": "[encoded data removed]",
      "text/plain": [
       "<Figure size 1000x500 with 1 Axes>"
      ]
     },
     "metadata": {},
     "output_type": "display_data"
    }
   ],
   "source": [
    "#plot \n",
    "month_city_data = df.groupby([\"mmm yy\",\"city\"])[\"occ_pct\"].mean().unstack()\n",
    "\n",
    "ax = month_city_data.plot(kind='bar', figsize=(10,5))\n",
    "ax.set_ylabel('Occ per')\n",
    "ax.set_xlabel('Month')\n",
    "ax.set_title('Average occupancy percentage per month and city')"
   ]
  },
  {
   "cell_type": "markdown",
   "id": "0c203038",
   "metadata": {},
   "source": [
    " **We got new data for the month of august. Append that to existing data**"
   ]
  },
  {
   "cell_type": "code",
   "execution_count": 381,
   "id": "79cc12d0",
   "metadata": {},
   "outputs": [],
   "source": [
    "df_aug=pd.read_csv(\"D:/JOB/codebasics_python_course/source-code/3_project_hospitality_analysis/datasets/new_data_august.csv\")"
   ]
  },
  {
   "cell_type": "code",
   "execution_count": 382,
   "id": "b4fadcfd",
   "metadata": {},
   "outputs": [
    {
     "data": {
      "text/html": [
       "<div>\n",
       "<style scoped>\n",
       "    .dataframe tbody tr th:only-of-type {\n",
       "        vertical-align: middle;\n",
       "    }\n",
       "\n",
       "    .dataframe tbody tr th {\n",
       "        vertical-align: top;\n",
       "    }\n",
       "\n",
       "    .dataframe thead th {\n",
       "        text-align: right;\n",
       "    }\n",
       "</style>\n",
       "<table border=\"1\" class=\"dataframe\">\n",
       "  <thead>\n",
       "    <tr style=\"text-align: right;\">\n",
       "      <th></th>\n",
       "      <th>property_id</th>\n",
       "      <th>property_name</th>\n",
       "      <th>category</th>\n",
       "      <th>city</th>\n",
       "      <th>room_category</th>\n",
       "      <th>room_class</th>\n",
       "      <th>check_in_date</th>\n",
       "      <th>mmm yy</th>\n",
       "      <th>week no</th>\n",
       "      <th>day_type</th>\n",
       "      <th>successful_bookings</th>\n",
       "      <th>capacity</th>\n",
       "      <th>occ%</th>\n",
       "    </tr>\n",
       "  </thead>\n",
       "  <tbody>\n",
       "    <tr>\n",
       "      <th>0</th>\n",
       "      <td>16559</td>\n",
       "      <td>Atliq Exotica</td>\n",
       "      <td>Luxury</td>\n",
       "      <td>Mumbai</td>\n",
       "      <td>RT1</td>\n",
       "      <td>Standard</td>\n",
       "      <td>01-Aug-22</td>\n",
       "      <td>Aug-22</td>\n",
       "      <td>W 32</td>\n",
       "      <td>weekeday</td>\n",
       "      <td>30</td>\n",
       "      <td>30</td>\n",
       "      <td>100.00</td>\n",
       "    </tr>\n",
       "    <tr>\n",
       "      <th>1</th>\n",
       "      <td>19562</td>\n",
       "      <td>Atliq Bay</td>\n",
       "      <td>Luxury</td>\n",
       "      <td>Bangalore</td>\n",
       "      <td>RT1</td>\n",
       "      <td>Standard</td>\n",
       "      <td>01-Aug-22</td>\n",
       "      <td>Aug-22</td>\n",
       "      <td>W 32</td>\n",
       "      <td>weekeday</td>\n",
       "      <td>21</td>\n",
       "      <td>30</td>\n",
       "      <td>70.00</td>\n",
       "    </tr>\n",
       "    <tr>\n",
       "      <th>2</th>\n",
       "      <td>19563</td>\n",
       "      <td>Atliq Palace</td>\n",
       "      <td>Business</td>\n",
       "      <td>Bangalore</td>\n",
       "      <td>RT1</td>\n",
       "      <td>Standard</td>\n",
       "      <td>01-Aug-22</td>\n",
       "      <td>Aug-22</td>\n",
       "      <td>W 32</td>\n",
       "      <td>weekeday</td>\n",
       "      <td>23</td>\n",
       "      <td>30</td>\n",
       "      <td>76.67</td>\n",
       "    </tr>\n",
       "    <tr>\n",
       "      <th>3</th>\n",
       "      <td>19558</td>\n",
       "      <td>Atliq Grands</td>\n",
       "      <td>Luxury</td>\n",
       "      <td>Bangalore</td>\n",
       "      <td>RT1</td>\n",
       "      <td>Standard</td>\n",
       "      <td>01-Aug-22</td>\n",
       "      <td>Aug-22</td>\n",
       "      <td>W 32</td>\n",
       "      <td>weekeday</td>\n",
       "      <td>30</td>\n",
       "      <td>40</td>\n",
       "      <td>75.00</td>\n",
       "    </tr>\n",
       "  </tbody>\n",
       "</table>\n",
       "</div>"
      ],
      "text/plain": [
       "   property_id  property_name  category       city room_category room_class  \\\n",
       "0        16559  Atliq Exotica    Luxury     Mumbai           RT1   Standard   \n",
       "1        19562      Atliq Bay    Luxury  Bangalore           RT1   Standard   \n",
       "2        19563   Atliq Palace  Business  Bangalore           RT1   Standard   \n",
       "3        19558   Atliq Grands    Luxury  Bangalore           RT1   Standard   \n",
       "\n",
       "  check_in_date  mmm yy week no  day_type  successful_bookings  capacity  \\\n",
       "0     01-Aug-22  Aug-22    W 32  weekeday                   30        30   \n",
       "1     01-Aug-22  Aug-22    W 32  weekeday                   21        30   \n",
       "2     01-Aug-22  Aug-22    W 32  weekeday                   23        30   \n",
       "3     01-Aug-22  Aug-22    W 32  weekeday                   30        40   \n",
       "\n",
       "     occ%  \n",
       "0  100.00  \n",
       "1   70.00  \n",
       "2   76.67  \n",
       "3   75.00  "
      ]
     },
     "execution_count": 382,
     "metadata": {},
     "output_type": "execute_result"
    }
   ],
   "source": [
    "df_aug.head(4)"
   ]
  },
  {
   "cell_type": "code",
   "execution_count": 383,
   "id": "f54cd523",
   "metadata": {},
   "outputs": [
    {
     "data": {
      "text/plain": [
       "(7, 13)"
      ]
     },
     "execution_count": 383,
     "metadata": {},
     "output_type": "execute_result"
    }
   ],
   "source": [
    "df_aug.shape"
   ]
  },
  {
   "cell_type": "code",
   "execution_count": 384,
   "id": "efd58116",
   "metadata": {},
   "outputs": [
    {
     "data": {
      "text/plain": [
       "(6497, 14)"
      ]
     },
     "execution_count": 384,
     "metadata": {},
     "output_type": "execute_result"
    }
   ],
   "source": [
    "df.shape"
   ]
  },
  {
   "cell_type": "code",
   "execution_count": 385,
   "id": "a5fcd5b9",
   "metadata": {},
   "outputs": [
    {
     "data": {
      "text/plain": [
       "Index(['property_id', 'property_name', 'category', 'city', 'room_category',\n",
       "       'room_class', 'check_in_date', 'mmm yy', 'week no', 'day_type',\n",
       "       'successful_bookings', 'capacity', 'occ%'],\n",
       "      dtype='object')"
      ]
     },
     "execution_count": 385,
     "metadata": {},
     "output_type": "execute_result"
    }
   ],
   "source": [
    "df_aug.columns"
   ]
  },
  {
   "cell_type": "code",
   "execution_count": 386,
   "id": "15ff7624",
   "metadata": {},
   "outputs": [
    {
     "data": {
      "text/plain": [
       "Index(['property_id', 'check_in_date', 'room_category', 'successful_bookings',\n",
       "       'capacity', 'occ_pct', 'room_class', 'property_name', 'category',\n",
       "       'city', 'date', 'mmm yy', 'week no', 'day_type'],\n",
       "      dtype='object')"
      ]
     },
     "execution_count": 386,
     "metadata": {},
     "output_type": "execute_result"
    }
   ],
   "source": [
    "df.columns"
   ]
  },
  {
   "cell_type": "code",
   "execution_count": 387,
   "id": "312072b9",
   "metadata": {},
   "outputs": [
    {
     "data": {
      "text/html": [
       "<div>\n",
       "<style scoped>\n",
       "    .dataframe tbody tr th:only-of-type {\n",
       "        vertical-align: middle;\n",
       "    }\n",
       "\n",
       "    .dataframe tbody tr th {\n",
       "        vertical-align: top;\n",
       "    }\n",
       "\n",
       "    .dataframe thead th {\n",
       "        text-align: right;\n",
       "    }\n",
       "</style>\n",
       "<table border=\"1\" class=\"dataframe\">\n",
       "  <thead>\n",
       "    <tr style=\"text-align: right;\">\n",
       "      <th></th>\n",
       "      <th>property_id</th>\n",
       "      <th>check_in_date</th>\n",
       "      <th>room_category</th>\n",
       "      <th>successful_bookings</th>\n",
       "      <th>capacity</th>\n",
       "      <th>occ_pct</th>\n",
       "      <th>room_class</th>\n",
       "      <th>property_name</th>\n",
       "      <th>category</th>\n",
       "      <th>city</th>\n",
       "      <th>date</th>\n",
       "      <th>mmm yy</th>\n",
       "      <th>week no</th>\n",
       "      <th>day_type</th>\n",
       "      <th>occ%</th>\n",
       "    </tr>\n",
       "  </thead>\n",
       "  <tbody>\n",
       "    <tr>\n",
       "      <th>6494</th>\n",
       "      <td>16563</td>\n",
       "      <td>31-Jul-22</td>\n",
       "      <td>RT2</td>\n",
       "      <td>32</td>\n",
       "      <td>38.0</td>\n",
       "      <td>84.21</td>\n",
       "      <td>Elite</td>\n",
       "      <td>Atliq Palace</td>\n",
       "      <td>Business</td>\n",
       "      <td>Delhi</td>\n",
       "      <td>31-Jul-22</td>\n",
       "      <td>Jul 22</td>\n",
       "      <td>W 32</td>\n",
       "      <td>weekend</td>\n",
       "      <td>NaN</td>\n",
       "    </tr>\n",
       "    <tr>\n",
       "      <th>6495</th>\n",
       "      <td>16563</td>\n",
       "      <td>31-Jul-22</td>\n",
       "      <td>RT3</td>\n",
       "      <td>14</td>\n",
       "      <td>20.0</td>\n",
       "      <td>70.00</td>\n",
       "      <td>Premium</td>\n",
       "      <td>Atliq Palace</td>\n",
       "      <td>Business</td>\n",
       "      <td>Delhi</td>\n",
       "      <td>31-Jul-22</td>\n",
       "      <td>Jul 22</td>\n",
       "      <td>W 32</td>\n",
       "      <td>weekend</td>\n",
       "      <td>NaN</td>\n",
       "    </tr>\n",
       "    <tr>\n",
       "      <th>6496</th>\n",
       "      <td>16563</td>\n",
       "      <td>31-Jul-22</td>\n",
       "      <td>RT4</td>\n",
       "      <td>13</td>\n",
       "      <td>18.0</td>\n",
       "      <td>72.22</td>\n",
       "      <td>Presidential</td>\n",
       "      <td>Atliq Palace</td>\n",
       "      <td>Business</td>\n",
       "      <td>Delhi</td>\n",
       "      <td>31-Jul-22</td>\n",
       "      <td>Jul 22</td>\n",
       "      <td>W 32</td>\n",
       "      <td>weekend</td>\n",
       "      <td>NaN</td>\n",
       "    </tr>\n",
       "    <tr>\n",
       "      <th>6497</th>\n",
       "      <td>16559</td>\n",
       "      <td>01-Aug-22</td>\n",
       "      <td>RT1</td>\n",
       "      <td>30</td>\n",
       "      <td>30.0</td>\n",
       "      <td>NaN</td>\n",
       "      <td>Standard</td>\n",
       "      <td>Atliq Exotica</td>\n",
       "      <td>Luxury</td>\n",
       "      <td>Mumbai</td>\n",
       "      <td>NaN</td>\n",
       "      <td>Aug-22</td>\n",
       "      <td>W 32</td>\n",
       "      <td>weekeday</td>\n",
       "      <td>100.00</td>\n",
       "    </tr>\n",
       "    <tr>\n",
       "      <th>6498</th>\n",
       "      <td>19562</td>\n",
       "      <td>01-Aug-22</td>\n",
       "      <td>RT1</td>\n",
       "      <td>21</td>\n",
       "      <td>30.0</td>\n",
       "      <td>NaN</td>\n",
       "      <td>Standard</td>\n",
       "      <td>Atliq Bay</td>\n",
       "      <td>Luxury</td>\n",
       "      <td>Bangalore</td>\n",
       "      <td>NaN</td>\n",
       "      <td>Aug-22</td>\n",
       "      <td>W 32</td>\n",
       "      <td>weekeday</td>\n",
       "      <td>70.00</td>\n",
       "    </tr>\n",
       "    <tr>\n",
       "      <th>6499</th>\n",
       "      <td>19563</td>\n",
       "      <td>01-Aug-22</td>\n",
       "      <td>RT1</td>\n",
       "      <td>23</td>\n",
       "      <td>30.0</td>\n",
       "      <td>NaN</td>\n",
       "      <td>Standard</td>\n",
       "      <td>Atliq Palace</td>\n",
       "      <td>Business</td>\n",
       "      <td>Bangalore</td>\n",
       "      <td>NaN</td>\n",
       "      <td>Aug-22</td>\n",
       "      <td>W 32</td>\n",
       "      <td>weekeday</td>\n",
       "      <td>76.67</td>\n",
       "    </tr>\n",
       "    <tr>\n",
       "      <th>6500</th>\n",
       "      <td>19558</td>\n",
       "      <td>01-Aug-22</td>\n",
       "      <td>RT1</td>\n",
       "      <td>30</td>\n",
       "      <td>40.0</td>\n",
       "      <td>NaN</td>\n",
       "      <td>Standard</td>\n",
       "      <td>Atliq Grands</td>\n",
       "      <td>Luxury</td>\n",
       "      <td>Bangalore</td>\n",
       "      <td>NaN</td>\n",
       "      <td>Aug-22</td>\n",
       "      <td>W 32</td>\n",
       "      <td>weekeday</td>\n",
       "      <td>75.00</td>\n",
       "    </tr>\n",
       "    <tr>\n",
       "      <th>6501</th>\n",
       "      <td>19560</td>\n",
       "      <td>01-Aug-22</td>\n",
       "      <td>RT1</td>\n",
       "      <td>20</td>\n",
       "      <td>26.0</td>\n",
       "      <td>NaN</td>\n",
       "      <td>Standard</td>\n",
       "      <td>Atliq City</td>\n",
       "      <td>Business</td>\n",
       "      <td>Bangalore</td>\n",
       "      <td>NaN</td>\n",
       "      <td>Aug-22</td>\n",
       "      <td>W 32</td>\n",
       "      <td>weekeday</td>\n",
       "      <td>76.92</td>\n",
       "    </tr>\n",
       "    <tr>\n",
       "      <th>6502</th>\n",
       "      <td>17561</td>\n",
       "      <td>01-Aug-22</td>\n",
       "      <td>RT1</td>\n",
       "      <td>18</td>\n",
       "      <td>26.0</td>\n",
       "      <td>NaN</td>\n",
       "      <td>Standard</td>\n",
       "      <td>Atliq Blu</td>\n",
       "      <td>Luxury</td>\n",
       "      <td>Mumbai</td>\n",
       "      <td>NaN</td>\n",
       "      <td>Aug-22</td>\n",
       "      <td>W 32</td>\n",
       "      <td>weekeday</td>\n",
       "      <td>69.23</td>\n",
       "    </tr>\n",
       "    <tr>\n",
       "      <th>6503</th>\n",
       "      <td>17564</td>\n",
       "      <td>01-Aug-22</td>\n",
       "      <td>RT1</td>\n",
       "      <td>10</td>\n",
       "      <td>16.0</td>\n",
       "      <td>NaN</td>\n",
       "      <td>Standard</td>\n",
       "      <td>Atliq Seasons</td>\n",
       "      <td>Business</td>\n",
       "      <td>Mumbai</td>\n",
       "      <td>NaN</td>\n",
       "      <td>Aug-22</td>\n",
       "      <td>W 32</td>\n",
       "      <td>weekeday</td>\n",
       "      <td>62.50</td>\n",
       "    </tr>\n",
       "  </tbody>\n",
       "</table>\n",
       "</div>"
      ],
      "text/plain": [
       "      property_id check_in_date room_category  successful_bookings  capacity  \\\n",
       "6494        16563     31-Jul-22           RT2                   32      38.0   \n",
       "6495        16563     31-Jul-22           RT3                   14      20.0   \n",
       "6496        16563     31-Jul-22           RT4                   13      18.0   \n",
       "6497        16559     01-Aug-22           RT1                   30      30.0   \n",
       "6498        19562     01-Aug-22           RT1                   21      30.0   \n",
       "6499        19563     01-Aug-22           RT1                   23      30.0   \n",
       "6500        19558     01-Aug-22           RT1                   30      40.0   \n",
       "6501        19560     01-Aug-22           RT1                   20      26.0   \n",
       "6502        17561     01-Aug-22           RT1                   18      26.0   \n",
       "6503        17564     01-Aug-22           RT1                   10      16.0   \n",
       "\n",
       "      occ_pct    room_class  property_name  category       city       date  \\\n",
       "6494    84.21         Elite   Atliq Palace  Business      Delhi  31-Jul-22   \n",
       "6495    70.00       Premium   Atliq Palace  Business      Delhi  31-Jul-22   \n",
       "6496    72.22  Presidential   Atliq Palace  Business      Delhi  31-Jul-22   \n",
       "6497      NaN      Standard  Atliq Exotica    Luxury     Mumbai        NaN   \n",
       "6498      NaN      Standard      Atliq Bay    Luxury  Bangalore        NaN   \n",
       "6499      NaN      Standard   Atliq Palace  Business  Bangalore        NaN   \n",
       "6500      NaN      Standard   Atliq Grands    Luxury  Bangalore        NaN   \n",
       "6501      NaN      Standard     Atliq City  Business  Bangalore        NaN   \n",
       "6502      NaN      Standard      Atliq Blu    Luxury     Mumbai        NaN   \n",
       "6503      NaN      Standard  Atliq Seasons  Business     Mumbai        NaN   \n",
       "\n",
       "      mmm yy week no  day_type    occ%  \n",
       "6494  Jul 22    W 32   weekend     NaN  \n",
       "6495  Jul 22    W 32   weekend     NaN  \n",
       "6496  Jul 22    W 32   weekend     NaN  \n",
       "6497  Aug-22    W 32  weekeday  100.00  \n",
       "6498  Aug-22    W 32  weekeday   70.00  \n",
       "6499  Aug-22    W 32  weekeday   76.67  \n",
       "6500  Aug-22    W 32  weekeday   75.00  \n",
       "6501  Aug-22    W 32  weekeday   76.92  \n",
       "6502  Aug-22    W 32  weekeday   69.23  \n",
       "6503  Aug-22    W 32  weekeday   62.50  "
      ]
     },
     "execution_count": 387,
     "metadata": {},
     "output_type": "execute_result"
    }
   ],
   "source": [
    "latest_df= pd.concat([df,df_aug],ignore_index=True,axis=0)\n",
    "latest_df.tail(10)"
   ]
  },
  {
   "cell_type": "code",
   "execution_count": 388,
   "id": "b1922f84",
   "metadata": {},
   "outputs": [
    {
     "data": {
      "text/plain": [
       "(6504, 15)"
      ]
     },
     "execution_count": 388,
     "metadata": {},
     "output_type": "execute_result"
    }
   ],
   "source": [
    "latest_df.shape"
   ]
  },
  {
   "cell_type": "code",
   "execution_count": null,
   "id": "5bfcf9a5",
   "metadata": {},
   "outputs": [],
   "source": []
  },
  {
   "cell_type": "code",
   "execution_count": 389,
   "id": "310cee7b",
   "metadata": {},
   "outputs": [
    {
     "data": {
      "text/html": [
       "<div>\n",
       "<style scoped>\n",
       "    .dataframe tbody tr th:only-of-type {\n",
       "        vertical-align: middle;\n",
       "    }\n",
       "\n",
       "    .dataframe tbody tr th {\n",
       "        vertical-align: top;\n",
       "    }\n",
       "\n",
       "    .dataframe thead th {\n",
       "        text-align: right;\n",
       "    }\n",
       "</style>\n",
       "<table border=\"1\" class=\"dataframe\">\n",
       "  <thead>\n",
       "    <tr style=\"text-align: right;\">\n",
       "      <th></th>\n",
       "      <th>booking_id</th>\n",
       "      <th>property_id</th>\n",
       "      <th>booking_date</th>\n",
       "      <th>check_in_date</th>\n",
       "      <th>checkout_date</th>\n",
       "      <th>no_guests</th>\n",
       "      <th>room_category</th>\n",
       "      <th>booking_platform</th>\n",
       "      <th>ratings_given</th>\n",
       "      <th>booking_status</th>\n",
       "      <th>revenue_generated</th>\n",
       "      <th>revenue_realized</th>\n",
       "    </tr>\n",
       "  </thead>\n",
       "  <tbody>\n",
       "    <tr>\n",
       "      <th>1</th>\n",
       "      <td>May012216558RT12</td>\n",
       "      <td>16558</td>\n",
       "      <td>30-04-22</td>\n",
       "      <td>1/5/2022</td>\n",
       "      <td>2/5/2022</td>\n",
       "      <td>2.0</td>\n",
       "      <td>RT1</td>\n",
       "      <td>others</td>\n",
       "      <td>NaN</td>\n",
       "      <td>Cancelled</td>\n",
       "      <td>9100</td>\n",
       "      <td>3640</td>\n",
       "    </tr>\n",
       "    <tr>\n",
       "      <th>4</th>\n",
       "      <td>May012216558RT15</td>\n",
       "      <td>16558</td>\n",
       "      <td>27-04-22</td>\n",
       "      <td>1/5/2022</td>\n",
       "      <td>2/5/2022</td>\n",
       "      <td>4.0</td>\n",
       "      <td>RT1</td>\n",
       "      <td>direct online</td>\n",
       "      <td>5.0</td>\n",
       "      <td>Checked Out</td>\n",
       "      <td>10920</td>\n",
       "      <td>10920</td>\n",
       "    </tr>\n",
       "    <tr>\n",
       "      <th>5</th>\n",
       "      <td>May012216558RT16</td>\n",
       "      <td>16558</td>\n",
       "      <td>1/5/2022</td>\n",
       "      <td>1/5/2022</td>\n",
       "      <td>3/5/2022</td>\n",
       "      <td>2.0</td>\n",
       "      <td>RT1</td>\n",
       "      <td>others</td>\n",
       "      <td>4.0</td>\n",
       "      <td>Checked Out</td>\n",
       "      <td>9100</td>\n",
       "      <td>9100</td>\n",
       "    </tr>\n",
       "    <tr>\n",
       "      <th>6</th>\n",
       "      <td>May012216558RT17</td>\n",
       "      <td>16558</td>\n",
       "      <td>28-04-22</td>\n",
       "      <td>1/5/2022</td>\n",
       "      <td>6/5/2022</td>\n",
       "      <td>2.0</td>\n",
       "      <td>RT1</td>\n",
       "      <td>others</td>\n",
       "      <td>NaN</td>\n",
       "      <td>Cancelled</td>\n",
       "      <td>9100</td>\n",
       "      <td>3640</td>\n",
       "    </tr>\n",
       "  </tbody>\n",
       "</table>\n",
       "</div>"
      ],
      "text/plain": [
       "         booking_id  property_id booking_date check_in_date checkout_date  \\\n",
       "1  May012216558RT12        16558     30-04-22      1/5/2022      2/5/2022   \n",
       "4  May012216558RT15        16558     27-04-22      1/5/2022      2/5/2022   \n",
       "5  May012216558RT16        16558     1/5/2022      1/5/2022      3/5/2022   \n",
       "6  May012216558RT17        16558     28-04-22      1/5/2022      6/5/2022   \n",
       "\n",
       "   no_guests room_category booking_platform  ratings_given booking_status  \\\n",
       "1        2.0           RT1           others            NaN      Cancelled   \n",
       "4        4.0           RT1    direct online            5.0    Checked Out   \n",
       "5        2.0           RT1           others            4.0    Checked Out   \n",
       "6        2.0           RT1           others            NaN      Cancelled   \n",
       "\n",
       "   revenue_generated  revenue_realized  \n",
       "1               9100              3640  \n",
       "4              10920             10920  \n",
       "5               9100              9100  \n",
       "6               9100              3640  "
      ]
     },
     "execution_count": 389,
     "metadata": {},
     "output_type": "execute_result"
    }
   ],
   "source": [
    "df_bookings.head(4)"
   ]
  },
  {
   "cell_type": "code",
   "execution_count": 390,
   "id": "47248bba",
   "metadata": {},
   "outputs": [
    {
     "data": {
      "text/html": [
       "<div>\n",
       "<style scoped>\n",
       "    .dataframe tbody tr th:only-of-type {\n",
       "        vertical-align: middle;\n",
       "    }\n",
       "\n",
       "    .dataframe tbody tr th {\n",
       "        vertical-align: top;\n",
       "    }\n",
       "\n",
       "    .dataframe thead th {\n",
       "        text-align: right;\n",
       "    }\n",
       "</style>\n",
       "<table border=\"1\" class=\"dataframe\">\n",
       "  <thead>\n",
       "    <tr style=\"text-align: right;\">\n",
       "      <th></th>\n",
       "      <th>property_id</th>\n",
       "      <th>property_name</th>\n",
       "      <th>category</th>\n",
       "      <th>city</th>\n",
       "    </tr>\n",
       "  </thead>\n",
       "  <tbody>\n",
       "    <tr>\n",
       "      <th>0</th>\n",
       "      <td>16558</td>\n",
       "      <td>Atliq Grands</td>\n",
       "      <td>Luxury</td>\n",
       "      <td>Delhi</td>\n",
       "    </tr>\n",
       "    <tr>\n",
       "      <th>1</th>\n",
       "      <td>16559</td>\n",
       "      <td>Atliq Exotica</td>\n",
       "      <td>Luxury</td>\n",
       "      <td>Mumbai</td>\n",
       "    </tr>\n",
       "    <tr>\n",
       "      <th>2</th>\n",
       "      <td>16560</td>\n",
       "      <td>Atliq City</td>\n",
       "      <td>Business</td>\n",
       "      <td>Delhi</td>\n",
       "    </tr>\n",
       "    <tr>\n",
       "      <th>3</th>\n",
       "      <td>16561</td>\n",
       "      <td>Atliq Blu</td>\n",
       "      <td>Luxury</td>\n",
       "      <td>Delhi</td>\n",
       "    </tr>\n",
       "    <tr>\n",
       "      <th>4</th>\n",
       "      <td>16562</td>\n",
       "      <td>Atliq Bay</td>\n",
       "      <td>Luxury</td>\n",
       "      <td>Delhi</td>\n",
       "    </tr>\n",
       "  </tbody>\n",
       "</table>\n",
       "</div>"
      ],
      "text/plain": [
       "   property_id  property_name  category    city\n",
       "0        16558   Atliq Grands    Luxury   Delhi\n",
       "1        16559  Atliq Exotica    Luxury  Mumbai\n",
       "2        16560     Atliq City  Business   Delhi\n",
       "3        16561      Atliq Blu    Luxury   Delhi\n",
       "4        16562      Atliq Bay    Luxury   Delhi"
      ]
     },
     "execution_count": 390,
     "metadata": {},
     "output_type": "execute_result"
    }
   ],
   "source": [
    "df_hotels.head()"
   ]
  },
  {
   "cell_type": "code",
   "execution_count": 391,
   "id": "834b515a",
   "metadata": {},
   "outputs": [
    {
     "data": {
      "text/html": [
       "<div>\n",
       "<style scoped>\n",
       "    .dataframe tbody tr th:only-of-type {\n",
       "        vertical-align: middle;\n",
       "    }\n",
       "\n",
       "    .dataframe tbody tr th {\n",
       "        vertical-align: top;\n",
       "    }\n",
       "\n",
       "    .dataframe thead th {\n",
       "        text-align: right;\n",
       "    }\n",
       "</style>\n",
       "<table border=\"1\" class=\"dataframe\">\n",
       "  <thead>\n",
       "    <tr style=\"text-align: right;\">\n",
       "      <th></th>\n",
       "      <th>booking_id</th>\n",
       "      <th>property_id</th>\n",
       "      <th>booking_date</th>\n",
       "      <th>check_in_date</th>\n",
       "      <th>checkout_date</th>\n",
       "      <th>no_guests</th>\n",
       "      <th>room_category</th>\n",
       "      <th>booking_platform</th>\n",
       "      <th>ratings_given</th>\n",
       "      <th>booking_status</th>\n",
       "      <th>revenue_generated</th>\n",
       "      <th>revenue_realized</th>\n",
       "      <th>property_name</th>\n",
       "      <th>category</th>\n",
       "      <th>city</th>\n",
       "    </tr>\n",
       "  </thead>\n",
       "  <tbody>\n",
       "    <tr>\n",
       "      <th>0</th>\n",
       "      <td>May012216558RT12</td>\n",
       "      <td>16558</td>\n",
       "      <td>30-04-22</td>\n",
       "      <td>1/5/2022</td>\n",
       "      <td>2/5/2022</td>\n",
       "      <td>2.0</td>\n",
       "      <td>RT1</td>\n",
       "      <td>others</td>\n",
       "      <td>NaN</td>\n",
       "      <td>Cancelled</td>\n",
       "      <td>9100</td>\n",
       "      <td>3640</td>\n",
       "      <td>Atliq Grands</td>\n",
       "      <td>Luxury</td>\n",
       "      <td>Delhi</td>\n",
       "    </tr>\n",
       "    <tr>\n",
       "      <th>1</th>\n",
       "      <td>May012216558RT15</td>\n",
       "      <td>16558</td>\n",
       "      <td>27-04-22</td>\n",
       "      <td>1/5/2022</td>\n",
       "      <td>2/5/2022</td>\n",
       "      <td>4.0</td>\n",
       "      <td>RT1</td>\n",
       "      <td>direct online</td>\n",
       "      <td>5.0</td>\n",
       "      <td>Checked Out</td>\n",
       "      <td>10920</td>\n",
       "      <td>10920</td>\n",
       "      <td>Atliq Grands</td>\n",
       "      <td>Luxury</td>\n",
       "      <td>Delhi</td>\n",
       "    </tr>\n",
       "    <tr>\n",
       "      <th>2</th>\n",
       "      <td>May012216558RT16</td>\n",
       "      <td>16558</td>\n",
       "      <td>1/5/2022</td>\n",
       "      <td>1/5/2022</td>\n",
       "      <td>3/5/2022</td>\n",
       "      <td>2.0</td>\n",
       "      <td>RT1</td>\n",
       "      <td>others</td>\n",
       "      <td>4.0</td>\n",
       "      <td>Checked Out</td>\n",
       "      <td>9100</td>\n",
       "      <td>9100</td>\n",
       "      <td>Atliq Grands</td>\n",
       "      <td>Luxury</td>\n",
       "      <td>Delhi</td>\n",
       "    </tr>\n",
       "  </tbody>\n",
       "</table>\n",
       "</div>"
      ],
      "text/plain": [
       "         booking_id  property_id booking_date check_in_date checkout_date  \\\n",
       "0  May012216558RT12        16558     30-04-22      1/5/2022      2/5/2022   \n",
       "1  May012216558RT15        16558     27-04-22      1/5/2022      2/5/2022   \n",
       "2  May012216558RT16        16558     1/5/2022      1/5/2022      3/5/2022   \n",
       "\n",
       "   no_guests room_category booking_platform  ratings_given booking_status  \\\n",
       "0        2.0           RT1           others            NaN      Cancelled   \n",
       "1        4.0           RT1    direct online            5.0    Checked Out   \n",
       "2        2.0           RT1           others            4.0    Checked Out   \n",
       "\n",
       "   revenue_generated  revenue_realized property_name category   city  \n",
       "0               9100              3640  Atliq Grands   Luxury  Delhi  \n",
       "1              10920             10920  Atliq Grands   Luxury  Delhi  \n",
       "2               9100              9100  Atliq Grands   Luxury  Delhi  "
      ]
     },
     "execution_count": 391,
     "metadata": {},
     "output_type": "execute_result"
    }
   ],
   "source": [
    "df_bookings_all = pd.merge(df_bookings, df_hotels, on=\"property_id\")\n",
    "df_bookings_all.head(3)"
   ]
  },
  {
   "cell_type": "markdown",
   "id": "8f6f694f",
   "metadata": {},
   "source": [
    "**(5) Revenue realized per city**"
   ]
  },
  {
   "cell_type": "code",
   "execution_count": 392,
   "id": "c4c5f153",
   "metadata": {},
   "outputs": [
    {
     "data": {
      "text/plain": [
       "city\n",
       "Delhi        294404488\n",
       "Hyderabad    325179310\n",
       "Bangalore    420383550\n",
       "Mumbai       668569251\n",
       "Name: revenue_realized, dtype: int64"
      ]
     },
     "execution_count": 392,
     "metadata": {},
     "output_type": "execute_result"
    }
   ],
   "source": [
    "df_bookings_all.groupby(\"city\")[\"revenue_realized\"].sum().sort_values()"
   ]
  },
  {
   "cell_type": "markdown",
   "id": "882f2fc3",
   "metadata": {},
   "source": [
    "**Print month by month revenue**"
   ]
  },
  {
   "cell_type": "code",
   "execution_count": 393,
   "id": "6d0f672d",
   "metadata": {},
   "outputs": [
    {
     "name": "stdout",
     "output_type": "stream",
     "text": [
      "<class 'pandas.core.frame.DataFrame'>\n",
      "RangeIndex: 92 entries, 0 to 91\n",
      "Data columns (total 4 columns):\n",
      " #   Column    Non-Null Count  Dtype \n",
      "---  ------    --------------  ----- \n",
      " 0   date      92 non-null     object\n",
      " 1   mmm yy    92 non-null     object\n",
      " 2   week no   92 non-null     object\n",
      " 3   day_type  92 non-null     object\n",
      "dtypes: object(4)\n",
      "memory usage: 3.0+ KB\n"
     ]
    }
   ],
   "source": [
    "df_date.info()"
   ]
  },
  {
   "cell_type": "code",
   "execution_count": 394,
   "id": "d5cb6f0a",
   "metadata": {},
   "outputs": [
    {
     "name": "stdout",
     "output_type": "stream",
     "text": [
      "<class 'pandas.core.frame.DataFrame'>\n",
      "RangeIndex: 92 entries, 0 to 91\n",
      "Data columns (total 4 columns):\n",
      " #   Column    Non-Null Count  Dtype         \n",
      "---  ------    --------------  -----         \n",
      " 0   date      92 non-null     datetime64[ns]\n",
      " 1   mmm yy    92 non-null     object        \n",
      " 2   week no   92 non-null     object        \n",
      " 3   day_type  92 non-null     object        \n",
      "dtypes: datetime64[ns](1), object(3)\n",
      "memory usage: 3.0+ KB\n"
     ]
    }
   ],
   "source": [
    "df_date[\"date\"] = pd.to_datetime(df_date[\"date\"], format = \"%d-%b-%y\")\n",
    "df_date.info()"
   ]
  },
  {
   "cell_type": "code",
   "execution_count": 395,
   "id": "33aad145",
   "metadata": {},
   "outputs": [
    {
     "data": {
      "text/html": [
       "<div>\n",
       "<style scoped>\n",
       "    .dataframe tbody tr th:only-of-type {\n",
       "        vertical-align: middle;\n",
       "    }\n",
       "\n",
       "    .dataframe tbody tr th {\n",
       "        vertical-align: top;\n",
       "    }\n",
       "\n",
       "    .dataframe thead th {\n",
       "        text-align: right;\n",
       "    }\n",
       "</style>\n",
       "<table border=\"1\" class=\"dataframe\">\n",
       "  <thead>\n",
       "    <tr style=\"text-align: right;\">\n",
       "      <th></th>\n",
       "      <th>booking_id</th>\n",
       "      <th>property_id</th>\n",
       "      <th>booking_date</th>\n",
       "      <th>check_in_date</th>\n",
       "      <th>checkout_date</th>\n",
       "      <th>no_guests</th>\n",
       "      <th>room_category</th>\n",
       "      <th>booking_platform</th>\n",
       "      <th>ratings_given</th>\n",
       "      <th>booking_status</th>\n",
       "      <th>revenue_generated</th>\n",
       "      <th>revenue_realized</th>\n",
       "      <th>property_name</th>\n",
       "      <th>category</th>\n",
       "      <th>city</th>\n",
       "    </tr>\n",
       "  </thead>\n",
       "  <tbody>\n",
       "    <tr>\n",
       "      <th>0</th>\n",
       "      <td>May012216558RT12</td>\n",
       "      <td>16558</td>\n",
       "      <td>30-04-22</td>\n",
       "      <td>1/5/2022</td>\n",
       "      <td>2/5/2022</td>\n",
       "      <td>2.0</td>\n",
       "      <td>RT1</td>\n",
       "      <td>others</td>\n",
       "      <td>NaN</td>\n",
       "      <td>Cancelled</td>\n",
       "      <td>9100</td>\n",
       "      <td>3640</td>\n",
       "      <td>Atliq Grands</td>\n",
       "      <td>Luxury</td>\n",
       "      <td>Delhi</td>\n",
       "    </tr>\n",
       "    <tr>\n",
       "      <th>1</th>\n",
       "      <td>May012216558RT15</td>\n",
       "      <td>16558</td>\n",
       "      <td>27-04-22</td>\n",
       "      <td>1/5/2022</td>\n",
       "      <td>2/5/2022</td>\n",
       "      <td>4.0</td>\n",
       "      <td>RT1</td>\n",
       "      <td>direct online</td>\n",
       "      <td>5.0</td>\n",
       "      <td>Checked Out</td>\n",
       "      <td>10920</td>\n",
       "      <td>10920</td>\n",
       "      <td>Atliq Grands</td>\n",
       "      <td>Luxury</td>\n",
       "      <td>Delhi</td>\n",
       "    </tr>\n",
       "    <tr>\n",
       "      <th>2</th>\n",
       "      <td>May012216558RT16</td>\n",
       "      <td>16558</td>\n",
       "      <td>1/5/2022</td>\n",
       "      <td>1/5/2022</td>\n",
       "      <td>3/5/2022</td>\n",
       "      <td>2.0</td>\n",
       "      <td>RT1</td>\n",
       "      <td>others</td>\n",
       "      <td>4.0</td>\n",
       "      <td>Checked Out</td>\n",
       "      <td>9100</td>\n",
       "      <td>9100</td>\n",
       "      <td>Atliq Grands</td>\n",
       "      <td>Luxury</td>\n",
       "      <td>Delhi</td>\n",
       "    </tr>\n",
       "    <tr>\n",
       "      <th>3</th>\n",
       "      <td>May012216558RT17</td>\n",
       "      <td>16558</td>\n",
       "      <td>28-04-22</td>\n",
       "      <td>1/5/2022</td>\n",
       "      <td>6/5/2022</td>\n",
       "      <td>2.0</td>\n",
       "      <td>RT1</td>\n",
       "      <td>others</td>\n",
       "      <td>NaN</td>\n",
       "      <td>Cancelled</td>\n",
       "      <td>9100</td>\n",
       "      <td>3640</td>\n",
       "      <td>Atliq Grands</td>\n",
       "      <td>Luxury</td>\n",
       "      <td>Delhi</td>\n",
       "    </tr>\n",
       "    <tr>\n",
       "      <th>4</th>\n",
       "      <td>May012216558RT18</td>\n",
       "      <td>16558</td>\n",
       "      <td>26-04-22</td>\n",
       "      <td>1/5/2022</td>\n",
       "      <td>3/5/2022</td>\n",
       "      <td>2.0</td>\n",
       "      <td>RT1</td>\n",
       "      <td>logtrip</td>\n",
       "      <td>NaN</td>\n",
       "      <td>No Show</td>\n",
       "      <td>9100</td>\n",
       "      <td>9100</td>\n",
       "      <td>Atliq Grands</td>\n",
       "      <td>Luxury</td>\n",
       "      <td>Delhi</td>\n",
       "    </tr>\n",
       "  </tbody>\n",
       "</table>\n",
       "</div>"
      ],
      "text/plain": [
       "         booking_id  property_id booking_date check_in_date checkout_date  \\\n",
       "0  May012216558RT12        16558     30-04-22      1/5/2022      2/5/2022   \n",
       "1  May012216558RT15        16558     27-04-22      1/5/2022      2/5/2022   \n",
       "2  May012216558RT16        16558     1/5/2022      1/5/2022      3/5/2022   \n",
       "3  May012216558RT17        16558     28-04-22      1/5/2022      6/5/2022   \n",
       "4  May012216558RT18        16558     26-04-22      1/5/2022      3/5/2022   \n",
       "\n",
       "   no_guests room_category booking_platform  ratings_given booking_status  \\\n",
       "0        2.0           RT1           others            NaN      Cancelled   \n",
       "1        4.0           RT1    direct online            5.0    Checked Out   \n",
       "2        2.0           RT1           others            4.0    Checked Out   \n",
       "3        2.0           RT1           others            NaN      Cancelled   \n",
       "4        2.0           RT1          logtrip            NaN        No Show   \n",
       "\n",
       "   revenue_generated  revenue_realized property_name category   city  \n",
       "0               9100              3640  Atliq Grands   Luxury  Delhi  \n",
       "1              10920             10920  Atliq Grands   Luxury  Delhi  \n",
       "2               9100              9100  Atliq Grands   Luxury  Delhi  \n",
       "3               9100              3640  Atliq Grands   Luxury  Delhi  \n",
       "4               9100              9100  Atliq Grands   Luxury  Delhi  "
      ]
     },
     "execution_count": 395,
     "metadata": {},
     "output_type": "execute_result"
    }
   ],
   "source": [
    "df_bookings_all.head(5)"
   ]
  },
  {
   "cell_type": "code",
   "execution_count": 396,
   "id": "b66921be",
   "metadata": {},
   "outputs": [
    {
     "name": "stdout",
     "output_type": "stream",
     "text": [
      "<class 'pandas.core.frame.DataFrame'>\n",
      "RangeIndex: 134573 entries, 0 to 134572\n",
      "Data columns (total 15 columns):\n",
      " #   Column             Non-Null Count   Dtype  \n",
      "---  ------             --------------   -----  \n",
      " 0   booking_id         134573 non-null  object \n",
      " 1   property_id        134573 non-null  int64  \n",
      " 2   booking_date       134573 non-null  object \n",
      " 3   check_in_date      134573 non-null  object \n",
      " 4   checkout_date      134573 non-null  object \n",
      " 5   no_guests          134573 non-null  float64\n",
      " 6   room_category      134573 non-null  object \n",
      " 7   booking_platform   134573 non-null  object \n",
      " 8   ratings_given      56676 non-null   float64\n",
      " 9   booking_status     134573 non-null  object \n",
      " 10  revenue_generated  134573 non-null  int64  \n",
      " 11  revenue_realized   134573 non-null  int64  \n",
      " 12  property_name      134573 non-null  object \n",
      " 13  category           134573 non-null  object \n",
      " 14  city               134573 non-null  object \n",
      "dtypes: float64(2), int64(3), object(10)\n",
      "memory usage: 15.4+ MB\n"
     ]
    }
   ],
   "source": [
    "df_bookings_all.info()"
   ]
  },
  {
   "cell_type": "code",
   "execution_count": 397,
   "id": "7c38a34c",
   "metadata": {},
   "outputs": [
    {
     "name": "stdout",
     "output_type": "stream",
     "text": [
      "<class 'pandas.core.frame.DataFrame'>\n",
      "RangeIndex: 134573 entries, 0 to 134572\n",
      "Data columns (total 15 columns):\n",
      " #   Column             Non-Null Count   Dtype         \n",
      "---  ------             --------------   -----         \n",
      " 0   booking_id         134573 non-null  object        \n",
      " 1   property_id        134573 non-null  int64         \n",
      " 2   booking_date       134573 non-null  object        \n",
      " 3   check_in_date      134573 non-null  datetime64[ns]\n",
      " 4   checkout_date      134573 non-null  object        \n",
      " 5   no_guests          134573 non-null  float64       \n",
      " 6   room_category      134573 non-null  object        \n",
      " 7   booking_platform   134573 non-null  object        \n",
      " 8   ratings_given      56676 non-null   float64       \n",
      " 9   booking_status     134573 non-null  object        \n",
      " 10  revenue_generated  134573 non-null  int64         \n",
      " 11  revenue_realized   134573 non-null  int64         \n",
      " 12  property_name      134573 non-null  object        \n",
      " 13  category           134573 non-null  object        \n",
      " 14  city               134573 non-null  object        \n",
      "dtypes: datetime64[ns](1), float64(2), int64(3), object(9)\n",
      "memory usage: 15.4+ MB\n"
     ]
    }
   ],
   "source": [
    "df_bookings_all[\"check_in_date\"] = pd.to_datetime(df_bookings_all[\"check_in_date\"], format='mixed', dayfirst=True)\n",
    "df_bookings_all.info()"
   ]
  },
  {
   "cell_type": "code",
   "execution_count": 398,
   "id": "d2f5aeaf",
   "metadata": {},
   "outputs": [
    {
     "data": {
      "text/html": [
       "<div>\n",
       "<style scoped>\n",
       "    .dataframe tbody tr th:only-of-type {\n",
       "        vertical-align: middle;\n",
       "    }\n",
       "\n",
       "    .dataframe tbody tr th {\n",
       "        vertical-align: top;\n",
       "    }\n",
       "\n",
       "    .dataframe thead th {\n",
       "        text-align: right;\n",
       "    }\n",
       "</style>\n",
       "<table border=\"1\" class=\"dataframe\">\n",
       "  <thead>\n",
       "    <tr style=\"text-align: right;\">\n",
       "      <th></th>\n",
       "      <th>booking_id</th>\n",
       "      <th>property_id</th>\n",
       "      <th>booking_date</th>\n",
       "      <th>check_in_date</th>\n",
       "      <th>checkout_date</th>\n",
       "      <th>no_guests</th>\n",
       "      <th>room_category</th>\n",
       "      <th>booking_platform</th>\n",
       "      <th>ratings_given</th>\n",
       "      <th>booking_status</th>\n",
       "      <th>revenue_generated</th>\n",
       "      <th>revenue_realized</th>\n",
       "      <th>property_name</th>\n",
       "      <th>category</th>\n",
       "      <th>city</th>\n",
       "      <th>date</th>\n",
       "      <th>mmm yy</th>\n",
       "      <th>week no</th>\n",
       "      <th>day_type</th>\n",
       "    </tr>\n",
       "  </thead>\n",
       "  <tbody>\n",
       "    <tr>\n",
       "      <th>0</th>\n",
       "      <td>May012216558RT12</td>\n",
       "      <td>16558</td>\n",
       "      <td>30-04-22</td>\n",
       "      <td>2022-05-01</td>\n",
       "      <td>2/5/2022</td>\n",
       "      <td>2.0</td>\n",
       "      <td>RT1</td>\n",
       "      <td>others</td>\n",
       "      <td>NaN</td>\n",
       "      <td>Cancelled</td>\n",
       "      <td>9100</td>\n",
       "      <td>3640</td>\n",
       "      <td>Atliq Grands</td>\n",
       "      <td>Luxury</td>\n",
       "      <td>Delhi</td>\n",
       "      <td>2022-05-01</td>\n",
       "      <td>May 22</td>\n",
       "      <td>W 19</td>\n",
       "      <td>weekend</td>\n",
       "    </tr>\n",
       "    <tr>\n",
       "      <th>1</th>\n",
       "      <td>May012216558RT15</td>\n",
       "      <td>16558</td>\n",
       "      <td>27-04-22</td>\n",
       "      <td>2022-05-01</td>\n",
       "      <td>2/5/2022</td>\n",
       "      <td>4.0</td>\n",
       "      <td>RT1</td>\n",
       "      <td>direct online</td>\n",
       "      <td>5.0</td>\n",
       "      <td>Checked Out</td>\n",
       "      <td>10920</td>\n",
       "      <td>10920</td>\n",
       "      <td>Atliq Grands</td>\n",
       "      <td>Luxury</td>\n",
       "      <td>Delhi</td>\n",
       "      <td>2022-05-01</td>\n",
       "      <td>May 22</td>\n",
       "      <td>W 19</td>\n",
       "      <td>weekend</td>\n",
       "    </tr>\n",
       "    <tr>\n",
       "      <th>2</th>\n",
       "      <td>May012216558RT16</td>\n",
       "      <td>16558</td>\n",
       "      <td>1/5/2022</td>\n",
       "      <td>2022-05-01</td>\n",
       "      <td>3/5/2022</td>\n",
       "      <td>2.0</td>\n",
       "      <td>RT1</td>\n",
       "      <td>others</td>\n",
       "      <td>4.0</td>\n",
       "      <td>Checked Out</td>\n",
       "      <td>9100</td>\n",
       "      <td>9100</td>\n",
       "      <td>Atliq Grands</td>\n",
       "      <td>Luxury</td>\n",
       "      <td>Delhi</td>\n",
       "      <td>2022-05-01</td>\n",
       "      <td>May 22</td>\n",
       "      <td>W 19</td>\n",
       "      <td>weekend</td>\n",
       "    </tr>\n",
       "  </tbody>\n",
       "</table>\n",
       "</div>"
      ],
      "text/plain": [
       "         booking_id  property_id booking_date check_in_date checkout_date  \\\n",
       "0  May012216558RT12        16558     30-04-22    2022-05-01      2/5/2022   \n",
       "1  May012216558RT15        16558     27-04-22    2022-05-01      2/5/2022   \n",
       "2  May012216558RT16        16558     1/5/2022    2022-05-01      3/5/2022   \n",
       "\n",
       "   no_guests room_category booking_platform  ratings_given booking_status  \\\n",
       "0        2.0           RT1           others            NaN      Cancelled   \n",
       "1        4.0           RT1    direct online            5.0    Checked Out   \n",
       "2        2.0           RT1           others            4.0    Checked Out   \n",
       "\n",
       "   revenue_generated  revenue_realized property_name category   city  \\\n",
       "0               9100              3640  Atliq Grands   Luxury  Delhi   \n",
       "1              10920             10920  Atliq Grands   Luxury  Delhi   \n",
       "2               9100              9100  Atliq Grands   Luxury  Delhi   \n",
       "\n",
       "        date  mmm yy week no day_type  \n",
       "0 2022-05-01  May 22    W 19  weekend  \n",
       "1 2022-05-01  May 22    W 19  weekend  \n",
       "2 2022-05-01  May 22    W 19  weekend  "
      ]
     },
     "execution_count": 398,
     "metadata": {},
     "output_type": "execute_result"
    }
   ],
   "source": [
    "df_bookings_all = pd.merge(df_bookings_all, df_date, left_on=\"check_in_date\", right_on=\"date\")\n",
    "df_bookings_all.head(3)"
   ]
  },
  {
   "cell_type": "code",
   "execution_count": 400,
   "id": "f1bd2ac6",
   "metadata": {},
   "outputs": [
    {
     "data": {
      "text/plain": [
       "mmm yy\n",
       "May 22    581767396\n",
       "Jun 22    553925855\n",
       "Jul 22    572843348\n",
       "Name: revenue_realized, dtype: int64"
      ]
     },
     "execution_count": 400,
     "metadata": {},
     "output_type": "execute_result"
    }
   ],
   "source": [
    "df_bookings_all.groupby(\"mmm yy\")[\"revenue_realized\"].sum().sort_index(ascending=False)"
   ]
  },
  {
   "cell_type": "code",
   "execution_count": 402,
   "id": "1b50251c",
   "metadata": {},
   "outputs": [
    {
     "data": {
      "text/plain": [
       "<Axes: xlabel='revenue realised in Cr.'>"
      ]
     },
     "execution_count": 402,
     "metadata": {},
     "output_type": "execute_result"
    },
    {
     "data": {
      "image/png": "[encoded data removed]",
      "text/plain": [
       "<Figure size 640x480 with 1 Axes>"
      ]
     },
     "metadata": {},
     "output_type": "display_data"
    }
   ],
   "source": [
    "m_m_rev=df_bookings_all.groupby(\"mmm yy\")[\"revenue_realized\"].sum()/10000000\n",
    "m_m_rev.sort_index(ascending=False).plot(kind=\"bar\",xlabel=\"revenue realised in Cr.\")"
   ]
  },
  {
   "cell_type": "markdown",
   "id": "34efe3e2",
   "metadata": {},
   "source": [
    "**revenue realized per hotel type**"
   ]
  },
  {
   "cell_type": "code",
   "execution_count": 403,
   "id": "d2ab7ab2",
   "metadata": {},
   "outputs": [
    {
     "data": {
      "text/plain": [
       "room_category\n",
       "RT1    309547225\n",
       "RT2    560216304\n",
       "RT3    462079944\n",
       "RT4    376693126\n",
       "Name: revenue_realized, dtype: int64"
      ]
     },
     "execution_count": 403,
     "metadata": {},
     "output_type": "execute_result"
    }
   ],
   "source": []
  },
  {
   "cell_type": "code",
   "execution_count": 404,
   "id": "e203d074",
   "metadata": {},
   "outputs": [
    {
     "name": "stdout",
     "output_type": "stream",
     "text": [
      "<class 'pandas.core.frame.DataFrame'>\n",
      "RangeIndex: 134573 entries, 0 to 134572\n",
      "Data columns (total 19 columns):\n",
      " #   Column             Non-Null Count   Dtype         \n",
      "---  ------             --------------   -----         \n",
      " 0   booking_id         134573 non-null  object        \n",
      " 1   property_id        134573 non-null  int64         \n",
      " 2   booking_date       134573 non-null  object        \n",
      " 3   check_in_date      134573 non-null  datetime64[ns]\n",
      " 4   checkout_date      134573 non-null  object        \n",
      " 5   no_guests          134573 non-null  float64       \n",
      " 6   room_category      134573 non-null  object        \n",
      " 7   booking_platform   134573 non-null  object        \n",
      " 8   ratings_given      56676 non-null   float64       \n",
      " 9   booking_status     134573 non-null  object        \n",
      " 10  revenue_generated  134573 non-null  int64         \n",
      " 11  revenue_realized   134573 non-null  int64         \n",
      " 12  property_name      134573 non-null  object        \n",
      " 13  category           134573 non-null  object        \n",
      " 14  city               134573 non-null  object        \n",
      " 15  date               134573 non-null  datetime64[ns]\n",
      " 16  mmm yy             134573 non-null  object        \n",
      " 17  week no            134573 non-null  object        \n",
      " 18  day_type           134573 non-null  object        \n",
      "dtypes: datetime64[ns](2), float64(2), int64(3), object(12)\n",
      "memory usage: 19.5+ MB\n"
     ]
    }
   ],
   "source": [
    "df_bookings_all.info()"
   ]
  },
  {
   "cell_type": "code",
   "execution_count": 407,
   "id": "4eb3ced2",
   "metadata": {},
   "outputs": [],
   "source": [
    "df_bookings_all=pd.merge(df_bookings_all,df_rooms,left_on=\"room_category\",right_on=\"room_id\")"
   ]
  },
  {
   "cell_type": "code",
   "execution_count": 408,
   "id": "5672fe59",
   "metadata": {},
   "outputs": [
    {
     "data": {
      "text/html": [
       "<div>\n",
       "<style scoped>\n",
       "    .dataframe tbody tr th:only-of-type {\n",
       "        vertical-align: middle;\n",
       "    }\n",
       "\n",
       "    .dataframe tbody tr th {\n",
       "        vertical-align: top;\n",
       "    }\n",
       "\n",
       "    .dataframe thead th {\n",
       "        text-align: right;\n",
       "    }\n",
       "</style>\n",
       "<table border=\"1\" class=\"dataframe\">\n",
       "  <thead>\n",
       "    <tr style=\"text-align: right;\">\n",
       "      <th></th>\n",
       "      <th>booking_id</th>\n",
       "      <th>property_id</th>\n",
       "      <th>booking_date</th>\n",
       "      <th>check_in_date</th>\n",
       "      <th>checkout_date</th>\n",
       "      <th>no_guests</th>\n",
       "      <th>room_category</th>\n",
       "      <th>booking_platform</th>\n",
       "      <th>ratings_given</th>\n",
       "      <th>booking_status</th>\n",
       "      <th>...</th>\n",
       "      <th>revenue_realized</th>\n",
       "      <th>property_name</th>\n",
       "      <th>category</th>\n",
       "      <th>city</th>\n",
       "      <th>date</th>\n",
       "      <th>mmm yy</th>\n",
       "      <th>week no</th>\n",
       "      <th>day_type</th>\n",
       "      <th>room_id</th>\n",
       "      <th>room_class</th>\n",
       "    </tr>\n",
       "  </thead>\n",
       "  <tbody>\n",
       "    <tr>\n",
       "      <th>0</th>\n",
       "      <td>May012216558RT12</td>\n",
       "      <td>16558</td>\n",
       "      <td>30-04-22</td>\n",
       "      <td>2022-05-01</td>\n",
       "      <td>2/5/2022</td>\n",
       "      <td>2.0</td>\n",
       "      <td>RT1</td>\n",
       "      <td>others</td>\n",
       "      <td>NaN</td>\n",
       "      <td>Cancelled</td>\n",
       "      <td>...</td>\n",
       "      <td>3640</td>\n",
       "      <td>Atliq Grands</td>\n",
       "      <td>Luxury</td>\n",
       "      <td>Delhi</td>\n",
       "      <td>2022-05-01</td>\n",
       "      <td>May 22</td>\n",
       "      <td>W 19</td>\n",
       "      <td>weekend</td>\n",
       "      <td>RT1</td>\n",
       "      <td>Standard</td>\n",
       "    </tr>\n",
       "    <tr>\n",
       "      <th>1</th>\n",
       "      <td>May012216558RT15</td>\n",
       "      <td>16558</td>\n",
       "      <td>27-04-22</td>\n",
       "      <td>2022-05-01</td>\n",
       "      <td>2/5/2022</td>\n",
       "      <td>4.0</td>\n",
       "      <td>RT1</td>\n",
       "      <td>direct online</td>\n",
       "      <td>5.0</td>\n",
       "      <td>Checked Out</td>\n",
       "      <td>...</td>\n",
       "      <td>10920</td>\n",
       "      <td>Atliq Grands</td>\n",
       "      <td>Luxury</td>\n",
       "      <td>Delhi</td>\n",
       "      <td>2022-05-01</td>\n",
       "      <td>May 22</td>\n",
       "      <td>W 19</td>\n",
       "      <td>weekend</td>\n",
       "      <td>RT1</td>\n",
       "      <td>Standard</td>\n",
       "    </tr>\n",
       "    <tr>\n",
       "      <th>2</th>\n",
       "      <td>May012216558RT16</td>\n",
       "      <td>16558</td>\n",
       "      <td>1/5/2022</td>\n",
       "      <td>2022-05-01</td>\n",
       "      <td>3/5/2022</td>\n",
       "      <td>2.0</td>\n",
       "      <td>RT1</td>\n",
       "      <td>others</td>\n",
       "      <td>4.0</td>\n",
       "      <td>Checked Out</td>\n",
       "      <td>...</td>\n",
       "      <td>9100</td>\n",
       "      <td>Atliq Grands</td>\n",
       "      <td>Luxury</td>\n",
       "      <td>Delhi</td>\n",
       "      <td>2022-05-01</td>\n",
       "      <td>May 22</td>\n",
       "      <td>W 19</td>\n",
       "      <td>weekend</td>\n",
       "      <td>RT1</td>\n",
       "      <td>Standard</td>\n",
       "    </tr>\n",
       "    <tr>\n",
       "      <th>3</th>\n",
       "      <td>May012216558RT17</td>\n",
       "      <td>16558</td>\n",
       "      <td>28-04-22</td>\n",
       "      <td>2022-05-01</td>\n",
       "      <td>6/5/2022</td>\n",
       "      <td>2.0</td>\n",
       "      <td>RT1</td>\n",
       "      <td>others</td>\n",
       "      <td>NaN</td>\n",
       "      <td>Cancelled</td>\n",
       "      <td>...</td>\n",
       "      <td>3640</td>\n",
       "      <td>Atliq Grands</td>\n",
       "      <td>Luxury</td>\n",
       "      <td>Delhi</td>\n",
       "      <td>2022-05-01</td>\n",
       "      <td>May 22</td>\n",
       "      <td>W 19</td>\n",
       "      <td>weekend</td>\n",
       "      <td>RT1</td>\n",
       "      <td>Standard</td>\n",
       "    </tr>\n",
       "  </tbody>\n",
       "</table>\n",
       "<p>4 rows × 21 columns</p>\n",
       "</div>"
      ],
      "text/plain": [
       "         booking_id  property_id booking_date check_in_date checkout_date  \\\n",
       "0  May012216558RT12        16558     30-04-22    2022-05-01      2/5/2022   \n",
       "1  May012216558RT15        16558     27-04-22    2022-05-01      2/5/2022   \n",
       "2  May012216558RT16        16558     1/5/2022    2022-05-01      3/5/2022   \n",
       "3  May012216558RT17        16558     28-04-22    2022-05-01      6/5/2022   \n",
       "\n",
       "   no_guests room_category booking_platform  ratings_given booking_status  \\\n",
       "0        2.0           RT1           others            NaN      Cancelled   \n",
       "1        4.0           RT1    direct online            5.0    Checked Out   \n",
       "2        2.0           RT1           others            4.0    Checked Out   \n",
       "3        2.0           RT1           others            NaN      Cancelled   \n",
       "\n",
       "   ...  revenue_realized  property_name category   city       date  mmm yy  \\\n",
       "0  ...              3640   Atliq Grands   Luxury  Delhi 2022-05-01  May 22   \n",
       "1  ...             10920   Atliq Grands   Luxury  Delhi 2022-05-01  May 22   \n",
       "2  ...              9100   Atliq Grands   Luxury  Delhi 2022-05-01  May 22   \n",
       "3  ...              3640   Atliq Grands   Luxury  Delhi 2022-05-01  May 22   \n",
       "\n",
       "  week no day_type room_id room_class  \n",
       "0    W 19  weekend     RT1   Standard  \n",
       "1    W 19  weekend     RT1   Standard  \n",
       "2    W 19  weekend     RT1   Standard  \n",
       "3    W 19  weekend     RT1   Standard  \n",
       "\n",
       "[4 rows x 21 columns]"
      ]
     },
     "execution_count": 408,
     "metadata": {},
     "output_type": "execute_result"
    }
   ],
   "source": [
    "df_bookings_all.head(4)"
   ]
  },
  {
   "cell_type": "code",
   "execution_count": 419,
   "id": "da769e80",
   "metadata": {},
   "outputs": [
    {
     "data": {
      "text/plain": [
       "room_category  room_class  \n",
       "RT1            Standard        309547225\n",
       "RT2            Elite           560216304\n",
       "RT3            Premium         462079944\n",
       "RT4            Presidential    376693126\n",
       "Name: revenue_realized, dtype: int64"
      ]
     },
     "execution_count": 419,
     "metadata": {},
     "output_type": "execute_result"
    }
   ],
   "source": [
    "df_bookings_all.groupby([\"room_category\",\"room_class\"])[\"revenue_realized\"].sum().sort_index()"
   ]
  },
  {
   "cell_type": "code",
   "execution_count": 422,
   "id": "16e1dae3",
   "metadata": {},
   "outputs": [
    {
     "data": {
      "text/plain": [
       "<Axes: xlabel='room class', ylabel='revenue realized (Cr)'>"
      ]
     },
     "execution_count": 422,
     "metadata": {},
     "output_type": "execute_result"
    },
    {
     "data": {
      "image/png": "[encoded data removed]",
      "text/plain": [
       "<Figure size 640x480 with 1 Axes>"
      ]
     },
     "metadata": {},
     "output_type": "display_data"
    }
   ],
   "source": [
    "revR_hotel_type = df_bookings_all.groupby([\"room_category\",\"room_class\"])[\"revenue_realized\"].sum() / 10000000\n",
    "revR_hotel_type.plot(kind=\"bar\",xlabel=\"room class\",ylabel=\"revenue realized (Cr)\")"
   ]
  },
  {
   "cell_type": "markdown",
   "id": "2940cf99",
   "metadata": {},
   "source": [
    "**average rating per city**"
   ]
  },
  {
   "cell_type": "code",
   "execution_count": 423,
   "id": "985a3911",
   "metadata": {},
   "outputs": [
    {
     "data": {
      "text/html": [
       "<div>\n",
       "<style scoped>\n",
       "    .dataframe tbody tr th:only-of-type {\n",
       "        vertical-align: middle;\n",
       "    }\n",
       "\n",
       "    .dataframe tbody tr th {\n",
       "        vertical-align: top;\n",
       "    }\n",
       "\n",
       "    .dataframe thead th {\n",
       "        text-align: right;\n",
       "    }\n",
       "</style>\n",
       "<table border=\"1\" class=\"dataframe\">\n",
       "  <thead>\n",
       "    <tr style=\"text-align: right;\">\n",
       "      <th></th>\n",
       "      <th>booking_id</th>\n",
       "      <th>property_id</th>\n",
       "      <th>booking_date</th>\n",
       "      <th>check_in_date</th>\n",
       "      <th>checkout_date</th>\n",
       "      <th>no_guests</th>\n",
       "      <th>room_category</th>\n",
       "      <th>booking_platform</th>\n",
       "      <th>ratings_given</th>\n",
       "      <th>booking_status</th>\n",
       "      <th>...</th>\n",
       "      <th>revenue_realized</th>\n",
       "      <th>property_name</th>\n",
       "      <th>category</th>\n",
       "      <th>city</th>\n",
       "      <th>date</th>\n",
       "      <th>mmm yy</th>\n",
       "      <th>week no</th>\n",
       "      <th>day_type</th>\n",
       "      <th>room_id</th>\n",
       "      <th>room_class</th>\n",
       "    </tr>\n",
       "  </thead>\n",
       "  <tbody>\n",
       "    <tr>\n",
       "      <th>0</th>\n",
       "      <td>May012216558RT12</td>\n",
       "      <td>16558</td>\n",
       "      <td>30-04-22</td>\n",
       "      <td>2022-05-01</td>\n",
       "      <td>2/5/2022</td>\n",
       "      <td>2.0</td>\n",
       "      <td>RT1</td>\n",
       "      <td>others</td>\n",
       "      <td>NaN</td>\n",
       "      <td>Cancelled</td>\n",
       "      <td>...</td>\n",
       "      <td>3640</td>\n",
       "      <td>Atliq Grands</td>\n",
       "      <td>Luxury</td>\n",
       "      <td>Delhi</td>\n",
       "      <td>2022-05-01</td>\n",
       "      <td>May 22</td>\n",
       "      <td>W 19</td>\n",
       "      <td>weekend</td>\n",
       "      <td>RT1</td>\n",
       "      <td>Standard</td>\n",
       "    </tr>\n",
       "    <tr>\n",
       "      <th>1</th>\n",
       "      <td>May012216558RT15</td>\n",
       "      <td>16558</td>\n",
       "      <td>27-04-22</td>\n",
       "      <td>2022-05-01</td>\n",
       "      <td>2/5/2022</td>\n",
       "      <td>4.0</td>\n",
       "      <td>RT1</td>\n",
       "      <td>direct online</td>\n",
       "      <td>5.0</td>\n",
       "      <td>Checked Out</td>\n",
       "      <td>...</td>\n",
       "      <td>10920</td>\n",
       "      <td>Atliq Grands</td>\n",
       "      <td>Luxury</td>\n",
       "      <td>Delhi</td>\n",
       "      <td>2022-05-01</td>\n",
       "      <td>May 22</td>\n",
       "      <td>W 19</td>\n",
       "      <td>weekend</td>\n",
       "      <td>RT1</td>\n",
       "      <td>Standard</td>\n",
       "    </tr>\n",
       "    <tr>\n",
       "      <th>2</th>\n",
       "      <td>May012216558RT16</td>\n",
       "      <td>16558</td>\n",
       "      <td>1/5/2022</td>\n",
       "      <td>2022-05-01</td>\n",
       "      <td>3/5/2022</td>\n",
       "      <td>2.0</td>\n",
       "      <td>RT1</td>\n",
       "      <td>others</td>\n",
       "      <td>4.0</td>\n",
       "      <td>Checked Out</td>\n",
       "      <td>...</td>\n",
       "      <td>9100</td>\n",
       "      <td>Atliq Grands</td>\n",
       "      <td>Luxury</td>\n",
       "      <td>Delhi</td>\n",
       "      <td>2022-05-01</td>\n",
       "      <td>May 22</td>\n",
       "      <td>W 19</td>\n",
       "      <td>weekend</td>\n",
       "      <td>RT1</td>\n",
       "      <td>Standard</td>\n",
       "    </tr>\n",
       "    <tr>\n",
       "      <th>3</th>\n",
       "      <td>May012216558RT17</td>\n",
       "      <td>16558</td>\n",
       "      <td>28-04-22</td>\n",
       "      <td>2022-05-01</td>\n",
       "      <td>6/5/2022</td>\n",
       "      <td>2.0</td>\n",
       "      <td>RT1</td>\n",
       "      <td>others</td>\n",
       "      <td>NaN</td>\n",
       "      <td>Cancelled</td>\n",
       "      <td>...</td>\n",
       "      <td>3640</td>\n",
       "      <td>Atliq Grands</td>\n",
       "      <td>Luxury</td>\n",
       "      <td>Delhi</td>\n",
       "      <td>2022-05-01</td>\n",
       "      <td>May 22</td>\n",
       "      <td>W 19</td>\n",
       "      <td>weekend</td>\n",
       "      <td>RT1</td>\n",
       "      <td>Standard</td>\n",
       "    </tr>\n",
       "    <tr>\n",
       "      <th>4</th>\n",
       "      <td>May012216558RT18</td>\n",
       "      <td>16558</td>\n",
       "      <td>26-04-22</td>\n",
       "      <td>2022-05-01</td>\n",
       "      <td>3/5/2022</td>\n",
       "      <td>2.0</td>\n",
       "      <td>RT1</td>\n",
       "      <td>logtrip</td>\n",
       "      <td>NaN</td>\n",
       "      <td>No Show</td>\n",
       "      <td>...</td>\n",
       "      <td>9100</td>\n",
       "      <td>Atliq Grands</td>\n",
       "      <td>Luxury</td>\n",
       "      <td>Delhi</td>\n",
       "      <td>2022-05-01</td>\n",
       "      <td>May 22</td>\n",
       "      <td>W 19</td>\n",
       "      <td>weekend</td>\n",
       "      <td>RT1</td>\n",
       "      <td>Standard</td>\n",
       "    </tr>\n",
       "  </tbody>\n",
       "</table>\n",
       "<p>5 rows × 21 columns</p>\n",
       "</div>"
      ],
      "text/plain": [
       "         booking_id  property_id booking_date check_in_date checkout_date  \\\n",
       "0  May012216558RT12        16558     30-04-22    2022-05-01      2/5/2022   \n",
       "1  May012216558RT15        16558     27-04-22    2022-05-01      2/5/2022   \n",
       "2  May012216558RT16        16558     1/5/2022    2022-05-01      3/5/2022   \n",
       "3  May012216558RT17        16558     28-04-22    2022-05-01      6/5/2022   \n",
       "4  May012216558RT18        16558     26-04-22    2022-05-01      3/5/2022   \n",
       "\n",
       "   no_guests room_category booking_platform  ratings_given booking_status  \\\n",
       "0        2.0           RT1           others            NaN      Cancelled   \n",
       "1        4.0           RT1    direct online            5.0    Checked Out   \n",
       "2        2.0           RT1           others            4.0    Checked Out   \n",
       "3        2.0           RT1           others            NaN      Cancelled   \n",
       "4        2.0           RT1          logtrip            NaN        No Show   \n",
       "\n",
       "   ...  revenue_realized  property_name category   city       date  mmm yy  \\\n",
       "0  ...              3640   Atliq Grands   Luxury  Delhi 2022-05-01  May 22   \n",
       "1  ...             10920   Atliq Grands   Luxury  Delhi 2022-05-01  May 22   \n",
       "2  ...              9100   Atliq Grands   Luxury  Delhi 2022-05-01  May 22   \n",
       "3  ...              3640   Atliq Grands   Luxury  Delhi 2022-05-01  May 22   \n",
       "4  ...              9100   Atliq Grands   Luxury  Delhi 2022-05-01  May 22   \n",
       "\n",
       "  week no day_type room_id room_class  \n",
       "0    W 19  weekend     RT1   Standard  \n",
       "1    W 19  weekend     RT1   Standard  \n",
       "2    W 19  weekend     RT1   Standard  \n",
       "3    W 19  weekend     RT1   Standard  \n",
       "4    W 19  weekend     RT1   Standard  \n",
       "\n",
       "[5 rows x 21 columns]"
      ]
     },
     "execution_count": 423,
     "metadata": {},
     "output_type": "execute_result"
    }
   ],
   "source": [
    "df_bookings_all.head(5)"
   ]
  },
  {
   "cell_type": "code",
   "execution_count": 430,
   "id": "dd362a1a",
   "metadata": {},
   "outputs": [
    {
     "data": {
      "text/plain": [
       "<Axes: xlabel='ratings given', ylabel='city'>"
      ]
     },
     "execution_count": 430,
     "metadata": {},
     "output_type": "execute_result"
    },
    {
     "data": {
      "image/png": "[encoded data removed]",
      "text/plain": [
       "<Figure size 640x480 with 1 Axes>"
      ]
     },
     "metadata": {},
     "output_type": "display_data"
    }
   ],
   "source": [
    "df_bookings_all.groupby(\"city\")[\"ratings_given\"].mean().round(2).plot(kind=\"barh\",xlabel=\"ratings given\")"
   ]
  },
  {
   "cell_type": "markdown",
   "id": "c2c3e5f5",
   "metadata": {},
   "source": [
    "**pie chart of revenue realized per booking platform**"
   ]
  },
  {
   "cell_type": "code",
   "execution_count": 431,
   "id": "26c8b21a",
   "metadata": {},
   "outputs": [
    {
     "data": {
      "text/plain": [
       "booking_platform\n",
       "direct offline     86374933\n",
       "direct online     168948637\n",
       "journey           102531334\n",
       "logtrip           187494028\n",
       "makeyourtrip      340814104\n",
       "others            699306762\n",
       "tripster          123066801\n",
       "Name: revenue_realized, dtype: int64"
      ]
     },
     "execution_count": 431,
     "metadata": {},
     "output_type": "execute_result"
    }
   ],
   "source": [
    "df_bookings_all.groupby(\"booking_platform\")[\"revenue_realized\"].sum()"
   ]
  },
  {
   "cell_type": "code",
   "execution_count": 435,
   "id": "054d38ee",
   "metadata": {},
   "outputs": [
    {
     "data": {
      "text/plain": [
       "<Axes: title={'center': 'reveue realized across platforms'}>"
      ]
     },
     "execution_count": 435,
     "metadata": {},
     "output_type": "execute_result"
    },
    {
     "data": {
      "image/png": "[encoded data removed]",
      "text/plain": [
       "<Figure size 640x480 with 1 Axes>"
      ]
     },
     "metadata": {},
     "output_type": "display_data"
    }
   ],
   "source": [
    "df_bookings_all.groupby(\"booking_platform\")[\"revenue_realized\"].sum().plot(kind=\"pie\",ylabel=\"\",autopct='%1.1f%%',title=\"reveue realized across platforms\")"
   ]
  },
  {
   "cell_type": "code",
   "execution_count": null,
   "id": "85c066e1",
   "metadata": {},
   "outputs": [],
   "source": []
  }
 ],
 "metadata": {
  "kernelspec": {
   "display_name": "Python 3 (ipykernel)",
   "language": "python",
   "name": "python3"
  },
  "language_info": {
   "codemirror_mode": {
    "name": "ipython",
    "version": 3
   },
   "file_extension": ".py",
   "mimetype": "text/x-python",
   "name": "python",
   "nbconvert_exporter": "python",
   "pygments_lexer": "ipython3",
   "version": "3.8.10"
  }
 },
 "nbformat": 4,
 "nbformat_minor": 5
}
